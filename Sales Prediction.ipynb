{
 "cells": [
  {
   "cell_type": "code",
   "execution_count": 1,
   "metadata": {},
   "outputs": [],
   "source": [
    "import numpy as np\n",
    "import pandas as pd\n",
    "import matplotlib.pyplot as plt\n",
    "import seaborn as sns\n",
    "import statsmodels as sm\n",
    "import statsmodels.api as sm"
   ]
  },
  {
   "cell_type": "code",
   "execution_count": 2,
   "metadata": {},
   "outputs": [
    {
     "name": "stdout",
     "output_type": "stream",
     "text": [
      "3.7.3\n"
     ]
    }
   ],
   "source": [
    "from platform import python_version\n",
    ">>> print(python_version())"
   ]
  },
  {
   "cell_type": "markdown",
   "metadata": {},
   "source": [
    "## Problem Statement\n",
    "The data scientists at BigMart have collected 2013 sales data for 1559 products across 10 stores in different cities. Also, certain attributes of each product and store have been defined.\n",
    "\n",
    "The aim is to build a predictive model and find out the sales of each product at a particular store.\n",
    "Using this model, BigMart will try to understand the properties of products and stores which play a key role in increasing sales.\n",
    "\n",
    "Please note that the data may have missing values as some stores might not report all the data due to technical glitches. Hence, it will be required to treat them accordingly."
   ]
  },
  {
   "cell_type": "raw",
   "metadata": {},
   "source": [
    "Data We have train (8523) and test (5681) data set, train data set has both input and output variable(s). You need to predict the sales for test data set.\n",
    "\n",
    "Variable : Description\n",
    "\n",
    "Item_Identifier : Unique product ID\n",
    "\n",
    "Item_Weight : Weight of product\n",
    "\n",
    "Item_Fat_Content : Whether the product is low fat or not\n",
    "\n",
    "Item_Visibility : The % of total display area of all products in a store allocated to the particular product\n",
    "\n",
    "Item_Type : The category to which the product belongs\n",
    "\n",
    "Item_MRP : Maximum Retail Price (list price) of the product\n",
    "\n",
    "Outlet_Identifier : Unique store ID\n",
    "\n",
    "Outlet_Establishment_Year : The year in which store was established\n",
    "\n",
    "Outlet_Size : The size of the store in terms of ground area covered\n",
    "\n",
    "Outlet_Location_Type : The type of city in which the store is located\n",
    "\n",
    "Outlet_Type : Whether the outlet is just a grocery store or some sort of supermarket\n",
    "\n",
    "Item_Outlet_Sales : Sales of the product in the particulat store. This is the outcome variable to be predicted."
   ]
  },
  {
   "cell_type": "code",
   "execution_count": 3,
   "metadata": {},
   "outputs": [],
   "source": [
    "train = pd.read_csv(r\"D:\\GreatLearning\\Datasets\\big-mart-sales-prediction\\Train.csv\")"
   ]
  },
  {
   "cell_type": "code",
   "execution_count": 4,
   "metadata": {},
   "outputs": [],
   "source": [
    "test = pd.read_csv(r\"D:\\GreatLearning\\Datasets\\big-mart-sales-prediction\\Test.csv\")"
   ]
  },
  {
   "cell_type": "code",
   "execution_count": 5,
   "metadata": {},
   "outputs": [],
   "source": [
    "data = pd.concat([train,test],sort = False, ignore_index=True)"
   ]
  },
  {
   "cell_type": "code",
   "execution_count": 6,
   "metadata": {},
   "outputs": [
    {
     "data": {
      "text/html": [
       "<div>\n",
       "<style scoped>\n",
       "    .dataframe tbody tr th:only-of-type {\n",
       "        vertical-align: middle;\n",
       "    }\n",
       "\n",
       "    .dataframe tbody tr th {\n",
       "        vertical-align: top;\n",
       "    }\n",
       "\n",
       "    .dataframe thead th {\n",
       "        text-align: right;\n",
       "    }\n",
       "</style>\n",
       "<table border=\"1\" class=\"dataframe\">\n",
       "  <thead>\n",
       "    <tr style=\"text-align: right;\">\n",
       "      <th></th>\n",
       "      <th>Item_Identifier</th>\n",
       "      <th>Item_Weight</th>\n",
       "      <th>Item_Fat_Content</th>\n",
       "      <th>Item_Visibility</th>\n",
       "      <th>Item_Type</th>\n",
       "      <th>Item_MRP</th>\n",
       "      <th>Outlet_Identifier</th>\n",
       "      <th>Outlet_Establishment_Year</th>\n",
       "      <th>Outlet_Size</th>\n",
       "      <th>Outlet_Location_Type</th>\n",
       "      <th>Outlet_Type</th>\n",
       "      <th>Item_Outlet_Sales</th>\n",
       "    </tr>\n",
       "  </thead>\n",
       "  <tbody>\n",
       "    <tr>\n",
       "      <th>0</th>\n",
       "      <td>FDA15</td>\n",
       "      <td>9.30</td>\n",
       "      <td>Low Fat</td>\n",
       "      <td>0.016047</td>\n",
       "      <td>Dairy</td>\n",
       "      <td>249.8092</td>\n",
       "      <td>OUT049</td>\n",
       "      <td>1999</td>\n",
       "      <td>Medium</td>\n",
       "      <td>Tier 1</td>\n",
       "      <td>Supermarket Type1</td>\n",
       "      <td>3735.1380</td>\n",
       "    </tr>\n",
       "    <tr>\n",
       "      <th>1</th>\n",
       "      <td>DRC01</td>\n",
       "      <td>5.92</td>\n",
       "      <td>Regular</td>\n",
       "      <td>0.019278</td>\n",
       "      <td>Soft Drinks</td>\n",
       "      <td>48.2692</td>\n",
       "      <td>OUT018</td>\n",
       "      <td>2009</td>\n",
       "      <td>Medium</td>\n",
       "      <td>Tier 3</td>\n",
       "      <td>Supermarket Type2</td>\n",
       "      <td>443.4228</td>\n",
       "    </tr>\n",
       "    <tr>\n",
       "      <th>2</th>\n",
       "      <td>FDN15</td>\n",
       "      <td>17.50</td>\n",
       "      <td>Low Fat</td>\n",
       "      <td>0.016760</td>\n",
       "      <td>Meat</td>\n",
       "      <td>141.6180</td>\n",
       "      <td>OUT049</td>\n",
       "      <td>1999</td>\n",
       "      <td>Medium</td>\n",
       "      <td>Tier 1</td>\n",
       "      <td>Supermarket Type1</td>\n",
       "      <td>2097.2700</td>\n",
       "    </tr>\n",
       "    <tr>\n",
       "      <th>3</th>\n",
       "      <td>FDX07</td>\n",
       "      <td>19.20</td>\n",
       "      <td>Regular</td>\n",
       "      <td>0.000000</td>\n",
       "      <td>Fruits and Vegetables</td>\n",
       "      <td>182.0950</td>\n",
       "      <td>OUT010</td>\n",
       "      <td>1998</td>\n",
       "      <td>NaN</td>\n",
       "      <td>Tier 3</td>\n",
       "      <td>Grocery Store</td>\n",
       "      <td>732.3800</td>\n",
       "    </tr>\n",
       "    <tr>\n",
       "      <th>4</th>\n",
       "      <td>NCD19</td>\n",
       "      <td>8.93</td>\n",
       "      <td>Low Fat</td>\n",
       "      <td>0.000000</td>\n",
       "      <td>Household</td>\n",
       "      <td>53.8614</td>\n",
       "      <td>OUT013</td>\n",
       "      <td>1987</td>\n",
       "      <td>High</td>\n",
       "      <td>Tier 3</td>\n",
       "      <td>Supermarket Type1</td>\n",
       "      <td>994.7052</td>\n",
       "    </tr>\n",
       "  </tbody>\n",
       "</table>\n",
       "</div>"
      ],
      "text/plain": [
       "  Item_Identifier  Item_Weight Item_Fat_Content  Item_Visibility  \\\n",
       "0           FDA15         9.30          Low Fat         0.016047   \n",
       "1           DRC01         5.92          Regular         0.019278   \n",
       "2           FDN15        17.50          Low Fat         0.016760   \n",
       "3           FDX07        19.20          Regular         0.000000   \n",
       "4           NCD19         8.93          Low Fat         0.000000   \n",
       "\n",
       "               Item_Type  Item_MRP Outlet_Identifier  \\\n",
       "0                  Dairy  249.8092            OUT049   \n",
       "1            Soft Drinks   48.2692            OUT018   \n",
       "2                   Meat  141.6180            OUT049   \n",
       "3  Fruits and Vegetables  182.0950            OUT010   \n",
       "4              Household   53.8614            OUT013   \n",
       "\n",
       "   Outlet_Establishment_Year Outlet_Size Outlet_Location_Type  \\\n",
       "0                       1999      Medium               Tier 1   \n",
       "1                       2009      Medium               Tier 3   \n",
       "2                       1999      Medium               Tier 1   \n",
       "3                       1998         NaN               Tier 3   \n",
       "4                       1987        High               Tier 3   \n",
       "\n",
       "         Outlet_Type  Item_Outlet_Sales  \n",
       "0  Supermarket Type1          3735.1380  \n",
       "1  Supermarket Type2           443.4228  \n",
       "2  Supermarket Type1          2097.2700  \n",
       "3      Grocery Store           732.3800  \n",
       "4  Supermarket Type1           994.7052  "
      ]
     },
     "execution_count": 6,
     "metadata": {},
     "output_type": "execute_result"
    }
   ],
   "source": [
    "data.head()"
   ]
  },
  {
   "cell_type": "code",
   "execution_count": 7,
   "metadata": {},
   "outputs": [],
   "source": [
    "answer = pd.read_csv(r\"D:\\GreatLearning\\Datasets\\big-mart-sales-prediction\\Submission.csv\")"
   ]
  },
  {
   "cell_type": "code",
   "execution_count": 8,
   "metadata": {},
   "outputs": [
    {
     "data": {
      "text/html": [
       "<div>\n",
       "<style scoped>\n",
       "    .dataframe tbody tr th:only-of-type {\n",
       "        vertical-align: middle;\n",
       "    }\n",
       "\n",
       "    .dataframe tbody tr th {\n",
       "        vertical-align: top;\n",
       "    }\n",
       "\n",
       "    .dataframe thead th {\n",
       "        text-align: right;\n",
       "    }\n",
       "</style>\n",
       "<table border=\"1\" class=\"dataframe\">\n",
       "  <thead>\n",
       "    <tr style=\"text-align: right;\">\n",
       "      <th></th>\n",
       "      <th>Unnamed: 0</th>\n",
       "      <th>Item_Identifier</th>\n",
       "      <th>Outlet_Identifier</th>\n",
       "      <th>Item_Outlet_Sales</th>\n",
       "    </tr>\n",
       "  </thead>\n",
       "  <tbody>\n",
       "    <tr>\n",
       "      <th>0</th>\n",
       "      <td>0</td>\n",
       "      <td>FDW58</td>\n",
       "      <td>OUT049</td>\n",
       "      <td>1636.244023</td>\n",
       "    </tr>\n",
       "    <tr>\n",
       "      <th>1</th>\n",
       "      <td>1</td>\n",
       "      <td>FDW14</td>\n",
       "      <td>OUT017</td>\n",
       "      <td>1409.355910</td>\n",
       "    </tr>\n",
       "    <tr>\n",
       "      <th>2</th>\n",
       "      <td>2</td>\n",
       "      <td>NCN55</td>\n",
       "      <td>OUT010</td>\n",
       "      <td>710.594286</td>\n",
       "    </tr>\n",
       "    <tr>\n",
       "      <th>3</th>\n",
       "      <td>3</td>\n",
       "      <td>FDQ58</td>\n",
       "      <td>OUT017</td>\n",
       "      <td>2355.184955</td>\n",
       "    </tr>\n",
       "    <tr>\n",
       "      <th>4</th>\n",
       "      <td>4</td>\n",
       "      <td>FDY38</td>\n",
       "      <td>OUT027</td>\n",
       "      <td>5857.916205</td>\n",
       "    </tr>\n",
       "  </tbody>\n",
       "</table>\n",
       "</div>"
      ],
      "text/plain": [
       "   Unnamed: 0 Item_Identifier Outlet_Identifier  Item_Outlet_Sales\n",
       "0           0           FDW58            OUT049        1636.244023\n",
       "1           1           FDW14            OUT017        1409.355910\n",
       "2           2           NCN55            OUT010         710.594286\n",
       "3           3           FDQ58            OUT017        2355.184955\n",
       "4           4           FDY38            OUT027        5857.916205"
      ]
     },
     "execution_count": 8,
     "metadata": {},
     "output_type": "execute_result"
    }
   ],
   "source": [
    "answer.head()"
   ]
  },
  {
   "cell_type": "code",
   "execution_count": 9,
   "metadata": {},
   "outputs": [
    {
     "data": {
      "text/plain": [
       "(14204, 12)"
      ]
     },
     "execution_count": 9,
     "metadata": {},
     "output_type": "execute_result"
    }
   ],
   "source": [
    "data.shape"
   ]
  },
  {
   "cell_type": "code",
   "execution_count": 10,
   "metadata": {},
   "outputs": [
    {
     "data": {
      "text/plain": [
       "(8523, 12)"
      ]
     },
     "execution_count": 10,
     "metadata": {},
     "output_type": "execute_result"
    }
   ],
   "source": [
    "train.shape"
   ]
  },
  {
   "cell_type": "code",
   "execution_count": 11,
   "metadata": {},
   "outputs": [
    {
     "data": {
      "text/plain": [
       "(5681, 11)"
      ]
     },
     "execution_count": 11,
     "metadata": {},
     "output_type": "execute_result"
    }
   ],
   "source": [
    "test.shape"
   ]
  },
  {
   "cell_type": "code",
   "execution_count": 12,
   "metadata": {},
   "outputs": [
    {
     "name": "stdout",
     "output_type": "stream",
     "text": [
      "<class 'pandas.core.frame.DataFrame'>\n",
      "RangeIndex: 14204 entries, 0 to 14203\n",
      "Data columns (total 12 columns):\n",
      "Item_Identifier              14204 non-null object\n",
      "Item_Weight                  11765 non-null float64\n",
      "Item_Fat_Content             14204 non-null object\n",
      "Item_Visibility              14204 non-null float64\n",
      "Item_Type                    14204 non-null object\n",
      "Item_MRP                     14204 non-null float64\n",
      "Outlet_Identifier            14204 non-null object\n",
      "Outlet_Establishment_Year    14204 non-null int64\n",
      "Outlet_Size                  10188 non-null object\n",
      "Outlet_Location_Type         14204 non-null object\n",
      "Outlet_Type                  14204 non-null object\n",
      "Item_Outlet_Sales            8523 non-null float64\n",
      "dtypes: float64(4), int64(1), object(7)\n",
      "memory usage: 1.3+ MB\n"
     ]
    }
   ],
   "source": [
    "data.info()"
   ]
  },
  {
   "cell_type": "markdown",
   "metadata": {},
   "source": [
    "# We have 5 numerical variablea and 7 categorical variables and there are missing values in the data."
   ]
  },
  {
   "cell_type": "code",
   "execution_count": 13,
   "metadata": {},
   "outputs": [
    {
     "data": {
      "text/plain": [
       "Item_Identifier                 0\n",
       "Item_Weight                  2439\n",
       "Item_Fat_Content                0\n",
       "Item_Visibility                 0\n",
       "Item_Type                       0\n",
       "Item_MRP                        0\n",
       "Outlet_Identifier               0\n",
       "Outlet_Establishment_Year       0\n",
       "Outlet_Size                  4016\n",
       "Outlet_Location_Type            0\n",
       "Outlet_Type                     0\n",
       "Item_Outlet_Sales            5681\n",
       "dtype: int64"
      ]
     },
     "execution_count": 13,
     "metadata": {},
     "output_type": "execute_result"
    }
   ],
   "source": [
    "data.isnull().sum()"
   ]
  },
  {
   "cell_type": "code",
   "execution_count": 14,
   "metadata": {},
   "outputs": [
    {
     "data": {
      "text/html": [
       "<div>\n",
       "<style scoped>\n",
       "    .dataframe tbody tr th:only-of-type {\n",
       "        vertical-align: middle;\n",
       "    }\n",
       "\n",
       "    .dataframe tbody tr th {\n",
       "        vertical-align: top;\n",
       "    }\n",
       "\n",
       "    .dataframe thead th {\n",
       "        text-align: right;\n",
       "    }\n",
       "</style>\n",
       "<table border=\"1\" class=\"dataframe\">\n",
       "  <thead>\n",
       "    <tr style=\"text-align: right;\">\n",
       "      <th></th>\n",
       "      <th>Item_Weight</th>\n",
       "      <th>Item_Visibility</th>\n",
       "      <th>Item_MRP</th>\n",
       "      <th>Outlet_Establishment_Year</th>\n",
       "      <th>Item_Outlet_Sales</th>\n",
       "    </tr>\n",
       "  </thead>\n",
       "  <tbody>\n",
       "    <tr>\n",
       "      <th>count</th>\n",
       "      <td>11765.000000</td>\n",
       "      <td>14204.000000</td>\n",
       "      <td>14204.000000</td>\n",
       "      <td>14204.000000</td>\n",
       "      <td>8523.000000</td>\n",
       "    </tr>\n",
       "    <tr>\n",
       "      <th>mean</th>\n",
       "      <td>12.792854</td>\n",
       "      <td>0.065953</td>\n",
       "      <td>141.004977</td>\n",
       "      <td>1997.830681</td>\n",
       "      <td>2181.288914</td>\n",
       "    </tr>\n",
       "    <tr>\n",
       "      <th>std</th>\n",
       "      <td>4.652502</td>\n",
       "      <td>0.051459</td>\n",
       "      <td>62.086938</td>\n",
       "      <td>8.371664</td>\n",
       "      <td>1706.499616</td>\n",
       "    </tr>\n",
       "    <tr>\n",
       "      <th>min</th>\n",
       "      <td>4.555000</td>\n",
       "      <td>0.000000</td>\n",
       "      <td>31.290000</td>\n",
       "      <td>1985.000000</td>\n",
       "      <td>33.290000</td>\n",
       "    </tr>\n",
       "    <tr>\n",
       "      <th>25%</th>\n",
       "      <td>8.710000</td>\n",
       "      <td>0.027036</td>\n",
       "      <td>94.012000</td>\n",
       "      <td>1987.000000</td>\n",
       "      <td>834.247400</td>\n",
       "    </tr>\n",
       "    <tr>\n",
       "      <th>50%</th>\n",
       "      <td>12.600000</td>\n",
       "      <td>0.054021</td>\n",
       "      <td>142.247000</td>\n",
       "      <td>1999.000000</td>\n",
       "      <td>1794.331000</td>\n",
       "    </tr>\n",
       "    <tr>\n",
       "      <th>75%</th>\n",
       "      <td>16.750000</td>\n",
       "      <td>0.094037</td>\n",
       "      <td>185.855600</td>\n",
       "      <td>2004.000000</td>\n",
       "      <td>3101.296400</td>\n",
       "    </tr>\n",
       "    <tr>\n",
       "      <th>max</th>\n",
       "      <td>21.350000</td>\n",
       "      <td>0.328391</td>\n",
       "      <td>266.888400</td>\n",
       "      <td>2009.000000</td>\n",
       "      <td>13086.964800</td>\n",
       "    </tr>\n",
       "  </tbody>\n",
       "</table>\n",
       "</div>"
      ],
      "text/plain": [
       "        Item_Weight  Item_Visibility      Item_MRP  Outlet_Establishment_Year  \\\n",
       "count  11765.000000     14204.000000  14204.000000               14204.000000   \n",
       "mean      12.792854         0.065953    141.004977                1997.830681   \n",
       "std        4.652502         0.051459     62.086938                   8.371664   \n",
       "min        4.555000         0.000000     31.290000                1985.000000   \n",
       "25%        8.710000         0.027036     94.012000                1987.000000   \n",
       "50%       12.600000         0.054021    142.247000                1999.000000   \n",
       "75%       16.750000         0.094037    185.855600                2004.000000   \n",
       "max       21.350000         0.328391    266.888400                2009.000000   \n",
       "\n",
       "       Item_Outlet_Sales  \n",
       "count        8523.000000  \n",
       "mean         2181.288914  \n",
       "std          1706.499616  \n",
       "min            33.290000  \n",
       "25%           834.247400  \n",
       "50%          1794.331000  \n",
       "75%          3101.296400  \n",
       "max         13086.964800  "
      ]
     },
     "execution_count": 14,
     "metadata": {},
     "output_type": "execute_result"
    }
   ],
   "source": [
    "data.describe()"
   ]
  },
  {
   "cell_type": "markdown",
   "metadata": {},
   "source": [
    "# Now, to check number of categories in each categorical variable. If a categorical predictor contains too many unique values we will treat them accordingly.\n"
   ]
  },
  {
   "cell_type": "code",
   "execution_count": 15,
   "metadata": {},
   "outputs": [
    {
     "data": {
      "text/html": [
       "<div>\n",
       "<style scoped>\n",
       "    .dataframe tbody tr th:only-of-type {\n",
       "        vertical-align: middle;\n",
       "    }\n",
       "\n",
       "    .dataframe tbody tr th {\n",
       "        vertical-align: top;\n",
       "    }\n",
       "\n",
       "    .dataframe thead th {\n",
       "        text-align: right;\n",
       "    }\n",
       "</style>\n",
       "<table border=\"1\" class=\"dataframe\">\n",
       "  <thead>\n",
       "    <tr style=\"text-align: right;\">\n",
       "      <th></th>\n",
       "      <th>Categorical Feature</th>\n",
       "      <th>Number of unique values</th>\n",
       "    </tr>\n",
       "  </thead>\n",
       "  <tbody>\n",
       "    <tr>\n",
       "      <th>0</th>\n",
       "      <td>Item_Identifier</td>\n",
       "      <td>1559</td>\n",
       "    </tr>\n",
       "    <tr>\n",
       "      <th>1</th>\n",
       "      <td>Item_Fat_Content</td>\n",
       "      <td>5</td>\n",
       "    </tr>\n",
       "    <tr>\n",
       "      <th>2</th>\n",
       "      <td>Item_Type</td>\n",
       "      <td>16</td>\n",
       "    </tr>\n",
       "    <tr>\n",
       "      <th>3</th>\n",
       "      <td>Outlet_Identifier</td>\n",
       "      <td>10</td>\n",
       "    </tr>\n",
       "    <tr>\n",
       "      <th>4</th>\n",
       "      <td>Outlet_Size</td>\n",
       "      <td>3</td>\n",
       "    </tr>\n",
       "    <tr>\n",
       "      <th>5</th>\n",
       "      <td>Outlet_Location_Type</td>\n",
       "      <td>3</td>\n",
       "    </tr>\n",
       "    <tr>\n",
       "      <th>6</th>\n",
       "      <td>Outlet_Type</td>\n",
       "      <td>4</td>\n",
       "    </tr>\n",
       "  </tbody>\n",
       "</table>\n",
       "</div>"
      ],
      "text/plain": [
       "    Categorical Feature  Number of unique values\n",
       "0       Item_Identifier                     1559\n",
       "1      Item_Fat_Content                        5\n",
       "2             Item_Type                       16\n",
       "3     Outlet_Identifier                       10\n",
       "4           Outlet_Size                        3\n",
       "5  Outlet_Location_Type                        3\n",
       "6           Outlet_Type                        4"
      ]
     },
     "execution_count": 15,
     "metadata": {},
     "output_type": "execute_result"
    }
   ],
   "source": [
    "cat_var=[]\n",
    "no_of_var=[]\n",
    "for x in data.columns:\n",
    "    if data[x].dtype=='object':\n",
    "        cat_var.append(x)\n",
    "        no_of_var.append(data[x].nunique())\n",
    "        \n",
    "pd.DataFrame({'Categorical Feature':cat_var,\n",
    "            'Number of unique values':no_of_var})"
   ]
  },
  {
   "cell_type": "raw",
   "metadata": {},
   "source": [
    "We will be looking at Outlet_Establishmen_Year as a category."
   ]
  },
  {
   "cell_type": "code",
   "execution_count": 16,
   "metadata": {},
   "outputs": [],
   "source": [
    "data['Outlet_Establishment_Year']=data.Outlet_Establishment_Year.astype('object')"
   ]
  },
  {
   "cell_type": "code",
   "execution_count": 17,
   "metadata": {},
   "outputs": [
    {
     "data": {
      "text/plain": [
       "9"
      ]
     },
     "execution_count": 17,
     "metadata": {},
     "output_type": "execute_result"
    }
   ],
   "source": [
    "data['Outlet_Establishment_Year'].nunique()"
   ]
  },
  {
   "cell_type": "markdown",
   "metadata": {},
   "source": [
    "# The Numerical features are:"
   ]
  },
  {
   "cell_type": "code",
   "execution_count": 18,
   "metadata": {},
   "outputs": [
    {
     "name": "stdout",
     "output_type": "stream",
     "text": [
      "Item_Weight\n",
      "Item_Visibility\n",
      "Item_MRP\n",
      "Item_Outlet_Sales\n"
     ]
    }
   ],
   "source": [
    "cat_var=[]\n",
    "no_of_var=[]\n",
    "for x in data.columns:\n",
    "    if (data[x].dtype=='int32')|(data[x].dtype=='int64')|(data[x].dtype=='float32')|(data[x].dtype=='float64'):\n",
    "        print(x)"
   ]
  },
  {
   "cell_type": "markdown",
   "metadata": {},
   "source": [
    "# Now we treat the missing values accordingly."
   ]
  },
  {
   "cell_type": "code",
   "execution_count": 19,
   "metadata": {},
   "outputs": [
    {
     "data": {
      "text/plain": [
       "array(['Low Fat', 'Regular', 'low fat', 'LF', 'reg'], dtype=object)"
      ]
     },
     "execution_count": 19,
     "metadata": {},
     "output_type": "execute_result"
    }
   ],
   "source": [
    "data.Item_Fat_Content.unique()\n",
    "#There are different strings pointing to the same category, so we replace them. "
   ]
  },
  {
   "cell_type": "code",
   "execution_count": 20,
   "metadata": {},
   "outputs": [],
   "source": [
    "data.Item_Fat_Content.replace(to_replace=['Low Fat','low fat', 'LF'],value=['Low Fat']*3,inplace=True)"
   ]
  },
  {
   "cell_type": "code",
   "execution_count": 21,
   "metadata": {},
   "outputs": [],
   "source": [
    "train.Item_Fat_Content.replace(to_replace=['Low Fat','low fat', 'LF'],value=['Low Fat']*3,inplace=True)\n",
    "test.Item_Fat_Content.replace(to_replace=['Low Fat','low fat', 'LF'],value=['Low Fat']*3,inplace=True)"
   ]
  },
  {
   "cell_type": "code",
   "execution_count": 22,
   "metadata": {},
   "outputs": [],
   "source": [
    "data.Item_Fat_Content.replace(to_replace=['Regular','reg'],value=['Regular']*2,inplace=True)"
   ]
  },
  {
   "cell_type": "code",
   "execution_count": 23,
   "metadata": {},
   "outputs": [],
   "source": [
    "train.Item_Fat_Content.replace(to_replace=['Regular','reg'],value=['Regular']*2,inplace=True)\n",
    "test.Item_Fat_Content.replace(to_replace=['Regular','reg'],value=['Regular']*2,inplace=True)"
   ]
  },
  {
   "cell_type": "markdown",
   "metadata": {},
   "source": [
    "# Univariate Analysis"
   ]
  },
  {
   "cell_type": "markdown",
   "metadata": {},
   "source": [
    "# First we try to establish the nature of data."
   ]
  },
  {
   "cell_type": "code",
   "execution_count": 157,
   "metadata": {},
   "outputs": [
    {
     "name": "stdout",
     "output_type": "stream",
     "text": [
      "skewness for the distribution of Item Outlet Sales is 1.1775306028542798\n",
      "kurtosis for the distribution of Item Outlet Sales is 1.6158766814287264\n"
     ]
    },
    {
     "data": {
      "text/plain": [
       "<matplotlib.axes._subplots.AxesSubplot at 0x1f3bcfd8208>"
      ]
     },
     "execution_count": 157,
     "metadata": {},
     "output_type": "execute_result"
    },
    {
     "data": {
      "image/png": "[encoded data removed]",
      "text/plain": [
       "<Figure size 432x288 with 1 Axes>"
      ]
     },
     "metadata": {},
     "output_type": "display_data"
    }
   ],
   "source": [
    "print('skewness for the distribution of Item Outlet Sales is',train['Item_Outlet_Sales'].skew())\n",
    "print('kurtosis for the distribution of Item Outlet Sales is',train['Item_Outlet_Sales'].kurtosis())\n",
    "sns.distplot(train.Item_Outlet_Sales)"
   ]
  },
  {
   "cell_type": "code",
   "execution_count": 25,
   "metadata": {},
   "outputs": [
    {
     "data": {
      "text/plain": [
       "<matplotlib.axes._subplots.AxesSubplot at 0x1f3b1ec6ac8>"
      ]
     },
     "execution_count": 25,
     "metadata": {},
     "output_type": "execute_result"
    },
    {
     "data": {
      "image/png": "[encoded data removed]",
      "text/plain": [
       "<Figure size 432x288 with 1 Axes>"
      ]
     },
     "metadata": {
      "needs_background": "light"
     },
     "output_type": "display_data"
    }
   ],
   "source": [
    "sns.boxplot(data['Item_Outlet_Sales'])"
   ]
  },
  {
   "cell_type": "markdown",
   "metadata": {},
   "source": [
    "# The distribution of the output is highly skewed and does not follow a parametric distribution. It all has outliers."
   ]
  },
  {
   "cell_type": "markdown",
   "metadata": {},
   "source": [
    "# We now need to go for transforming the data as the data is non-linear and for regression it is imperative that we have linear data.\n",
    "#There are 4 ways of transforming non-linear data:\n",
    "1) Square transformation\n",
    "\n",
    "2) Cube root transformation\n",
    "\n",
    "3) Log transformation\n",
    "\n",
    "4) Box-Cox Transformation"
   ]
  },
  {
   "cell_type": "markdown",
   "metadata": {},
   "source": [
    "# We use Square Tranformation, since it gave the least error."
   ]
  },
  {
   "cell_type": "code",
   "execution_count": 26,
   "metadata": {},
   "outputs": [
    {
     "name": "stdout",
     "output_type": "stream",
     "text": [
      "Skewness for this distribution is 0.23467599347099255\n"
     ]
    },
    {
     "data": {
      "text/plain": [
       "<matplotlib.axes._subplots.AxesSubplot at 0x1f3b1f6b940>"
      ]
     },
     "execution_count": 26,
     "metadata": {},
     "output_type": "execute_result"
    },
    {
     "data": {
      "image/png": "[encoded data removed]",
      "text/plain": [
       "<Figure size 432x288 with 1 Axes>"
      ]
     },
     "metadata": {
      "needs_background": "light"
     },
     "output_type": "display_data"
    }
   ],
   "source": [
    "print('Skewness for this distribution is',(train.Item_Outlet_Sales**0.5).skew())\n",
    "sns.distplot((train.Item_Outlet_Sales**0.5))"
   ]
  },
  {
   "cell_type": "markdown",
   "metadata": {},
   "source": [
    "# To further establish that the output distribution does not follow normal distribution, we use the Shapiro test for test of normality."
   ]
  },
  {
   "cell_type": "code",
   "execution_count": 27,
   "metadata": {},
   "outputs": [
    {
     "name": "stderr",
     "output_type": "stream",
     "text": [
      "C:\\Users\\Navika\\Anaconda3\\lib\\site-packages\\scipy\\stats\\morestats.py:1653: UserWarning: p-value may not be accurate for N > 5000.\n",
      "  warnings.warn(\"p-value may not be accurate for N > 5000.\")\n"
     ]
    },
    {
     "data": {
      "text/plain": [
       "(0.9094116687774658, 0.0)"
      ]
     },
     "execution_count": 27,
     "metadata": {},
     "output_type": "execute_result"
    }
   ],
   "source": [
    "from scipy import stats as sm\n",
    "sm.shapiro(train.Item_Outlet_Sales)"
   ]
  },
  {
   "cell_type": "raw",
   "metadata": {},
   "source": [
    "p- value is :0.0\n",
    "The Shapiro-Wilk test tests the null hypothesis that the data was drawn from a normal distribution.\n",
    "Since p values is less than 0.05 then we reject the null hypothesis.\n",
    "So: the distribution is not drawn from a normal distribution.\n",
    "So we need to do a normal distribution."
   ]
  },
  {
   "cell_type": "raw",
   "metadata": {},
   "source": [
    "Nonlinear tranformation. A nonlinear transformation changes (increases or decreases) linear relationships between variables and, thus, changes the correlation between variables. Examples of a nonlinear transformation of variable x would be taking the square root of x or the reciprocal of x."
   ]
  },
  {
   "cell_type": "raw",
   "metadata": {},
   "source": [
    "Later on we will be tranforming train and test for better results."
   ]
  },
  {
   "cell_type": "code",
   "execution_count": 28,
   "metadata": {},
   "outputs": [],
   "source": [
    "#------------------------------------------"
   ]
  },
  {
   "cell_type": "markdown",
   "metadata": {},
   "source": [
    "## Bivariate Analysis:\n",
    "We will use these analyses to assimilate the strength of the relation between two variables"
   ]
  },
  {
   "cell_type": "code",
   "execution_count": 29,
   "metadata": {},
   "outputs": [
    {
     "data": {
      "text/plain": [
       "<matplotlib.axes._subplots.AxesSubplot at 0x1f3b1dbc9b0>"
      ]
     },
     "execution_count": 29,
     "metadata": {},
     "output_type": "execute_result"
    },
    {
     "data": {
      "image/png": "[encoded data removed]",
      "text/plain": [
       "<Figure size 1584x720 with 1 Axes>"
      ]
     },
     "metadata": {
      "needs_background": "light"
     },
     "output_type": "display_data"
    }
   ],
   "source": [
    "plt.figure(figsize=(22,10))\n",
    "sns.boxplot(train.Item_Type,y=train.Item_Outlet_Sales)"
   ]
  },
  {
   "cell_type": "code",
   "execution_count": 30,
   "metadata": {},
   "outputs": [
    {
     "data": {
      "text/plain": [
       "<matplotlib.axes._subplots.AxesSubplot at 0x1f3b206b6d8>"
      ]
     },
     "execution_count": 30,
     "metadata": {},
     "output_type": "execute_result"
    },
    {
     "data": {
      "image/png": "[encoded data removed]",
      "text/plain": [
       "<Figure size 1800x720 with 1 Axes>"
      ]
     },
     "metadata": {
      "needs_background": "light"
     },
     "output_type": "display_data"
    }
   ],
   "source": [
    "plt.figure(figsize=(25,10))\n",
    "sns.countplot(data.Item_Type)"
   ]
  },
  {
   "cell_type": "raw",
   "metadata": {},
   "source": [
    "Observations: The average sales do not vary much as per every food type. But people bought Fruits and Vegetables the most."
   ]
  },
  {
   "cell_type": "code",
   "execution_count": 31,
   "metadata": {},
   "outputs": [
    {
     "data": {
      "text/plain": [
       "<matplotlib.axes._subplots.AxesSubplot at 0x1f3b225cd68>"
      ]
     },
     "execution_count": 31,
     "metadata": {},
     "output_type": "execute_result"
    },
    {
     "data": {
      "image/png": "[encoded data removed]",
      "text/plain": [
       "<Figure size 1080x360 with 1 Axes>"
      ]
     },
     "metadata": {
      "needs_background": "light"
     },
     "output_type": "display_data"
    }
   ],
   "source": [
    "plt.figure(figsize=(15,5))\n",
    "sns.boxplot(x=train.Outlet_Type,y=train.Item_Outlet_Sales)"
   ]
  },
  {
   "cell_type": "raw",
   "metadata": {},
   "source": [
    "Item sales does differ according to Outlet type."
   ]
  },
  {
   "cell_type": "code",
   "execution_count": 32,
   "metadata": {},
   "outputs": [
    {
     "data": {
      "text/plain": [
       "<matplotlib.axes._subplots.AxesSubplot at 0x1f3b2672b00>"
      ]
     },
     "execution_count": 32,
     "metadata": {},
     "output_type": "execute_result"
    },
    {
     "data": {
      "image/png": "[encoded data removed]",
      "text/plain": [
       "<Figure size 432x288 with 1 Axes>"
      ]
     },
     "metadata": {
      "needs_background": "light"
     },
     "output_type": "display_data"
    }
   ],
   "source": [
    "sns.boxplot(x=train.Outlet_Location_Type,y=train.Item_Outlet_Sales)"
   ]
  },
  {
   "cell_type": "raw",
   "metadata": {},
   "source": [
    "The item sales don't appear to vary per location type."
   ]
  },
  {
   "cell_type": "code",
   "execution_count": 33,
   "metadata": {},
   "outputs": [
    {
     "data": {
      "text/plain": [
       "<matplotlib.axes._subplots.AxesSubplot at 0x1f3b2672320>"
      ]
     },
     "execution_count": 33,
     "metadata": {},
     "output_type": "execute_result"
    },
    {
     "data": {
      "image/png": "[encoded data removed]",
      "text/plain": [
       "<Figure size 1080x576 with 1 Axes>"
      ]
     },
     "metadata": {
      "needs_background": "light"
     },
     "output_type": "display_data"
    }
   ],
   "source": [
    "plt.figure(figsize=(15,8))\n",
    "sns.boxplot(x=train.Outlet_Location_Type,y=train.Item_Outlet_Sales,hue=train.Outlet_Type)\n"
   ]
  },
  {
   "cell_type": "raw",
   "metadata": {},
   "source": [
    "#Another affirmation, that output sales differ according to the outlet type but not much by location type.\n",
    "#Note that the average sales of every supermarket type1 is same across all tiers."
   ]
  },
  {
   "cell_type": "code",
   "execution_count": 34,
   "metadata": {},
   "outputs": [
    {
     "data": {
      "text/plain": [
       "<matplotlib.axes._subplots.AxesSubplot at 0x1f3b2a3ea20>"
      ]
     },
     "execution_count": 34,
     "metadata": {},
     "output_type": "execute_result"
    },
    {
     "data": {
      "image/png": "[encoded data removed]",
      "text/plain": [
       "<Figure size 1080x576 with 1 Axes>"
      ]
     },
     "metadata": {
      "needs_background": "light"
     },
     "output_type": "display_data"
    }
   ],
   "source": [
    "plt.figure(figsize=(15,8))\n",
    "sns.boxplot(y=train.Outlet_Identifier,x=train.Item_Outlet_Sales)"
   ]
  },
  {
   "cell_type": "markdown",
   "metadata": {},
   "source": [
    "## The item Sales do vary according to the outlet identifier.  But the average sales for multiple outlet appear to be same, so there is not much variance, thus we will club all those identifiers into one category. So we will have to re-categorie the outlet_identifiers as per their average sales."
   ]
  },
  {
   "cell_type": "code",
   "execution_count": 35,
   "metadata": {},
   "outputs": [
    {
     "data": {
      "text/plain": [
       "Outlet_Identifier\n",
       "OUT010     339.351662\n",
       "OUT013    2298.995256\n",
       "OUT017    2340.675263\n",
       "OUT018    1995.498739\n",
       "OUT019     340.329723\n",
       "OUT027    3694.038558\n",
       "OUT035    2438.841866\n",
       "OUT045    2192.384798\n",
       "OUT046    2277.844267\n",
       "OUT049    2348.354635\n",
       "Name: Item_Outlet_Sales, dtype: float64"
      ]
     },
     "execution_count": 35,
     "metadata": {},
     "output_type": "execute_result"
    }
   ],
   "source": [
    "data.groupby('Outlet_Identifier')['Item_Outlet_Sales'].mean()"
   ]
  },
  {
   "cell_type": "raw",
   "metadata": {},
   "source": [
    "OUT010, OUT019 - Low Sales\n",
    "OUT013  OUT017  OUT018  OUT035  OUT045  OUT046  OUT049 - Average Sales\n",
    "OUT027 - High Sales"
   ]
  },
  {
   "cell_type": "code",
   "execution_count": 36,
   "metadata": {},
   "outputs": [
    {
     "data": {
      "text/plain": [
       "<matplotlib.axes._subplots.AxesSubplot at 0x1f3b1abf128>"
      ]
     },
     "execution_count": 36,
     "metadata": {},
     "output_type": "execute_result"
    },
    {
     "data": {
      "image/png": "[encoded data removed]",
      "text/plain": [
       "<Figure size 1080x576 with 1 Axes>"
      ]
     },
     "metadata": {
      "needs_background": "light"
     },
     "output_type": "display_data"
    }
   ],
   "source": [
    "plt.figure(figsize=(15,8))\n",
    "sns.boxplot(x=train.Outlet_Establishment_Year,y=train.Item_Outlet_Sales)"
   ]
  },
  {
   "cell_type": "code",
   "execution_count": 37,
   "metadata": {},
   "outputs": [
    {
     "data": {
      "text/plain": [
       "Outlet_Establishment_Year\n",
       "1985    2483.677474\n",
       "1987    2298.995256\n",
       "1997    2277.844267\n",
       "1998     339.351662\n",
       "1999    2348.354635\n",
       "2002    2192.384798\n",
       "2004    2438.841866\n",
       "2007    2340.675263\n",
       "2009    1995.498739\n",
       "Name: Item_Outlet_Sales, dtype: float64"
      ]
     },
     "execution_count": 37,
     "metadata": {},
     "output_type": "execute_result"
    }
   ],
   "source": [
    "train.groupby(['Outlet_Establishment_Year'])['Item_Outlet_Sales'].mean()"
   ]
  },
  {
   "cell_type": "raw",
   "metadata": {},
   "source": [
    "Just like the Identifier, we will have to regroup the categories as per their average sales."
   ]
  },
  {
   "cell_type": "code",
   "execution_count": 38,
   "metadata": {},
   "outputs": [
    {
     "data": {
      "text/plain": [
       "<matplotlib.axes._subplots.AxesSubplot at 0x1f3b404eeb8>"
      ]
     },
     "execution_count": 38,
     "metadata": {},
     "output_type": "execute_result"
    },
    {
     "data": {
      "image/png": "[encoded data removed]",
      "text/plain": [
       "<Figure size 1080x576 with 1 Axes>"
      ]
     },
     "metadata": {
      "needs_background": "light"
     },
     "output_type": "display_data"
    }
   ],
   "source": [
    "plt.figure(figsize=(15,8))\n",
    "sns.boxplot(x=train.Outlet_Size,y=train.Item_Outlet_Sales)"
   ]
  },
  {
   "cell_type": "raw",
   "metadata": {},
   "source": [
    "Item sales don't differ as per the outlet size"
   ]
  },
  {
   "cell_type": "code",
   "execution_count": 39,
   "metadata": {},
   "outputs": [
    {
     "data": {
      "text/plain": [
       "<matplotlib.axes._subplots.AxesSubplot at 0x1f3b1f47828>"
      ]
     },
     "execution_count": 39,
     "metadata": {},
     "output_type": "execute_result"
    },
    {
     "data": {
      "image/png": "[encoded data removed]",
      "text/plain": [
       "<Figure size 432x288 with 1 Axes>"
      ]
     },
     "metadata": {
      "needs_background": "light"
     },
     "output_type": "display_data"
    }
   ],
   "source": [
    "sns.countplot(test.Outlet_Location_Type,hue=test.Outlet_Type)"
   ]
  },
  {
   "cell_type": "markdown",
   "metadata": {},
   "source": [
    "# Bivariate Analysis for Numerical data"
   ]
  },
  {
   "cell_type": "code",
   "execution_count": 40,
   "metadata": {},
   "outputs": [
    {
     "data": {
      "text/plain": [
       "<matplotlib.collections.PathCollection at 0x1f3b41958d0>"
      ]
     },
     "execution_count": 40,
     "metadata": {},
     "output_type": "execute_result"
    },
    {
     "data": {
      "image/png": "[encoded data removed]",
      "text/plain": [
       "<Figure size 432x288 with 1 Axes>"
      ]
     },
     "metadata": {
      "needs_background": "light"
     },
     "output_type": "display_data"
    }
   ],
   "source": [
    "# Item Weight vs Sales\n",
    "plt.scatter(train.Item_Weight, \n",
    "            train.Item_Outlet_Sales, color = \"blue\")"
   ]
  },
  {
   "cell_type": "raw",
   "metadata": {},
   "source": [
    "The correlation seems very weak between the item weight and its sales. The item's weight didn't deter its sales"
   ]
  },
  {
   "cell_type": "code",
   "execution_count": 41,
   "metadata": {},
   "outputs": [
    {
     "data": {
      "text/plain": [
       "<matplotlib.collections.PathCollection at 0x1f3b443a320>"
      ]
     },
     "execution_count": 41,
     "metadata": {},
     "output_type": "execute_result"
    },
    {
     "data": {
      "image/png": "[encoded data removed]",
      "text/plain": [
       "<Figure size 432x288 with 1 Axes>"
      ]
     },
     "metadata": {
      "needs_background": "light"
     },
     "output_type": "display_data"
    }
   ],
   "source": [
    "plt.scatter(train.Item_MRP,train.Item_Weight, \n",
    "             color = \"green\")"
   ]
  },
  {
   "cell_type": "code",
   "execution_count": 42,
   "metadata": {},
   "outputs": [
    {
     "data": {
      "text/plain": [
       "<matplotlib.collections.PathCollection at 0x1f3b44948d0>"
      ]
     },
     "execution_count": 42,
     "metadata": {},
     "output_type": "execute_result"
    },
    {
     "data": {
      "image/png": "[encoded data removed]",
      "text/plain": [
       "<Figure size 432x288 with 1 Axes>"
      ]
     },
     "metadata": {
      "needs_background": "light"
     },
     "output_type": "display_data"
    }
   ],
   "source": [
    "# Item Weight vs Sales\n",
    "plt.scatter(train.Item_MRP,train.Item_Visibility, \n",
    "             color = \"blue\")"
   ]
  },
  {
   "cell_type": "code",
   "execution_count": 43,
   "metadata": {},
   "outputs": [
    {
     "data": {
      "text/plain": [
       "<matplotlib.collections.PathCollection at 0x1f3b44fa5f8>"
      ]
     },
     "execution_count": 43,
     "metadata": {},
     "output_type": "execute_result"
    },
    {
     "data": {
      "image/png": "[encoded data removed]",
      "text/plain": [
       "<Figure size 720x288 with 1 Axes>"
      ]
     },
     "metadata": {
      "needs_background": "light"
     },
     "output_type": "display_data"
    }
   ],
   "source": [
    "# Item Visibility vs Sales\n",
    "plt.figure(figsize = [10,4])\n",
    "plt.scatter(train.Item_Visibility, \n",
    "            train.Item_Outlet_Sales, color = \"red\")"
   ]
  },
  {
   "cell_type": "raw",
   "metadata": {},
   "source": [
    "Item Visibility may have an effect on Sales. The relationship in slightly inversely proportional."
   ]
  },
  {
   "cell_type": "code",
   "execution_count": 44,
   "metadata": {},
   "outputs": [
    {
     "data": {
      "text/plain": [
       "<matplotlib.collections.PathCollection at 0x1f3b4559a20>"
      ]
     },
     "execution_count": 44,
     "metadata": {},
     "output_type": "execute_result"
    },
    {
     "data": {
      "image/png": "[encoded data removed]",
      "text/plain": [
       "<Figure size 720x288 with 1 Axes>"
      ]
     },
     "metadata": {
      "needs_background": "light"
     },
     "output_type": "display_data"
    }
   ],
   "source": [
    "# Item MRP vs Sales\n",
    "plt.figure(figsize = [10,4])\n",
    "plt.scatter(x=train.Item_MRP, \n",
    "            y=train.Item_Outlet_Sales, color = \"brown\")"
   ]
  },
  {
   "cell_type": "raw",
   "metadata": {},
   "source": [
    "Item sales does increase with every unit increase in item mrp. "
   ]
  },
  {
   "cell_type": "raw",
   "metadata": {},
   "source": [
    "For further proof, we build a correlation heatmap for our numberical variables."
   ]
  },
  {
   "cell_type": "code",
   "execution_count": 45,
   "metadata": {},
   "outputs": [
    {
     "data": {
      "text/plain": [
       "<matplotlib.axes._subplots.AxesSubplot at 0x1f3b4596240>"
      ]
     },
     "execution_count": 45,
     "metadata": {},
     "output_type": "execute_result"
    },
    {
     "data": {
      "image/png": "[encoded data removed]",
      "text/plain": [
       "<Figure size 720x360 with 2 Axes>"
      ]
     },
     "metadata": {
      "needs_background": "light"
     },
     "output_type": "display_data"
    }
   ],
   "source": [
    "plt.figure(figsize=(10,5))\n",
    "sns.heatmap(data.corr(),annot=True)"
   ]
  },
  {
   "cell_type": "code",
   "execution_count": 46,
   "metadata": {},
   "outputs": [],
   "source": [
    "#------------"
   ]
  },
  {
   "cell_type": "markdown",
   "metadata": {},
   "source": [
    "# The significant variables are Item_Visibility, Item_MRP, Outlet_Establishment_Year, Outlet_Identifier,Outlet_Type."
   ]
  },
  {
   "cell_type": "markdown",
   "metadata": {},
   "source": [
    "# Since in our feature selection, Item_Weight and outlet_Size are not significant, so are going to drop them, so there is not a necessity to treat for null values."
   ]
  },
  {
   "cell_type": "markdown",
   "metadata": {},
   "source": [
    "# But during our data analysis we notice that the Item_Weight, Fat content, item type are same for every Item_Identifier"
   ]
  },
  {
   "cell_type": "code",
   "execution_count": 47,
   "metadata": {},
   "outputs": [
    {
     "data": {
      "text/html": [
       "<div>\n",
       "<style scoped>\n",
       "    .dataframe tbody tr th:only-of-type {\n",
       "        vertical-align: middle;\n",
       "    }\n",
       "\n",
       "    .dataframe tbody tr th {\n",
       "        vertical-align: top;\n",
       "    }\n",
       "\n",
       "    .dataframe thead th {\n",
       "        text-align: right;\n",
       "    }\n",
       "</style>\n",
       "<table border=\"1\" class=\"dataframe\">\n",
       "  <thead>\n",
       "    <tr style=\"text-align: right;\">\n",
       "      <th></th>\n",
       "      <th>Item_Identifier</th>\n",
       "      <th>Item_Weight</th>\n",
       "      <th>Item_Fat_Content</th>\n",
       "      <th>Item_Visibility</th>\n",
       "      <th>Item_Type</th>\n",
       "      <th>Item_MRP</th>\n",
       "      <th>Outlet_Identifier</th>\n",
       "      <th>Outlet_Establishment_Year</th>\n",
       "      <th>Outlet_Size</th>\n",
       "      <th>Outlet_Location_Type</th>\n",
       "      <th>Outlet_Type</th>\n",
       "      <th>Item_Outlet_Sales</th>\n",
       "    </tr>\n",
       "  </thead>\n",
       "  <tbody>\n",
       "    <tr>\n",
       "      <th>2</th>\n",
       "      <td>FDN15</td>\n",
       "      <td>17.5</td>\n",
       "      <td>Low Fat</td>\n",
       "      <td>0.016760</td>\n",
       "      <td>Meat</td>\n",
       "      <td>141.618</td>\n",
       "      <td>OUT049</td>\n",
       "      <td>1999</td>\n",
       "      <td>Medium</td>\n",
       "      <td>Tier 1</td>\n",
       "      <td>Supermarket Type1</td>\n",
       "      <td>2097.270</td>\n",
       "    </tr>\n",
       "    <tr>\n",
       "      <th>759</th>\n",
       "      <td>FDN15</td>\n",
       "      <td>17.5</td>\n",
       "      <td>Low Fat</td>\n",
       "      <td>0.028009</td>\n",
       "      <td>Meat</td>\n",
       "      <td>141.718</td>\n",
       "      <td>OUT010</td>\n",
       "      <td>1998</td>\n",
       "      <td>NaN</td>\n",
       "      <td>Tier 3</td>\n",
       "      <td>Grocery Store</td>\n",
       "      <td>419.454</td>\n",
       "    </tr>\n",
       "    <tr>\n",
       "      <th>4817</th>\n",
       "      <td>FDN15</td>\n",
       "      <td>17.5</td>\n",
       "      <td>Low Fat</td>\n",
       "      <td>0.016720</td>\n",
       "      <td>Meat</td>\n",
       "      <td>139.918</td>\n",
       "      <td>OUT013</td>\n",
       "      <td>1987</td>\n",
       "      <td>High</td>\n",
       "      <td>Tier 3</td>\n",
       "      <td>Supermarket Type1</td>\n",
       "      <td>419.454</td>\n",
       "    </tr>\n",
       "    <tr>\n",
       "      <th>5074</th>\n",
       "      <td>FDN15</td>\n",
       "      <td>17.5</td>\n",
       "      <td>Low Fat</td>\n",
       "      <td>0.016802</td>\n",
       "      <td>Meat</td>\n",
       "      <td>138.518</td>\n",
       "      <td>OUT018</td>\n",
       "      <td>2009</td>\n",
       "      <td>Medium</td>\n",
       "      <td>Tier 3</td>\n",
       "      <td>Supermarket Type2</td>\n",
       "      <td>2376.906</td>\n",
       "    </tr>\n",
       "    <tr>\n",
       "      <th>6163</th>\n",
       "      <td>FDN15</td>\n",
       "      <td>17.5</td>\n",
       "      <td>Low Fat</td>\n",
       "      <td>0.016768</td>\n",
       "      <td>Meat</td>\n",
       "      <td>141.418</td>\n",
       "      <td>OUT045</td>\n",
       "      <td>2002</td>\n",
       "      <td>NaN</td>\n",
       "      <td>Tier 2</td>\n",
       "      <td>Supermarket Type1</td>\n",
       "      <td>1957.452</td>\n",
       "    </tr>\n",
       "    <tr>\n",
       "      <th>6952</th>\n",
       "      <td>FDN15</td>\n",
       "      <td>NaN</td>\n",
       "      <td>Low Fat</td>\n",
       "      <td>0.029299</td>\n",
       "      <td>Meat</td>\n",
       "      <td>140.318</td>\n",
       "      <td>OUT019</td>\n",
       "      <td>1985</td>\n",
       "      <td>Small</td>\n",
       "      <td>Tier 1</td>\n",
       "      <td>Grocery Store</td>\n",
       "      <td>139.818</td>\n",
       "    </tr>\n",
       "    <tr>\n",
       "      <th>8349</th>\n",
       "      <td>FDN15</td>\n",
       "      <td>NaN</td>\n",
       "      <td>Low Fat</td>\n",
       "      <td>0.016653</td>\n",
       "      <td>Meat</td>\n",
       "      <td>139.518</td>\n",
       "      <td>OUT027</td>\n",
       "      <td>1985</td>\n",
       "      <td>Medium</td>\n",
       "      <td>Tier 3</td>\n",
       "      <td>Supermarket Type3</td>\n",
       "      <td>2936.178</td>\n",
       "    </tr>\n",
       "    <tr>\n",
       "      <th>9682</th>\n",
       "      <td>FDN15</td>\n",
       "      <td>17.5</td>\n",
       "      <td>Low Fat</td>\n",
       "      <td>0.016731</td>\n",
       "      <td>Meat</td>\n",
       "      <td>139.018</td>\n",
       "      <td>OUT035</td>\n",
       "      <td>2004</td>\n",
       "      <td>Small</td>\n",
       "      <td>Tier 2</td>\n",
       "      <td>Supermarket Type1</td>\n",
       "      <td>NaN</td>\n",
       "    </tr>\n",
       "    <tr>\n",
       "      <th>12603</th>\n",
       "      <td>FDN15</td>\n",
       "      <td>17.5</td>\n",
       "      <td>Low Fat</td>\n",
       "      <td>0.016829</td>\n",
       "      <td>Meat</td>\n",
       "      <td>138.418</td>\n",
       "      <td>OUT017</td>\n",
       "      <td>2007</td>\n",
       "      <td>NaN</td>\n",
       "      <td>Tier 2</td>\n",
       "      <td>Supermarket Type1</td>\n",
       "      <td>NaN</td>\n",
       "    </tr>\n",
       "    <tr>\n",
       "      <th>13358</th>\n",
       "      <td>FDN15</td>\n",
       "      <td>17.5</td>\n",
       "      <td>Low Fat</td>\n",
       "      <td>0.000000</td>\n",
       "      <td>Meat</td>\n",
       "      <td>140.418</td>\n",
       "      <td>OUT046</td>\n",
       "      <td>1997</td>\n",
       "      <td>Small</td>\n",
       "      <td>Tier 1</td>\n",
       "      <td>Supermarket Type1</td>\n",
       "      <td>NaN</td>\n",
       "    </tr>\n",
       "  </tbody>\n",
       "</table>\n",
       "</div>"
      ],
      "text/plain": [
       "      Item_Identifier  Item_Weight Item_Fat_Content  Item_Visibility  \\\n",
       "2               FDN15         17.5          Low Fat         0.016760   \n",
       "759             FDN15         17.5          Low Fat         0.028009   \n",
       "4817            FDN15         17.5          Low Fat         0.016720   \n",
       "5074            FDN15         17.5          Low Fat         0.016802   \n",
       "6163            FDN15         17.5          Low Fat         0.016768   \n",
       "6952            FDN15          NaN          Low Fat         0.029299   \n",
       "8349            FDN15          NaN          Low Fat         0.016653   \n",
       "9682            FDN15         17.5          Low Fat         0.016731   \n",
       "12603           FDN15         17.5          Low Fat         0.016829   \n",
       "13358           FDN15         17.5          Low Fat         0.000000   \n",
       "\n",
       "      Item_Type  Item_MRP Outlet_Identifier Outlet_Establishment_Year  \\\n",
       "2          Meat   141.618            OUT049                      1999   \n",
       "759        Meat   141.718            OUT010                      1998   \n",
       "4817       Meat   139.918            OUT013                      1987   \n",
       "5074       Meat   138.518            OUT018                      2009   \n",
       "6163       Meat   141.418            OUT045                      2002   \n",
       "6952       Meat   140.318            OUT019                      1985   \n",
       "8349       Meat   139.518            OUT027                      1985   \n",
       "9682       Meat   139.018            OUT035                      2004   \n",
       "12603      Meat   138.418            OUT017                      2007   \n",
       "13358      Meat   140.418            OUT046                      1997   \n",
       "\n",
       "      Outlet_Size Outlet_Location_Type        Outlet_Type  Item_Outlet_Sales  \n",
       "2          Medium               Tier 1  Supermarket Type1           2097.270  \n",
       "759           NaN               Tier 3      Grocery Store            419.454  \n",
       "4817         High               Tier 3  Supermarket Type1            419.454  \n",
       "5074       Medium               Tier 3  Supermarket Type2           2376.906  \n",
       "6163          NaN               Tier 2  Supermarket Type1           1957.452  \n",
       "6952        Small               Tier 1      Grocery Store            139.818  \n",
       "8349       Medium               Tier 3  Supermarket Type3           2936.178  \n",
       "9682        Small               Tier 2  Supermarket Type1                NaN  \n",
       "12603         NaN               Tier 2  Supermarket Type1                NaN  \n",
       "13358       Small               Tier 1  Supermarket Type1                NaN  "
      ]
     },
     "execution_count": 47,
     "metadata": {},
     "output_type": "execute_result"
    }
   ],
   "source": [
    "data[data['Item_Identifier']=='FDN15']"
   ]
  },
  {
   "cell_type": "code",
   "execution_count": 48,
   "metadata": {},
   "outputs": [
    {
     "data": {
      "text/html": [
       "<div>\n",
       "<style scoped>\n",
       "    .dataframe tbody tr th:only-of-type {\n",
       "        vertical-align: middle;\n",
       "    }\n",
       "\n",
       "    .dataframe tbody tr th {\n",
       "        vertical-align: top;\n",
       "    }\n",
       "\n",
       "    .dataframe thead th {\n",
       "        text-align: right;\n",
       "    }\n",
       "</style>\n",
       "<table border=\"1\" class=\"dataframe\">\n",
       "  <thead>\n",
       "    <tr style=\"text-align: right;\">\n",
       "      <th></th>\n",
       "      <th>Item_Identifier</th>\n",
       "      <th>Item_Weight</th>\n",
       "      <th>Item_Fat_Content</th>\n",
       "      <th>Item_Visibility</th>\n",
       "      <th>Item_Type</th>\n",
       "      <th>Item_MRP</th>\n",
       "      <th>Outlet_Identifier</th>\n",
       "      <th>Outlet_Establishment_Year</th>\n",
       "      <th>Outlet_Size</th>\n",
       "      <th>Outlet_Location_Type</th>\n",
       "      <th>Outlet_Type</th>\n",
       "      <th>Item_Outlet_Sales</th>\n",
       "    </tr>\n",
       "  </thead>\n",
       "  <tbody>\n",
       "    <tr>\n",
       "      <th>113</th>\n",
       "      <td>FDX34</td>\n",
       "      <td>NaN</td>\n",
       "      <td>Low Fat</td>\n",
       "      <td>0.071637</td>\n",
       "      <td>Snack Foods</td>\n",
       "      <td>121.7098</td>\n",
       "      <td>OUT027</td>\n",
       "      <td>1985</td>\n",
       "      <td>Medium</td>\n",
       "      <td>Tier 3</td>\n",
       "      <td>Supermarket Type3</td>\n",
       "      <td>4097.3332</td>\n",
       "    </tr>\n",
       "    <tr>\n",
       "      <th>2266</th>\n",
       "      <td>FDX34</td>\n",
       "      <td>6.195</td>\n",
       "      <td>Low Fat</td>\n",
       "      <td>0.072097</td>\n",
       "      <td>Snack Foods</td>\n",
       "      <td>119.3098</td>\n",
       "      <td>OUT049</td>\n",
       "      <td>1999</td>\n",
       "      <td>Medium</td>\n",
       "      <td>Tier 1</td>\n",
       "      <td>Supermarket Type1</td>\n",
       "      <td>1205.0980</td>\n",
       "    </tr>\n",
       "    <tr>\n",
       "      <th>4709</th>\n",
       "      <td>FDX34</td>\n",
       "      <td>6.195</td>\n",
       "      <td>Low Fat</td>\n",
       "      <td>0.072132</td>\n",
       "      <td>Snack Foods</td>\n",
       "      <td>120.1098</td>\n",
       "      <td>OUT045</td>\n",
       "      <td>2002</td>\n",
       "      <td>NaN</td>\n",
       "      <td>Tier 2</td>\n",
       "      <td>Supermarket Type1</td>\n",
       "      <td>2892.2352</td>\n",
       "    </tr>\n",
       "    <tr>\n",
       "      <th>5803</th>\n",
       "      <td>FDX34</td>\n",
       "      <td>6.195</td>\n",
       "      <td>Low Fat</td>\n",
       "      <td>0.072279</td>\n",
       "      <td>Snack Foods</td>\n",
       "      <td>120.6098</td>\n",
       "      <td>OUT018</td>\n",
       "      <td>2009</td>\n",
       "      <td>Medium</td>\n",
       "      <td>Tier 3</td>\n",
       "      <td>Supermarket Type2</td>\n",
       "      <td>1807.6470</td>\n",
       "    </tr>\n",
       "    <tr>\n",
       "      <th>7243</th>\n",
       "      <td>FDX34</td>\n",
       "      <td>6.195</td>\n",
       "      <td>Low Fat</td>\n",
       "      <td>0.071986</td>\n",
       "      <td>Snack Foods</td>\n",
       "      <td>122.2098</td>\n",
       "      <td>OUT046</td>\n",
       "      <td>1997</td>\n",
       "      <td>Small</td>\n",
       "      <td>Tier 1</td>\n",
       "      <td>Supermarket Type1</td>\n",
       "      <td>1205.0980</td>\n",
       "    </tr>\n",
       "    <tr>\n",
       "      <th>8478</th>\n",
       "      <td>FDX34</td>\n",
       "      <td>6.195</td>\n",
       "      <td>Low Fat</td>\n",
       "      <td>0.071972</td>\n",
       "      <td>Snack Foods</td>\n",
       "      <td>121.3098</td>\n",
       "      <td>OUT035</td>\n",
       "      <td>2004</td>\n",
       "      <td>Small</td>\n",
       "      <td>Tier 2</td>\n",
       "      <td>Supermarket Type1</td>\n",
       "      <td>4820.3920</td>\n",
       "    </tr>\n",
       "    <tr>\n",
       "      <th>13571</th>\n",
       "      <td>FDX34</td>\n",
       "      <td>6.195</td>\n",
       "      <td>Low Fat</td>\n",
       "      <td>0.071926</td>\n",
       "      <td>Snack Foods</td>\n",
       "      <td>121.9098</td>\n",
       "      <td>OUT013</td>\n",
       "      <td>1987</td>\n",
       "      <td>High</td>\n",
       "      <td>Tier 3</td>\n",
       "      <td>Supermarket Type1</td>\n",
       "      <td>NaN</td>\n",
       "    </tr>\n",
       "    <tr>\n",
       "      <th>13944</th>\n",
       "      <td>FDX34</td>\n",
       "      <td>6.195</td>\n",
       "      <td>Low Fat</td>\n",
       "      <td>0.072393</td>\n",
       "      <td>Snack Foods</td>\n",
       "      <td>122.2098</td>\n",
       "      <td>OUT017</td>\n",
       "      <td>2007</td>\n",
       "      <td>NaN</td>\n",
       "      <td>Tier 2</td>\n",
       "      <td>Supermarket Type1</td>\n",
       "      <td>NaN</td>\n",
       "    </tr>\n",
       "  </tbody>\n",
       "</table>\n",
       "</div>"
      ],
      "text/plain": [
       "      Item_Identifier  Item_Weight Item_Fat_Content  Item_Visibility  \\\n",
       "113             FDX34          NaN          Low Fat         0.071637   \n",
       "2266            FDX34        6.195          Low Fat         0.072097   \n",
       "4709            FDX34        6.195          Low Fat         0.072132   \n",
       "5803            FDX34        6.195          Low Fat         0.072279   \n",
       "7243            FDX34        6.195          Low Fat         0.071986   \n",
       "8478            FDX34        6.195          Low Fat         0.071972   \n",
       "13571           FDX34        6.195          Low Fat         0.071926   \n",
       "13944           FDX34        6.195          Low Fat         0.072393   \n",
       "\n",
       "         Item_Type  Item_MRP Outlet_Identifier Outlet_Establishment_Year  \\\n",
       "113    Snack Foods  121.7098            OUT027                      1985   \n",
       "2266   Snack Foods  119.3098            OUT049                      1999   \n",
       "4709   Snack Foods  120.1098            OUT045                      2002   \n",
       "5803   Snack Foods  120.6098            OUT018                      2009   \n",
       "7243   Snack Foods  122.2098            OUT046                      1997   \n",
       "8478   Snack Foods  121.3098            OUT035                      2004   \n",
       "13571  Snack Foods  121.9098            OUT013                      1987   \n",
       "13944  Snack Foods  122.2098            OUT017                      2007   \n",
       "\n",
       "      Outlet_Size Outlet_Location_Type        Outlet_Type  Item_Outlet_Sales  \n",
       "113        Medium               Tier 3  Supermarket Type3          4097.3332  \n",
       "2266       Medium               Tier 1  Supermarket Type1          1205.0980  \n",
       "4709          NaN               Tier 2  Supermarket Type1          2892.2352  \n",
       "5803       Medium               Tier 3  Supermarket Type2          1807.6470  \n",
       "7243        Small               Tier 1  Supermarket Type1          1205.0980  \n",
       "8478        Small               Tier 2  Supermarket Type1          4820.3920  \n",
       "13571        High               Tier 3  Supermarket Type1                NaN  \n",
       "13944         NaN               Tier 2  Supermarket Type1                NaN  "
      ]
     },
     "execution_count": 48,
     "metadata": {},
     "output_type": "execute_result"
    }
   ],
   "source": [
    "data[data['Item_Identifier']=='FDX34']"
   ]
  },
  {
   "cell_type": "code",
   "execution_count": 49,
   "metadata": {},
   "outputs": [
    {
     "data": {
      "text/html": [
       "<div>\n",
       "<style scoped>\n",
       "    .dataframe tbody tr th:only-of-type {\n",
       "        vertical-align: middle;\n",
       "    }\n",
       "\n",
       "    .dataframe tbody tr th {\n",
       "        vertical-align: top;\n",
       "    }\n",
       "\n",
       "    .dataframe thead th {\n",
       "        text-align: right;\n",
       "    }\n",
       "</style>\n",
       "<table border=\"1\" class=\"dataframe\">\n",
       "  <thead>\n",
       "    <tr style=\"text-align: right;\">\n",
       "      <th></th>\n",
       "      <th>Item_Identifier</th>\n",
       "      <th>Item_Weight</th>\n",
       "      <th>Item_Fat_Content</th>\n",
       "      <th>Item_Visibility</th>\n",
       "      <th>Item_Type</th>\n",
       "      <th>Item_MRP</th>\n",
       "      <th>Outlet_Identifier</th>\n",
       "      <th>Outlet_Establishment_Year</th>\n",
       "      <th>Outlet_Size</th>\n",
       "      <th>Outlet_Location_Type</th>\n",
       "      <th>Outlet_Type</th>\n",
       "      <th>Item_Outlet_Sales</th>\n",
       "    </tr>\n",
       "  </thead>\n",
       "  <tbody>\n",
       "    <tr>\n",
       "      <th>6</th>\n",
       "      <td>FDO10</td>\n",
       "      <td>13.650</td>\n",
       "      <td>Regular</td>\n",
       "      <td>0.012741</td>\n",
       "      <td>Snack Foods</td>\n",
       "      <td>57.6588</td>\n",
       "      <td>OUT013</td>\n",
       "      <td>1987</td>\n",
       "      <td>High</td>\n",
       "      <td>Tier 3</td>\n",
       "      <td>Supermarket Type1</td>\n",
       "      <td>343.5528</td>\n",
       "    </tr>\n",
       "    <tr>\n",
       "      <th>7</th>\n",
       "      <td>FDP10</td>\n",
       "      <td>NaN</td>\n",
       "      <td>Low Fat</td>\n",
       "      <td>0.127470</td>\n",
       "      <td>Snack Foods</td>\n",
       "      <td>107.7622</td>\n",
       "      <td>OUT027</td>\n",
       "      <td>1985</td>\n",
       "      <td>Medium</td>\n",
       "      <td>Tier 3</td>\n",
       "      <td>Supermarket Type3</td>\n",
       "      <td>4022.7636</td>\n",
       "    </tr>\n",
       "    <tr>\n",
       "      <th>13</th>\n",
       "      <td>FDS46</td>\n",
       "      <td>17.600</td>\n",
       "      <td>Regular</td>\n",
       "      <td>0.047257</td>\n",
       "      <td>Snack Foods</td>\n",
       "      <td>119.6782</td>\n",
       "      <td>OUT046</td>\n",
       "      <td>1997</td>\n",
       "      <td>Small</td>\n",
       "      <td>Tier 1</td>\n",
       "      <td>Supermarket Type1</td>\n",
       "      <td>2145.2076</td>\n",
       "    </tr>\n",
       "    <tr>\n",
       "      <th>20</th>\n",
       "      <td>FDN22</td>\n",
       "      <td>18.850</td>\n",
       "      <td>Regular</td>\n",
       "      <td>0.138190</td>\n",
       "      <td>Snack Foods</td>\n",
       "      <td>250.8724</td>\n",
       "      <td>OUT013</td>\n",
       "      <td>1987</td>\n",
       "      <td>High</td>\n",
       "      <td>Tier 3</td>\n",
       "      <td>Supermarket Type1</td>\n",
       "      <td>3775.0860</td>\n",
       "    </tr>\n",
       "    <tr>\n",
       "      <th>26</th>\n",
       "      <td>FDV10</td>\n",
       "      <td>7.645</td>\n",
       "      <td>Regular</td>\n",
       "      <td>0.066693</td>\n",
       "      <td>Snack Foods</td>\n",
       "      <td>42.3112</td>\n",
       "      <td>OUT035</td>\n",
       "      <td>2004</td>\n",
       "      <td>Small</td>\n",
       "      <td>Tier 2</td>\n",
       "      <td>Supermarket Type1</td>\n",
       "      <td>1065.2800</td>\n",
       "    </tr>\n",
       "    <tr>\n",
       "      <th>32</th>\n",
       "      <td>FDP33</td>\n",
       "      <td>18.700</td>\n",
       "      <td>Low Fat</td>\n",
       "      <td>0.000000</td>\n",
       "      <td>Snack Foods</td>\n",
       "      <td>256.6672</td>\n",
       "      <td>OUT018</td>\n",
       "      <td>2009</td>\n",
       "      <td>Medium</td>\n",
       "      <td>Tier 3</td>\n",
       "      <td>Supermarket Type2</td>\n",
       "      <td>3068.0064</td>\n",
       "    </tr>\n",
       "    <tr>\n",
       "      <th>38</th>\n",
       "      <td>FDX10</td>\n",
       "      <td>NaN</td>\n",
       "      <td>Regular</td>\n",
       "      <td>0.123111</td>\n",
       "      <td>Snack Foods</td>\n",
       "      <td>36.9874</td>\n",
       "      <td>OUT027</td>\n",
       "      <td>1985</td>\n",
       "      <td>Medium</td>\n",
       "      <td>Tier 3</td>\n",
       "      <td>Supermarket Type3</td>\n",
       "      <td>388.1614</td>\n",
       "    </tr>\n",
       "    <tr>\n",
       "      <th>39</th>\n",
       "      <td>FDB34</td>\n",
       "      <td>NaN</td>\n",
       "      <td>Low Fat</td>\n",
       "      <td>0.026481</td>\n",
       "      <td>Snack Foods</td>\n",
       "      <td>87.6198</td>\n",
       "      <td>OUT027</td>\n",
       "      <td>1985</td>\n",
       "      <td>Medium</td>\n",
       "      <td>Tier 3</td>\n",
       "      <td>Supermarket Type3</td>\n",
       "      <td>2180.4950</td>\n",
       "    </tr>\n",
       "    <tr>\n",
       "      <th>42</th>\n",
       "      <td>FDA46</td>\n",
       "      <td>13.600</td>\n",
       "      <td>Low Fat</td>\n",
       "      <td>0.117818</td>\n",
       "      <td>Snack Foods</td>\n",
       "      <td>192.9136</td>\n",
       "      <td>OUT049</td>\n",
       "      <td>1999</td>\n",
       "      <td>Medium</td>\n",
       "      <td>Tier 1</td>\n",
       "      <td>Supermarket Type1</td>\n",
       "      <td>2527.3768</td>\n",
       "    </tr>\n",
       "    <tr>\n",
       "      <th>55</th>\n",
       "      <td>FDK21</td>\n",
       "      <td>7.905</td>\n",
       "      <td>Low Fat</td>\n",
       "      <td>0.010053</td>\n",
       "      <td>Snack Foods</td>\n",
       "      <td>249.0408</td>\n",
       "      <td>OUT018</td>\n",
       "      <td>2009</td>\n",
       "      <td>Medium</td>\n",
       "      <td>Tier 3</td>\n",
       "      <td>Supermarket Type2</td>\n",
       "      <td>6258.5200</td>\n",
       "    </tr>\n",
       "    <tr>\n",
       "      <th>58</th>\n",
       "      <td>FDY21</td>\n",
       "      <td>15.100</td>\n",
       "      <td>Low Fat</td>\n",
       "      <td>0.173481</td>\n",
       "      <td>Snack Foods</td>\n",
       "      <td>194.5110</td>\n",
       "      <td>OUT046</td>\n",
       "      <td>1997</td>\n",
       "      <td>Small</td>\n",
       "      <td>Tier 1</td>\n",
       "      <td>Supermarket Type1</td>\n",
       "      <td>4910.2750</td>\n",
       "    </tr>\n",
       "    <tr>\n",
       "      <th>64</th>\n",
       "      <td>FDY45</td>\n",
       "      <td>NaN</td>\n",
       "      <td>Low Fat</td>\n",
       "      <td>0.026016</td>\n",
       "      <td>Snack Foods</td>\n",
       "      <td>255.8356</td>\n",
       "      <td>OUT027</td>\n",
       "      <td>1985</td>\n",
       "      <td>Medium</td>\n",
       "      <td>Tier 3</td>\n",
       "      <td>Supermarket Type3</td>\n",
       "      <td>2543.3560</td>\n",
       "    </tr>\n",
       "    <tr>\n",
       "      <th>65</th>\n",
       "      <td>FDC46</td>\n",
       "      <td>17.700</td>\n",
       "      <td>Low Fat</td>\n",
       "      <td>0.195068</td>\n",
       "      <td>Snack Foods</td>\n",
       "      <td>185.4266</td>\n",
       "      <td>OUT010</td>\n",
       "      <td>1998</td>\n",
       "      <td>NaN</td>\n",
       "      <td>Tier 3</td>\n",
       "      <td>Grocery Store</td>\n",
       "      <td>184.4266</td>\n",
       "    </tr>\n",
       "    <tr>\n",
       "      <th>70</th>\n",
       "      <td>FDJ58</td>\n",
       "      <td>15.600</td>\n",
       "      <td>Regular</td>\n",
       "      <td>0.105296</td>\n",
       "      <td>Snack Foods</td>\n",
       "      <td>170.1764</td>\n",
       "      <td>OUT046</td>\n",
       "      <td>1997</td>\n",
       "      <td>Small</td>\n",
       "      <td>Tier 1</td>\n",
       "      <td>Supermarket Type1</td>\n",
       "      <td>3435.5280</td>\n",
       "    </tr>\n",
       "    <tr>\n",
       "      <th>76</th>\n",
       "      <td>FDQ10</td>\n",
       "      <td>12.850</td>\n",
       "      <td>Low Fat</td>\n",
       "      <td>0.033231</td>\n",
       "      <td>Snack Foods</td>\n",
       "      <td>172.3422</td>\n",
       "      <td>OUT049</td>\n",
       "      <td>1999</td>\n",
       "      <td>Medium</td>\n",
       "      <td>Tier 1</td>\n",
       "      <td>Supermarket Type1</td>\n",
       "      <td>1207.0954</td>\n",
       "    </tr>\n",
       "    <tr>\n",
       "      <th>80</th>\n",
       "      <td>FDD58</td>\n",
       "      <td>7.760</td>\n",
       "      <td>Low Fat</td>\n",
       "      <td>0.059352</td>\n",
       "      <td>Snack Foods</td>\n",
       "      <td>101.8700</td>\n",
       "      <td>OUT046</td>\n",
       "      <td>1997</td>\n",
       "      <td>Small</td>\n",
       "      <td>Tier 1</td>\n",
       "      <td>Supermarket Type1</td>\n",
       "      <td>1697.7900</td>\n",
       "    </tr>\n",
       "    <tr>\n",
       "      <th>82</th>\n",
       "      <td>FDV45</td>\n",
       "      <td>16.750</td>\n",
       "      <td>Low Fat</td>\n",
       "      <td>0.045231</td>\n",
       "      <td>Snack Foods</td>\n",
       "      <td>187.9556</td>\n",
       "      <td>OUT018</td>\n",
       "      <td>2009</td>\n",
       "      <td>Medium</td>\n",
       "      <td>Tier 3</td>\n",
       "      <td>Supermarket Type2</td>\n",
       "      <td>4693.8900</td>\n",
       "    </tr>\n",
       "    <tr>\n",
       "      <th>88</th>\n",
       "      <td>FDN33</td>\n",
       "      <td>6.305</td>\n",
       "      <td>Regular</td>\n",
       "      <td>0.123116</td>\n",
       "      <td>Snack Foods</td>\n",
       "      <td>95.6436</td>\n",
       "      <td>OUT046</td>\n",
       "      <td>1997</td>\n",
       "      <td>Small</td>\n",
       "      <td>Tier 1</td>\n",
       "      <td>Supermarket Type1</td>\n",
       "      <td>661.8052</td>\n",
       "    </tr>\n",
       "    <tr>\n",
       "      <th>101</th>\n",
       "      <td>FDD10</td>\n",
       "      <td>NaN</td>\n",
       "      <td>Regular</td>\n",
       "      <td>0.045798</td>\n",
       "      <td>Snack Foods</td>\n",
       "      <td>178.5344</td>\n",
       "      <td>OUT027</td>\n",
       "      <td>1985</td>\n",
       "      <td>Medium</td>\n",
       "      <td>Tier 3</td>\n",
       "      <td>Supermarket Type3</td>\n",
       "      <td>2854.9504</td>\n",
       "    </tr>\n",
       "    <tr>\n",
       "      <th>102</th>\n",
       "      <td>FDW57</td>\n",
       "      <td>8.310</td>\n",
       "      <td>Regular</td>\n",
       "      <td>0.115857</td>\n",
       "      <td>Snack Foods</td>\n",
       "      <td>179.1028</td>\n",
       "      <td>OUT049</td>\n",
       "      <td>1999</td>\n",
       "      <td>Medium</td>\n",
       "      <td>Tier 1</td>\n",
       "      <td>Supermarket Type1</td>\n",
       "      <td>3896.2616</td>\n",
       "    </tr>\n",
       "    <tr>\n",
       "      <th>104</th>\n",
       "      <td>FDP09</td>\n",
       "      <td>19.750</td>\n",
       "      <td>Low Fat</td>\n",
       "      <td>0.034028</td>\n",
       "      <td>Snack Foods</td>\n",
       "      <td>212.0902</td>\n",
       "      <td>OUT018</td>\n",
       "      <td>2009</td>\n",
       "      <td>Medium</td>\n",
       "      <td>Tier 3</td>\n",
       "      <td>Supermarket Type2</td>\n",
       "      <td>3185.8530</td>\n",
       "    </tr>\n",
       "    <tr>\n",
       "      <th>113</th>\n",
       "      <td>FDX34</td>\n",
       "      <td>NaN</td>\n",
       "      <td>Low Fat</td>\n",
       "      <td>0.071637</td>\n",
       "      <td>Snack Foods</td>\n",
       "      <td>121.7098</td>\n",
       "      <td>OUT027</td>\n",
       "      <td>1985</td>\n",
       "      <td>Medium</td>\n",
       "      <td>Tier 3</td>\n",
       "      <td>Supermarket Type3</td>\n",
       "      <td>4097.3332</td>\n",
       "    </tr>\n",
       "    <tr>\n",
       "      <th>117</th>\n",
       "      <td>FDZ46</td>\n",
       "      <td>7.485</td>\n",
       "      <td>Low Fat</td>\n",
       "      <td>0.069111</td>\n",
       "      <td>Snack Foods</td>\n",
       "      <td>109.0228</td>\n",
       "      <td>OUT035</td>\n",
       "      <td>2004</td>\n",
       "      <td>Small</td>\n",
       "      <td>Tier 2</td>\n",
       "      <td>Supermarket Type1</td>\n",
       "      <td>2542.0244</td>\n",
       "    </tr>\n",
       "    <tr>\n",
       "      <th>119</th>\n",
       "      <td>FDY58</td>\n",
       "      <td>11.650</td>\n",
       "      <td>Low Fat</td>\n",
       "      <td>0.040081</td>\n",
       "      <td>Snack Foods</td>\n",
       "      <td>227.0694</td>\n",
       "      <td>OUT018</td>\n",
       "      <td>2009</td>\n",
       "      <td>Medium</td>\n",
       "      <td>Tier 3</td>\n",
       "      <td>Supermarket Type2</td>\n",
       "      <td>1141.8470</td>\n",
       "    </tr>\n",
       "    <tr>\n",
       "      <th>148</th>\n",
       "      <td>FDA45</td>\n",
       "      <td>21.250</td>\n",
       "      <td>Low Fat</td>\n",
       "      <td>0.155350</td>\n",
       "      <td>Snack Foods</td>\n",
       "      <td>178.2370</td>\n",
       "      <td>OUT035</td>\n",
       "      <td>2004</td>\n",
       "      <td>Small</td>\n",
       "      <td>Tier 2</td>\n",
       "      <td>Supermarket Type1</td>\n",
       "      <td>529.3110</td>\n",
       "    </tr>\n",
       "    <tr>\n",
       "      <th>160</th>\n",
       "      <td>FDM22</td>\n",
       "      <td>14.000</td>\n",
       "      <td>Regular</td>\n",
       "      <td>0.041923</td>\n",
       "      <td>Snack Foods</td>\n",
       "      <td>54.7640</td>\n",
       "      <td>OUT013</td>\n",
       "      <td>1987</td>\n",
       "      <td>High</td>\n",
       "      <td>Tier 3</td>\n",
       "      <td>Supermarket Type1</td>\n",
       "      <td>1331.6000</td>\n",
       "    </tr>\n",
       "    <tr>\n",
       "      <th>185</th>\n",
       "      <td>FDK58</td>\n",
       "      <td>11.350</td>\n",
       "      <td>Regular</td>\n",
       "      <td>0.045166</td>\n",
       "      <td>Snack Foods</td>\n",
       "      <td>100.0016</td>\n",
       "      <td>OUT018</td>\n",
       "      <td>2009</td>\n",
       "      <td>Medium</td>\n",
       "      <td>Tier 3</td>\n",
       "      <td>Supermarket Type2</td>\n",
       "      <td>1012.0160</td>\n",
       "    </tr>\n",
       "    <tr>\n",
       "      <th>191</th>\n",
       "      <td>FDL58</td>\n",
       "      <td>5.780</td>\n",
       "      <td>Regular</td>\n",
       "      <td>0.074264</td>\n",
       "      <td>Snack Foods</td>\n",
       "      <td>264.7568</td>\n",
       "      <td>OUT049</td>\n",
       "      <td>1999</td>\n",
       "      <td>Medium</td>\n",
       "      <td>Tier 1</td>\n",
       "      <td>Supermarket Type1</td>\n",
       "      <td>4745.8224</td>\n",
       "    </tr>\n",
       "    <tr>\n",
       "      <th>202</th>\n",
       "      <td>FDN57</td>\n",
       "      <td>18.250</td>\n",
       "      <td>Low Fat</td>\n",
       "      <td>0.054344</td>\n",
       "      <td>Snack Foods</td>\n",
       "      <td>140.2154</td>\n",
       "      <td>OUT045</td>\n",
       "      <td>2002</td>\n",
       "      <td>NaN</td>\n",
       "      <td>Tier 2</td>\n",
       "      <td>Supermarket Type1</td>\n",
       "      <td>1701.7848</td>\n",
       "    </tr>\n",
       "    <tr>\n",
       "      <th>208</th>\n",
       "      <td>FDS45</td>\n",
       "      <td>NaN</td>\n",
       "      <td>Regular</td>\n",
       "      <td>0.051644</td>\n",
       "      <td>Snack Foods</td>\n",
       "      <td>107.3622</td>\n",
       "      <td>OUT019</td>\n",
       "      <td>1985</td>\n",
       "      <td>Small</td>\n",
       "      <td>Tier 1</td>\n",
       "      <td>Grocery Store</td>\n",
       "      <td>317.5866</td>\n",
       "    </tr>\n",
       "    <tr>\n",
       "      <th>...</th>\n",
       "      <td>...</td>\n",
       "      <td>...</td>\n",
       "      <td>...</td>\n",
       "      <td>...</td>\n",
       "      <td>...</td>\n",
       "      <td>...</td>\n",
       "      <td>...</td>\n",
       "      <td>...</td>\n",
       "      <td>...</td>\n",
       "      <td>...</td>\n",
       "      <td>...</td>\n",
       "      <td>...</td>\n",
       "    </tr>\n",
       "    <tr>\n",
       "      <th>8314</th>\n",
       "      <td>FDK10</td>\n",
       "      <td>5.785</td>\n",
       "      <td>Regular</td>\n",
       "      <td>0.040523</td>\n",
       "      <td>Snack Foods</td>\n",
       "      <td>177.8660</td>\n",
       "      <td>OUT018</td>\n",
       "      <td>2009</td>\n",
       "      <td>Medium</td>\n",
       "      <td>Tier 3</td>\n",
       "      <td>Supermarket Type2</td>\n",
       "      <td>4853.6820</td>\n",
       "    </tr>\n",
       "    <tr>\n",
       "      <th>8320</th>\n",
       "      <td>FDL10</td>\n",
       "      <td>NaN</td>\n",
       "      <td>Low Fat</td>\n",
       "      <td>0.039301</td>\n",
       "      <td>Snack Foods</td>\n",
       "      <td>99.5042</td>\n",
       "      <td>OUT027</td>\n",
       "      <td>1985</td>\n",
       "      <td>Medium</td>\n",
       "      <td>Tier 3</td>\n",
       "      <td>Supermarket Type3</td>\n",
       "      <td>1884.8798</td>\n",
       "    </tr>\n",
       "    <tr>\n",
       "      <th>8321</th>\n",
       "      <td>FDQ33</td>\n",
       "      <td>13.350</td>\n",
       "      <td>Low Fat</td>\n",
       "      <td>0.091349</td>\n",
       "      <td>Snack Foods</td>\n",
       "      <td>150.3708</td>\n",
       "      <td>OUT049</td>\n",
       "      <td>1999</td>\n",
       "      <td>Medium</td>\n",
       "      <td>Tier 1</td>\n",
       "      <td>Supermarket Type1</td>\n",
       "      <td>4363.6532</td>\n",
       "    </tr>\n",
       "    <tr>\n",
       "      <th>8323</th>\n",
       "      <td>FDH58</td>\n",
       "      <td>12.300</td>\n",
       "      <td>Low Fat</td>\n",
       "      <td>0.000000</td>\n",
       "      <td>Snack Foods</td>\n",
       "      <td>116.4834</td>\n",
       "      <td>OUT018</td>\n",
       "      <td>2009</td>\n",
       "      <td>Medium</td>\n",
       "      <td>Tier 3</td>\n",
       "      <td>Supermarket Type2</td>\n",
       "      <td>1842.9344</td>\n",
       "    </tr>\n",
       "    <tr>\n",
       "      <th>8341</th>\n",
       "      <td>FDU46</td>\n",
       "      <td>10.300</td>\n",
       "      <td>Regular</td>\n",
       "      <td>0.011189</td>\n",
       "      <td>Snack Foods</td>\n",
       "      <td>86.6540</td>\n",
       "      <td>OUT017</td>\n",
       "      <td>2007</td>\n",
       "      <td>NaN</td>\n",
       "      <td>Tier 2</td>\n",
       "      <td>Supermarket Type1</td>\n",
       "      <td>2423.5120</td>\n",
       "    </tr>\n",
       "    <tr>\n",
       "      <th>8347</th>\n",
       "      <td>FDB10</td>\n",
       "      <td>10.000</td>\n",
       "      <td>Low Fat</td>\n",
       "      <td>0.067313</td>\n",
       "      <td>Snack Foods</td>\n",
       "      <td>234.3590</td>\n",
       "      <td>OUT049</td>\n",
       "      <td>1999</td>\n",
       "      <td>Medium</td>\n",
       "      <td>Tier 1</td>\n",
       "      <td>Supermarket Type1</td>\n",
       "      <td>3072.6670</td>\n",
       "    </tr>\n",
       "    <tr>\n",
       "      <th>8355</th>\n",
       "      <td>FDW45</td>\n",
       "      <td>18.000</td>\n",
       "      <td>Low Fat</td>\n",
       "      <td>0.038979</td>\n",
       "      <td>Snack Foods</td>\n",
       "      <td>148.6418</td>\n",
       "      <td>OUT013</td>\n",
       "      <td>1987</td>\n",
       "      <td>High</td>\n",
       "      <td>Tier 3</td>\n",
       "      <td>Supermarket Type1</td>\n",
       "      <td>2795.6942</td>\n",
       "    </tr>\n",
       "    <tr>\n",
       "      <th>8356</th>\n",
       "      <td>FDN45</td>\n",
       "      <td>NaN</td>\n",
       "      <td>Low Fat</td>\n",
       "      <td>0.117531</td>\n",
       "      <td>Snack Foods</td>\n",
       "      <td>222.7088</td>\n",
       "      <td>OUT027</td>\n",
       "      <td>1985</td>\n",
       "      <td>Medium</td>\n",
       "      <td>Tier 3</td>\n",
       "      <td>Supermarket Type3</td>\n",
       "      <td>4026.7584</td>\n",
       "    </tr>\n",
       "    <tr>\n",
       "      <th>8364</th>\n",
       "      <td>FDT58</td>\n",
       "      <td>9.000</td>\n",
       "      <td>Low Fat</td>\n",
       "      <td>0.086088</td>\n",
       "      <td>Snack Foods</td>\n",
       "      <td>168.7816</td>\n",
       "      <td>OUT049</td>\n",
       "      <td>1999</td>\n",
       "      <td>Medium</td>\n",
       "      <td>Tier 1</td>\n",
       "      <td>Supermarket Type1</td>\n",
       "      <td>3355.6320</td>\n",
       "    </tr>\n",
       "    <tr>\n",
       "      <th>8384</th>\n",
       "      <td>FDU10</td>\n",
       "      <td>10.100</td>\n",
       "      <td>Regular</td>\n",
       "      <td>0.045654</td>\n",
       "      <td>Snack Foods</td>\n",
       "      <td>35.6848</td>\n",
       "      <td>OUT013</td>\n",
       "      <td>1987</td>\n",
       "      <td>High</td>\n",
       "      <td>Tier 3</td>\n",
       "      <td>Supermarket Type1</td>\n",
       "      <td>633.8416</td>\n",
       "    </tr>\n",
       "    <tr>\n",
       "      <th>8387</th>\n",
       "      <td>FDT10</td>\n",
       "      <td>16.700</td>\n",
       "      <td>Regular</td>\n",
       "      <td>0.062395</td>\n",
       "      <td>Snack Foods</td>\n",
       "      <td>57.6562</td>\n",
       "      <td>OUT017</td>\n",
       "      <td>2007</td>\n",
       "      <td>NaN</td>\n",
       "      <td>Tier 2</td>\n",
       "      <td>Supermarket Type1</td>\n",
       "      <td>533.3058</td>\n",
       "    </tr>\n",
       "    <tr>\n",
       "      <th>8407</th>\n",
       "      <td>FDY22</td>\n",
       "      <td>16.500</td>\n",
       "      <td>Regular</td>\n",
       "      <td>0.159690</td>\n",
       "      <td>Snack Foods</td>\n",
       "      <td>142.4128</td>\n",
       "      <td>OUT035</td>\n",
       "      <td>2004</td>\n",
       "      <td>Small</td>\n",
       "      <td>Tier 2</td>\n",
       "      <td>Supermarket Type1</td>\n",
       "      <td>575.2512</td>\n",
       "    </tr>\n",
       "    <tr>\n",
       "      <th>8415</th>\n",
       "      <td>FDR46</td>\n",
       "      <td>16.850</td>\n",
       "      <td>Low Fat</td>\n",
       "      <td>0.139700</td>\n",
       "      <td>Snack Foods</td>\n",
       "      <td>147.7760</td>\n",
       "      <td>OUT045</td>\n",
       "      <td>2002</td>\n",
       "      <td>NaN</td>\n",
       "      <td>Tier 2</td>\n",
       "      <td>Supermarket Type1</td>\n",
       "      <td>2490.0920</td>\n",
       "    </tr>\n",
       "    <tr>\n",
       "      <th>8425</th>\n",
       "      <td>FDQ58</td>\n",
       "      <td>7.315</td>\n",
       "      <td>Low Fat</td>\n",
       "      <td>0.000000</td>\n",
       "      <td>Snack Foods</td>\n",
       "      <td>153.7340</td>\n",
       "      <td>OUT035</td>\n",
       "      <td>2004</td>\n",
       "      <td>Small</td>\n",
       "      <td>Tier 2</td>\n",
       "      <td>Supermarket Type1</td>\n",
       "      <td>2756.4120</td>\n",
       "    </tr>\n",
       "    <tr>\n",
       "      <th>8436</th>\n",
       "      <td>FDH33</td>\n",
       "      <td>12.850</td>\n",
       "      <td>Low Fat</td>\n",
       "      <td>0.121725</td>\n",
       "      <td>Snack Foods</td>\n",
       "      <td>45.1428</td>\n",
       "      <td>OUT046</td>\n",
       "      <td>1997</td>\n",
       "      <td>Small</td>\n",
       "      <td>Tier 1</td>\n",
       "      <td>Supermarket Type1</td>\n",
       "      <td>527.3136</td>\n",
       "    </tr>\n",
       "    <tr>\n",
       "      <th>8451</th>\n",
       "      <td>FDK21</td>\n",
       "      <td>7.905</td>\n",
       "      <td>Low Fat</td>\n",
       "      <td>0.010028</td>\n",
       "      <td>Snack Foods</td>\n",
       "      <td>249.6408</td>\n",
       "      <td>OUT049</td>\n",
       "      <td>1999</td>\n",
       "      <td>Medium</td>\n",
       "      <td>Tier 1</td>\n",
       "      <td>Supermarket Type1</td>\n",
       "      <td>3254.4304</td>\n",
       "    </tr>\n",
       "    <tr>\n",
       "      <th>8453</th>\n",
       "      <td>FDB46</td>\n",
       "      <td>10.500</td>\n",
       "      <td>Regular</td>\n",
       "      <td>0.093954</td>\n",
       "      <td>Snack Foods</td>\n",
       "      <td>211.8244</td>\n",
       "      <td>OUT045</td>\n",
       "      <td>2002</td>\n",
       "      <td>NaN</td>\n",
       "      <td>Tier 2</td>\n",
       "      <td>Supermarket Type1</td>\n",
       "      <td>3387.5904</td>\n",
       "    </tr>\n",
       "    <tr>\n",
       "      <th>8459</th>\n",
       "      <td>FDQ34</td>\n",
       "      <td>10.850</td>\n",
       "      <td>Low Fat</td>\n",
       "      <td>0.162212</td>\n",
       "      <td>Snack Foods</td>\n",
       "      <td>107.0622</td>\n",
       "      <td>OUT035</td>\n",
       "      <td>2004</td>\n",
       "      <td>Small</td>\n",
       "      <td>Tier 2</td>\n",
       "      <td>Supermarket Type1</td>\n",
       "      <td>741.0354</td>\n",
       "    </tr>\n",
       "    <tr>\n",
       "      <th>8469</th>\n",
       "      <td>FDQ45</td>\n",
       "      <td>NaN</td>\n",
       "      <td>Regular</td>\n",
       "      <td>0.019114</td>\n",
       "      <td>Snack Foods</td>\n",
       "      <td>182.1608</td>\n",
       "      <td>OUT019</td>\n",
       "      <td>1985</td>\n",
       "      <td>Small</td>\n",
       "      <td>Tier 1</td>\n",
       "      <td>Grocery Store</td>\n",
       "      <td>367.5216</td>\n",
       "    </tr>\n",
       "    <tr>\n",
       "      <th>8478</th>\n",
       "      <td>FDX34</td>\n",
       "      <td>6.195</td>\n",
       "      <td>Low Fat</td>\n",
       "      <td>0.071972</td>\n",
       "      <td>Snack Foods</td>\n",
       "      <td>121.3098</td>\n",
       "      <td>OUT035</td>\n",
       "      <td>2004</td>\n",
       "      <td>Small</td>\n",
       "      <td>Tier 2</td>\n",
       "      <td>Supermarket Type1</td>\n",
       "      <td>4820.3920</td>\n",
       "    </tr>\n",
       "    <tr>\n",
       "      <th>8479</th>\n",
       "      <td>FDL10</td>\n",
       "      <td>8.395</td>\n",
       "      <td>Low Fat</td>\n",
       "      <td>0.039554</td>\n",
       "      <td>Snack Foods</td>\n",
       "      <td>99.1042</td>\n",
       "      <td>OUT049</td>\n",
       "      <td>1999</td>\n",
       "      <td>Medium</td>\n",
       "      <td>Tier 1</td>\n",
       "      <td>Supermarket Type1</td>\n",
       "      <td>2579.3092</td>\n",
       "    </tr>\n",
       "    <tr>\n",
       "      <th>8480</th>\n",
       "      <td>FDQ58</td>\n",
       "      <td>NaN</td>\n",
       "      <td>Low Fat</td>\n",
       "      <td>0.000000</td>\n",
       "      <td>Snack Foods</td>\n",
       "      <td>154.5340</td>\n",
       "      <td>OUT019</td>\n",
       "      <td>1985</td>\n",
       "      <td>Small</td>\n",
       "      <td>Tier 1</td>\n",
       "      <td>Grocery Store</td>\n",
       "      <td>459.4020</td>\n",
       "    </tr>\n",
       "    <tr>\n",
       "      <th>8492</th>\n",
       "      <td>FDT34</td>\n",
       "      <td>9.300</td>\n",
       "      <td>Low Fat</td>\n",
       "      <td>0.174350</td>\n",
       "      <td>Snack Foods</td>\n",
       "      <td>104.4964</td>\n",
       "      <td>OUT046</td>\n",
       "      <td>1997</td>\n",
       "      <td>Small</td>\n",
       "      <td>Tier 1</td>\n",
       "      <td>Supermarket Type1</td>\n",
       "      <td>2419.5172</td>\n",
       "    </tr>\n",
       "    <tr>\n",
       "      <th>8493</th>\n",
       "      <td>FDP21</td>\n",
       "      <td>7.420</td>\n",
       "      <td>Regular</td>\n",
       "      <td>0.025886</td>\n",
       "      <td>Snack Foods</td>\n",
       "      <td>189.1872</td>\n",
       "      <td>OUT017</td>\n",
       "      <td>2007</td>\n",
       "      <td>NaN</td>\n",
       "      <td>Tier 2</td>\n",
       "      <td>Supermarket Type1</td>\n",
       "      <td>4727.1800</td>\n",
       "    </tr>\n",
       "    <tr>\n",
       "      <th>8495</th>\n",
       "      <td>FDE22</td>\n",
       "      <td>9.695</td>\n",
       "      <td>Low Fat</td>\n",
       "      <td>0.029567</td>\n",
       "      <td>Snack Foods</td>\n",
       "      <td>160.4920</td>\n",
       "      <td>OUT035</td>\n",
       "      <td>2004</td>\n",
       "      <td>Small</td>\n",
       "      <td>Tier 2</td>\n",
       "      <td>Supermarket Type1</td>\n",
       "      <td>4314.3840</td>\n",
       "    </tr>\n",
       "    <tr>\n",
       "      <th>8501</th>\n",
       "      <td>FDW21</td>\n",
       "      <td>5.340</td>\n",
       "      <td>Regular</td>\n",
       "      <td>0.005998</td>\n",
       "      <td>Snack Foods</td>\n",
       "      <td>100.4358</td>\n",
       "      <td>OUT017</td>\n",
       "      <td>2007</td>\n",
       "      <td>NaN</td>\n",
       "      <td>Tier 2</td>\n",
       "      <td>Supermarket Type1</td>\n",
       "      <td>1508.0370</td>\n",
       "    </tr>\n",
       "    <tr>\n",
       "      <th>8505</th>\n",
       "      <td>FDB46</td>\n",
       "      <td>10.500</td>\n",
       "      <td>Regular</td>\n",
       "      <td>0.094146</td>\n",
       "      <td>Snack Foods</td>\n",
       "      <td>210.8244</td>\n",
       "      <td>OUT018</td>\n",
       "      <td>2009</td>\n",
       "      <td>Medium</td>\n",
       "      <td>Tier 3</td>\n",
       "      <td>Supermarket Type2</td>\n",
       "      <td>2117.2440</td>\n",
       "    </tr>\n",
       "    <tr>\n",
       "      <th>8510</th>\n",
       "      <td>FDN58</td>\n",
       "      <td>13.800</td>\n",
       "      <td>Regular</td>\n",
       "      <td>0.056862</td>\n",
       "      <td>Snack Foods</td>\n",
       "      <td>231.5984</td>\n",
       "      <td>OUT035</td>\n",
       "      <td>2004</td>\n",
       "      <td>Small</td>\n",
       "      <td>Tier 2</td>\n",
       "      <td>Supermarket Type1</td>\n",
       "      <td>7182.6504</td>\n",
       "    </tr>\n",
       "    <tr>\n",
       "      <th>8518</th>\n",
       "      <td>FDF22</td>\n",
       "      <td>6.865</td>\n",
       "      <td>Low Fat</td>\n",
       "      <td>0.056783</td>\n",
       "      <td>Snack Foods</td>\n",
       "      <td>214.5218</td>\n",
       "      <td>OUT013</td>\n",
       "      <td>1987</td>\n",
       "      <td>High</td>\n",
       "      <td>Tier 3</td>\n",
       "      <td>Supermarket Type1</td>\n",
       "      <td>2778.3834</td>\n",
       "    </tr>\n",
       "    <tr>\n",
       "      <th>8521</th>\n",
       "      <td>FDN46</td>\n",
       "      <td>7.210</td>\n",
       "      <td>Regular</td>\n",
       "      <td>0.145221</td>\n",
       "      <td>Snack Foods</td>\n",
       "      <td>103.1332</td>\n",
       "      <td>OUT018</td>\n",
       "      <td>2009</td>\n",
       "      <td>Medium</td>\n",
       "      <td>Tier 3</td>\n",
       "      <td>Supermarket Type2</td>\n",
       "      <td>1845.5976</td>\n",
       "    </tr>\n",
       "  </tbody>\n",
       "</table>\n",
       "<p>1200 rows × 12 columns</p>\n",
       "</div>"
      ],
      "text/plain": [
       "     Item_Identifier  Item_Weight Item_Fat_Content  Item_Visibility  \\\n",
       "6              FDO10       13.650          Regular         0.012741   \n",
       "7              FDP10          NaN          Low Fat         0.127470   \n",
       "13             FDS46       17.600          Regular         0.047257   \n",
       "20             FDN22       18.850          Regular         0.138190   \n",
       "26             FDV10        7.645          Regular         0.066693   \n",
       "32             FDP33       18.700          Low Fat         0.000000   \n",
       "38             FDX10          NaN          Regular         0.123111   \n",
       "39             FDB34          NaN          Low Fat         0.026481   \n",
       "42             FDA46       13.600          Low Fat         0.117818   \n",
       "55             FDK21        7.905          Low Fat         0.010053   \n",
       "58             FDY21       15.100          Low Fat         0.173481   \n",
       "64             FDY45          NaN          Low Fat         0.026016   \n",
       "65             FDC46       17.700          Low Fat         0.195068   \n",
       "70             FDJ58       15.600          Regular         0.105296   \n",
       "76             FDQ10       12.850          Low Fat         0.033231   \n",
       "80             FDD58        7.760          Low Fat         0.059352   \n",
       "82             FDV45       16.750          Low Fat         0.045231   \n",
       "88             FDN33        6.305          Regular         0.123116   \n",
       "101            FDD10          NaN          Regular         0.045798   \n",
       "102            FDW57        8.310          Regular         0.115857   \n",
       "104            FDP09       19.750          Low Fat         0.034028   \n",
       "113            FDX34          NaN          Low Fat         0.071637   \n",
       "117            FDZ46        7.485          Low Fat         0.069111   \n",
       "119            FDY58       11.650          Low Fat         0.040081   \n",
       "148            FDA45       21.250          Low Fat         0.155350   \n",
       "160            FDM22       14.000          Regular         0.041923   \n",
       "185            FDK58       11.350          Regular         0.045166   \n",
       "191            FDL58        5.780          Regular         0.074264   \n",
       "202            FDN57       18.250          Low Fat         0.054344   \n",
       "208            FDS45          NaN          Regular         0.051644   \n",
       "...              ...          ...              ...              ...   \n",
       "8314           FDK10        5.785          Regular         0.040523   \n",
       "8320           FDL10          NaN          Low Fat         0.039301   \n",
       "8321           FDQ33       13.350          Low Fat         0.091349   \n",
       "8323           FDH58       12.300          Low Fat         0.000000   \n",
       "8341           FDU46       10.300          Regular         0.011189   \n",
       "8347           FDB10       10.000          Low Fat         0.067313   \n",
       "8355           FDW45       18.000          Low Fat         0.038979   \n",
       "8356           FDN45          NaN          Low Fat         0.117531   \n",
       "8364           FDT58        9.000          Low Fat         0.086088   \n",
       "8384           FDU10       10.100          Regular         0.045654   \n",
       "8387           FDT10       16.700          Regular         0.062395   \n",
       "8407           FDY22       16.500          Regular         0.159690   \n",
       "8415           FDR46       16.850          Low Fat         0.139700   \n",
       "8425           FDQ58        7.315          Low Fat         0.000000   \n",
       "8436           FDH33       12.850          Low Fat         0.121725   \n",
       "8451           FDK21        7.905          Low Fat         0.010028   \n",
       "8453           FDB46       10.500          Regular         0.093954   \n",
       "8459           FDQ34       10.850          Low Fat         0.162212   \n",
       "8469           FDQ45          NaN          Regular         0.019114   \n",
       "8478           FDX34        6.195          Low Fat         0.071972   \n",
       "8479           FDL10        8.395          Low Fat         0.039554   \n",
       "8480           FDQ58          NaN          Low Fat         0.000000   \n",
       "8492           FDT34        9.300          Low Fat         0.174350   \n",
       "8493           FDP21        7.420          Regular         0.025886   \n",
       "8495           FDE22        9.695          Low Fat         0.029567   \n",
       "8501           FDW21        5.340          Regular         0.005998   \n",
       "8505           FDB46       10.500          Regular         0.094146   \n",
       "8510           FDN58       13.800          Regular         0.056862   \n",
       "8518           FDF22        6.865          Low Fat         0.056783   \n",
       "8521           FDN46        7.210          Regular         0.145221   \n",
       "\n",
       "        Item_Type  Item_MRP Outlet_Identifier  Outlet_Establishment_Year  \\\n",
       "6     Snack Foods   57.6588            OUT013                       1987   \n",
       "7     Snack Foods  107.7622            OUT027                       1985   \n",
       "13    Snack Foods  119.6782            OUT046                       1997   \n",
       "20    Snack Foods  250.8724            OUT013                       1987   \n",
       "26    Snack Foods   42.3112            OUT035                       2004   \n",
       "32    Snack Foods  256.6672            OUT018                       2009   \n",
       "38    Snack Foods   36.9874            OUT027                       1985   \n",
       "39    Snack Foods   87.6198            OUT027                       1985   \n",
       "42    Snack Foods  192.9136            OUT049                       1999   \n",
       "55    Snack Foods  249.0408            OUT018                       2009   \n",
       "58    Snack Foods  194.5110            OUT046                       1997   \n",
       "64    Snack Foods  255.8356            OUT027                       1985   \n",
       "65    Snack Foods  185.4266            OUT010                       1998   \n",
       "70    Snack Foods  170.1764            OUT046                       1997   \n",
       "76    Snack Foods  172.3422            OUT049                       1999   \n",
       "80    Snack Foods  101.8700            OUT046                       1997   \n",
       "82    Snack Foods  187.9556            OUT018                       2009   \n",
       "88    Snack Foods   95.6436            OUT046                       1997   \n",
       "101   Snack Foods  178.5344            OUT027                       1985   \n",
       "102   Snack Foods  179.1028            OUT049                       1999   \n",
       "104   Snack Foods  212.0902            OUT018                       2009   \n",
       "113   Snack Foods  121.7098            OUT027                       1985   \n",
       "117   Snack Foods  109.0228            OUT035                       2004   \n",
       "119   Snack Foods  227.0694            OUT018                       2009   \n",
       "148   Snack Foods  178.2370            OUT035                       2004   \n",
       "160   Snack Foods   54.7640            OUT013                       1987   \n",
       "185   Snack Foods  100.0016            OUT018                       2009   \n",
       "191   Snack Foods  264.7568            OUT049                       1999   \n",
       "202   Snack Foods  140.2154            OUT045                       2002   \n",
       "208   Snack Foods  107.3622            OUT019                       1985   \n",
       "...           ...       ...               ...                        ...   \n",
       "8314  Snack Foods  177.8660            OUT018                       2009   \n",
       "8320  Snack Foods   99.5042            OUT027                       1985   \n",
       "8321  Snack Foods  150.3708            OUT049                       1999   \n",
       "8323  Snack Foods  116.4834            OUT018                       2009   \n",
       "8341  Snack Foods   86.6540            OUT017                       2007   \n",
       "8347  Snack Foods  234.3590            OUT049                       1999   \n",
       "8355  Snack Foods  148.6418            OUT013                       1987   \n",
       "8356  Snack Foods  222.7088            OUT027                       1985   \n",
       "8364  Snack Foods  168.7816            OUT049                       1999   \n",
       "8384  Snack Foods   35.6848            OUT013                       1987   \n",
       "8387  Snack Foods   57.6562            OUT017                       2007   \n",
       "8407  Snack Foods  142.4128            OUT035                       2004   \n",
       "8415  Snack Foods  147.7760            OUT045                       2002   \n",
       "8425  Snack Foods  153.7340            OUT035                       2004   \n",
       "8436  Snack Foods   45.1428            OUT046                       1997   \n",
       "8451  Snack Foods  249.6408            OUT049                       1999   \n",
       "8453  Snack Foods  211.8244            OUT045                       2002   \n",
       "8459  Snack Foods  107.0622            OUT035                       2004   \n",
       "8469  Snack Foods  182.1608            OUT019                       1985   \n",
       "8478  Snack Foods  121.3098            OUT035                       2004   \n",
       "8479  Snack Foods   99.1042            OUT049                       1999   \n",
       "8480  Snack Foods  154.5340            OUT019                       1985   \n",
       "8492  Snack Foods  104.4964            OUT046                       1997   \n",
       "8493  Snack Foods  189.1872            OUT017                       2007   \n",
       "8495  Snack Foods  160.4920            OUT035                       2004   \n",
       "8501  Snack Foods  100.4358            OUT017                       2007   \n",
       "8505  Snack Foods  210.8244            OUT018                       2009   \n",
       "8510  Snack Foods  231.5984            OUT035                       2004   \n",
       "8518  Snack Foods  214.5218            OUT013                       1987   \n",
       "8521  Snack Foods  103.1332            OUT018                       2009   \n",
       "\n",
       "     Outlet_Size Outlet_Location_Type        Outlet_Type  Item_Outlet_Sales  \n",
       "6           High               Tier 3  Supermarket Type1           343.5528  \n",
       "7         Medium               Tier 3  Supermarket Type3          4022.7636  \n",
       "13         Small               Tier 1  Supermarket Type1          2145.2076  \n",
       "20          High               Tier 3  Supermarket Type1          3775.0860  \n",
       "26         Small               Tier 2  Supermarket Type1          1065.2800  \n",
       "32        Medium               Tier 3  Supermarket Type2          3068.0064  \n",
       "38        Medium               Tier 3  Supermarket Type3           388.1614  \n",
       "39        Medium               Tier 3  Supermarket Type3          2180.4950  \n",
       "42        Medium               Tier 1  Supermarket Type1          2527.3768  \n",
       "55        Medium               Tier 3  Supermarket Type2          6258.5200  \n",
       "58         Small               Tier 1  Supermarket Type1          4910.2750  \n",
       "64        Medium               Tier 3  Supermarket Type3          2543.3560  \n",
       "65           NaN               Tier 3      Grocery Store           184.4266  \n",
       "70         Small               Tier 1  Supermarket Type1          3435.5280  \n",
       "76        Medium               Tier 1  Supermarket Type1          1207.0954  \n",
       "80         Small               Tier 1  Supermarket Type1          1697.7900  \n",
       "82        Medium               Tier 3  Supermarket Type2          4693.8900  \n",
       "88         Small               Tier 1  Supermarket Type1           661.8052  \n",
       "101       Medium               Tier 3  Supermarket Type3          2854.9504  \n",
       "102       Medium               Tier 1  Supermarket Type1          3896.2616  \n",
       "104       Medium               Tier 3  Supermarket Type2          3185.8530  \n",
       "113       Medium               Tier 3  Supermarket Type3          4097.3332  \n",
       "117        Small               Tier 2  Supermarket Type1          2542.0244  \n",
       "119       Medium               Tier 3  Supermarket Type2          1141.8470  \n",
       "148        Small               Tier 2  Supermarket Type1           529.3110  \n",
       "160         High               Tier 3  Supermarket Type1          1331.6000  \n",
       "185       Medium               Tier 3  Supermarket Type2          1012.0160  \n",
       "191       Medium               Tier 1  Supermarket Type1          4745.8224  \n",
       "202          NaN               Tier 2  Supermarket Type1          1701.7848  \n",
       "208        Small               Tier 1      Grocery Store           317.5866  \n",
       "...          ...                  ...                ...                ...  \n",
       "8314      Medium               Tier 3  Supermarket Type2          4853.6820  \n",
       "8320      Medium               Tier 3  Supermarket Type3          1884.8798  \n",
       "8321      Medium               Tier 1  Supermarket Type1          4363.6532  \n",
       "8323      Medium               Tier 3  Supermarket Type2          1842.9344  \n",
       "8341         NaN               Tier 2  Supermarket Type1          2423.5120  \n",
       "8347      Medium               Tier 1  Supermarket Type1          3072.6670  \n",
       "8355        High               Tier 3  Supermarket Type1          2795.6942  \n",
       "8356      Medium               Tier 3  Supermarket Type3          4026.7584  \n",
       "8364      Medium               Tier 1  Supermarket Type1          3355.6320  \n",
       "8384        High               Tier 3  Supermarket Type1           633.8416  \n",
       "8387         NaN               Tier 2  Supermarket Type1           533.3058  \n",
       "8407       Small               Tier 2  Supermarket Type1           575.2512  \n",
       "8415         NaN               Tier 2  Supermarket Type1          2490.0920  \n",
       "8425       Small               Tier 2  Supermarket Type1          2756.4120  \n",
       "8436       Small               Tier 1  Supermarket Type1           527.3136  \n",
       "8451      Medium               Tier 1  Supermarket Type1          3254.4304  \n",
       "8453         NaN               Tier 2  Supermarket Type1          3387.5904  \n",
       "8459       Small               Tier 2  Supermarket Type1           741.0354  \n",
       "8469       Small               Tier 1      Grocery Store           367.5216  \n",
       "8478       Small               Tier 2  Supermarket Type1          4820.3920  \n",
       "8479      Medium               Tier 1  Supermarket Type1          2579.3092  \n",
       "8480       Small               Tier 1      Grocery Store           459.4020  \n",
       "8492       Small               Tier 1  Supermarket Type1          2419.5172  \n",
       "8493         NaN               Tier 2  Supermarket Type1          4727.1800  \n",
       "8495       Small               Tier 2  Supermarket Type1          4314.3840  \n",
       "8501         NaN               Tier 2  Supermarket Type1          1508.0370  \n",
       "8505      Medium               Tier 3  Supermarket Type2          2117.2440  \n",
       "8510       Small               Tier 2  Supermarket Type1          7182.6504  \n",
       "8518        High               Tier 3  Supermarket Type1          2778.3834  \n",
       "8521      Medium               Tier 3  Supermarket Type2          1845.5976  \n",
       "\n",
       "[1200 rows x 12 columns]"
      ]
     },
     "execution_count": 49,
     "metadata": {},
     "output_type": "execute_result"
    }
   ],
   "source": [
    "train[train['Item_Type']=='Snack Foods']"
   ]
  },
  {
   "cell_type": "markdown",
   "metadata": {},
   "source": [
    "# Another interesting thing we noticed, that the first two characters in the Item_identifier string were same.\n",
    "So was the third character comprising of a single alphabet, the last two characters can form another category."
   ]
  },
  {
   "cell_type": "code",
   "execution_count": 50,
   "metadata": {},
   "outputs": [
    {
     "data": {
      "text/plain": [
       "Item_Identifier                 0\n",
       "Item_Weight                  2439\n",
       "Item_Fat_Content                0\n",
       "Item_Visibility                 0\n",
       "Item_Type                       0\n",
       "Item_MRP                        0\n",
       "Outlet_Identifier               0\n",
       "Outlet_Establishment_Year       0\n",
       "Outlet_Size                  4016\n",
       "Outlet_Location_Type            0\n",
       "Outlet_Type                     0\n",
       "Item_Outlet_Sales            5681\n",
       "dtype: int64"
      ]
     },
     "execution_count": 50,
     "metadata": {},
     "output_type": "execute_result"
    }
   ],
   "source": [
    "data.isnull().sum()"
   ]
  },
  {
   "cell_type": "markdown",
   "metadata": {},
   "source": [
    "# Intially our model was heavily underfitted so we don't drop Item_Weight and Item_Outlet_Size."
   ]
  },
  {
   "cell_type": "code",
   "execution_count": 51,
   "metadata": {},
   "outputs": [],
   "source": [
    "data['Item_Weight']=data.groupby('Item_Identifier')['Item_Weight'].transform(lambda x:x.fillna(x.mean())) "
   ]
  },
  {
   "cell_type": "code",
   "execution_count": 52,
   "metadata": {},
   "outputs": [],
   "source": [
    "data.loc[(data.Outlet_Location_Type=='Tier 3')&(data.Outlet_Type=='Grocery Store'),\"Outlet_Size\"]='Small'"
   ]
  },
  {
   "cell_type": "code",
   "execution_count": 53,
   "metadata": {},
   "outputs": [],
   "source": [
    "data.loc[(data['Outlet_Type']=='Supermarket Type1')&(data['Outlet_Location_Type']=='Tier 2'),\"Outlet_Size\"]='Small'"
   ]
  },
  {
   "cell_type": "code",
   "execution_count": 54,
   "metadata": {},
   "outputs": [],
   "source": [
    "#------------------"
   ]
  },
  {
   "cell_type": "code",
   "execution_count": 55,
   "metadata": {},
   "outputs": [],
   "source": [
    "idlist = []\n",
    "for i in data.Item_Identifier:\n",
    "    idlist.append(str(i)[:2])\n",
    "    \n",
    "# combined.Item_Identifier.str[:3]"
   ]
  },
  {
   "cell_type": "code",
   "execution_count": 56,
   "metadata": {},
   "outputs": [],
   "source": [
    "data[\"Item_Id_1\"] = pd.Series(idlist)"
   ]
  },
  {
   "cell_type": "code",
   "execution_count": 57,
   "metadata": {},
   "outputs": [
    {
     "data": {
      "text/plain": [
       "array(['FD', 'DR', 'NC'], dtype=object)"
      ]
     },
     "execution_count": 57,
     "metadata": {},
     "output_type": "execute_result"
    }
   ],
   "source": [
    "data.Item_Id_1.unique()"
   ]
  },
  {
   "cell_type": "code",
   "execution_count": 58,
   "metadata": {},
   "outputs": [],
   "source": [
    "idlist2 = []\n",
    "for i in data.Item_Identifier:\n",
    "    idlist2.append(str(i)[2:3])"
   ]
  },
  {
   "cell_type": "code",
   "execution_count": 59,
   "metadata": {},
   "outputs": [],
   "source": [
    "data[\"Item_Id_2\"] = pd.Series(idlist2)"
   ]
  },
  {
   "cell_type": "code",
   "execution_count": 60,
   "metadata": {},
   "outputs": [
    {
     "data": {
      "text/plain": [
       "array(['A', 'C', 'N', 'X', 'D', 'P', 'O', 'H', 'U', 'Y', 'S', 'F', 'B',\n",
       "       'I', 'W', 'R', 'V', 'J', 'E', 'Z', 'K', 'L', 'M', 'G', 'Q', 'T'],\n",
       "      dtype=object)"
      ]
     },
     "execution_count": 60,
     "metadata": {},
     "output_type": "execute_result"
    }
   ],
   "source": [
    "data.Item_Id_2.unique()"
   ]
  },
  {
   "cell_type": "code",
   "execution_count": 61,
   "metadata": {},
   "outputs": [],
   "source": [
    "idlist3 = []\n",
    "for i in data.Item_Identifier:\n",
    "    idlist3.append(str(i)[3:])"
   ]
  },
  {
   "cell_type": "code",
   "execution_count": 62,
   "metadata": {},
   "outputs": [],
   "source": [
    "data[\"Item_Id_3\"] = pd.Series(idlist3)"
   ]
  },
  {
   "cell_type": "code",
   "execution_count": 63,
   "metadata": {},
   "outputs": [
    {
     "data": {
      "text/plain": [
       "array(['15', '01', '07', '19', '36', '10', '17', '28', '03', '32', '46',\n",
       "       '49', '42', '11', '02', '22', '12', '30', '37', '06', '59', '51',\n",
       "       '14', '38', '33', '23', '29', '20', '34', '43', '50', '39', '05',\n",
       "       '40', '13', '18', '21', '54', '35', '26', '27', '09', '45', '58',\n",
       "       '48', '04', '25', '55', '44', '41', '56', '57', '47', '60', '52',\n",
       "       '16', '53', '31', '24', '08'], dtype=object)"
      ]
     },
     "execution_count": 63,
     "metadata": {},
     "output_type": "execute_result"
    }
   ],
   "source": [
    "data.Item_Id_3.unique()"
   ]
  },
  {
   "cell_type": "code",
   "execution_count": 64,
   "metadata": {},
   "outputs": [
    {
     "data": {
      "text/plain": [
       "Item_Identifier                 0\n",
       "Item_Weight                     0\n",
       "Item_Fat_Content                0\n",
       "Item_Visibility                 0\n",
       "Item_Type                       0\n",
       "Item_MRP                        0\n",
       "Outlet_Identifier               0\n",
       "Outlet_Establishment_Year       0\n",
       "Outlet_Size                     0\n",
       "Outlet_Location_Type            0\n",
       "Outlet_Type                     0\n",
       "Item_Outlet_Sales            5681\n",
       "Item_Id_1                       0\n",
       "Item_Id_2                       0\n",
       "Item_Id_3                       0\n",
       "dtype: int64"
      ]
     },
     "execution_count": 64,
     "metadata": {},
     "output_type": "execute_result"
    }
   ],
   "source": [
    "data.isnull().sum()"
   ]
  },
  {
   "cell_type": "code",
   "execution_count": 65,
   "metadata": {},
   "outputs": [
    {
     "name": "stdout",
     "output_type": "stream",
     "text": [
      "<class 'pandas.core.frame.DataFrame'>\n",
      "RangeIndex: 14204 entries, 0 to 14203\n",
      "Data columns (total 15 columns):\n",
      "Item_Identifier              14204 non-null object\n",
      "Item_Weight                  14204 non-null float64\n",
      "Item_Fat_Content             14204 non-null object\n",
      "Item_Visibility              14204 non-null float64\n",
      "Item_Type                    14204 non-null object\n",
      "Item_MRP                     14204 non-null float64\n",
      "Outlet_Identifier            14204 non-null object\n",
      "Outlet_Establishment_Year    14204 non-null object\n",
      "Outlet_Size                  14204 non-null object\n",
      "Outlet_Location_Type         14204 non-null object\n",
      "Outlet_Type                  14204 non-null object\n",
      "Item_Outlet_Sales            8523 non-null float64\n",
      "Item_Id_1                    14204 non-null object\n",
      "Item_Id_2                    14204 non-null object\n",
      "Item_Id_3                    14204 non-null object\n",
      "dtypes: float64(4), object(11)\n",
      "memory usage: 1.6+ MB\n"
     ]
    }
   ],
   "source": [
    "data.info()"
   ]
  },
  {
   "cell_type": "code",
   "execution_count": 66,
   "metadata": {},
   "outputs": [],
   "source": [
    "#------------------------"
   ]
  },
  {
   "cell_type": "code",
   "execution_count": 67,
   "metadata": {},
   "outputs": [],
   "source": [
    "traindata = data.loc[0:8522]\n",
    "testdata = data.loc[8523:]"
   ]
  },
  {
   "cell_type": "code",
   "execution_count": 68,
   "metadata": {},
   "outputs": [
    {
     "name": "stderr",
     "output_type": "stream",
     "text": [
      "C:\\Users\\Navika\\Anaconda3\\lib\\site-packages\\pandas\\core\\frame.py:3940: SettingWithCopyWarning: \n",
      "A value is trying to be set on a copy of a slice from a DataFrame\n",
      "\n",
      "See the caveats in the documentation: http://pandas.pydata.org/pandas-docs/stable/indexing.html#indexing-view-versus-copy\n",
      "  errors=errors)\n"
     ]
    }
   ],
   "source": [
    "traindata.drop(['Item_Identifier'],axis=1,inplace=True)"
   ]
  },
  {
   "cell_type": "code",
   "execution_count": 69,
   "metadata": {},
   "outputs": [],
   "source": [
    "testdata.drop(['Item_Identifier',\"Item_Outlet_Sales\"],axis=1,inplace=True)"
   ]
  },
  {
   "cell_type": "code",
   "execution_count": 70,
   "metadata": {},
   "outputs": [
    {
     "data": {
      "text/plain": [
       "(8523, 14)"
      ]
     },
     "execution_count": 70,
     "metadata": {},
     "output_type": "execute_result"
    }
   ],
   "source": [
    "traindata.shape"
   ]
  },
  {
   "cell_type": "code",
   "execution_count": 71,
   "metadata": {},
   "outputs": [
    {
     "data": {
      "text/plain": [
       "(5681, 13)"
      ]
     },
     "execution_count": 71,
     "metadata": {},
     "output_type": "execute_result"
    }
   ],
   "source": [
    "testdata.shape"
   ]
  },
  {
   "cell_type": "code",
   "execution_count": 72,
   "metadata": {},
   "outputs": [],
   "source": [
    "#--------------------"
   ]
  },
  {
   "cell_type": "code",
   "execution_count": 73,
   "metadata": {},
   "outputs": [],
   "source": [
    "traindummy = pd.get_dummies(traindata)\n",
    "traindummy = traindummy.transform(lambda x:x**0.5)"
   ]
  },
  {
   "cell_type": "code",
   "execution_count": 74,
   "metadata": {},
   "outputs": [
    {
     "data": {
      "text/plain": [
       "Item_Weight                        0\n",
       "Item_Visibility                    0\n",
       "Item_MRP                           0\n",
       "Item_Outlet_Sales                  0\n",
       "Item_Fat_Content_Low Fat           0\n",
       "Item_Fat_Content_Regular           0\n",
       "Item_Type_Baking Goods             0\n",
       "Item_Type_Breads                   0\n",
       "Item_Type_Breakfast                0\n",
       "Item_Type_Canned                   0\n",
       "Item_Type_Dairy                    0\n",
       "Item_Type_Frozen Foods             0\n",
       "Item_Type_Fruits and Vegetables    0\n",
       "Item_Type_Hard Drinks              0\n",
       "Item_Type_Health and Hygiene       0\n",
       "Item_Type_Household                0\n",
       "Item_Type_Meat                     0\n",
       "Item_Type_Others                   0\n",
       "Item_Type_Seafood                  0\n",
       "Item_Type_Snack Foods              0\n",
       "Item_Type_Soft Drinks              0\n",
       "Item_Type_Starchy Foods            0\n",
       "Outlet_Identifier_OUT010           0\n",
       "Outlet_Identifier_OUT013           0\n",
       "Outlet_Identifier_OUT017           0\n",
       "Outlet_Identifier_OUT018           0\n",
       "Outlet_Identifier_OUT019           0\n",
       "Outlet_Identifier_OUT027           0\n",
       "Outlet_Identifier_OUT035           0\n",
       "Outlet_Identifier_OUT045           0\n",
       "                                  ..\n",
       "Item_Id_3_31                       0\n",
       "Item_Id_3_32                       0\n",
       "Item_Id_3_33                       0\n",
       "Item_Id_3_34                       0\n",
       "Item_Id_3_35                       0\n",
       "Item_Id_3_36                       0\n",
       "Item_Id_3_37                       0\n",
       "Item_Id_3_38                       0\n",
       "Item_Id_3_39                       0\n",
       "Item_Id_3_40                       0\n",
       "Item_Id_3_41                       0\n",
       "Item_Id_3_42                       0\n",
       "Item_Id_3_43                       0\n",
       "Item_Id_3_44                       0\n",
       "Item_Id_3_45                       0\n",
       "Item_Id_3_46                       0\n",
       "Item_Id_3_47                       0\n",
       "Item_Id_3_48                       0\n",
       "Item_Id_3_49                       0\n",
       "Item_Id_3_50                       0\n",
       "Item_Id_3_51                       0\n",
       "Item_Id_3_52                       0\n",
       "Item_Id_3_53                       0\n",
       "Item_Id_3_54                       0\n",
       "Item_Id_3_55                       0\n",
       "Item_Id_3_56                       0\n",
       "Item_Id_3_57                       0\n",
       "Item_Id_3_58                       0\n",
       "Item_Id_3_59                       0\n",
       "Item_Id_3_60                       0\n",
       "Length: 140, dtype: int64"
      ]
     },
     "execution_count": 74,
     "metadata": {},
     "output_type": "execute_result"
    }
   ],
   "source": [
    "traindummy.isnull().sum()"
   ]
  },
  {
   "cell_type": "code",
   "execution_count": 75,
   "metadata": {},
   "outputs": [],
   "source": [
    "testdummy = pd.get_dummies(testdata)\n",
    "testdummy = testdummy.transform(lambda x:x**0.5)"
   ]
  },
  {
   "cell_type": "code",
   "execution_count": 76,
   "metadata": {},
   "outputs": [
    {
     "data": {
      "text/plain": [
       "<matplotlib.axes._subplots.AxesSubplot at 0x1f3b4c27c50>"
      ]
     },
     "execution_count": 76,
     "metadata": {},
     "output_type": "execute_result"
    },
    {
     "data": {
      "image/png": "[encoded data removed]",
      "text/plain": [
       "<Figure size 432x288 with 1 Axes>"
      ]
     },
     "metadata": {
      "needs_background": "light"
     },
     "output_type": "display_data"
    }
   ],
   "source": [
    "sns.distplot(train.Item_Outlet_Sales**0.5)"
   ]
  },
  {
   "cell_type": "raw",
   "metadata": {},
   "source": [
    "The polynomial Regression also didn't improve our accuracy rather went on to give an overfitting model."
   ]
  },
  {
   "cell_type": "code",
   "execution_count": 77,
   "metadata": {},
   "outputs": [
    {
     "data": {
      "text/plain": [
       "(8523, 140)"
      ]
     },
     "execution_count": 77,
     "metadata": {},
     "output_type": "execute_result"
    }
   ],
   "source": [
    "traindummy.shape"
   ]
  },
  {
   "cell_type": "code",
   "execution_count": 78,
   "metadata": {},
   "outputs": [
    {
     "data": {
      "text/plain": [
       "(5681, 139)"
      ]
     },
     "execution_count": 78,
     "metadata": {},
     "output_type": "execute_result"
    }
   ],
   "source": [
    "testdummy.shape"
   ]
  },
  {
   "cell_type": "code",
   "execution_count": 79,
   "metadata": {},
   "outputs": [
    {
     "name": "stdout",
     "output_type": "stream",
     "text": [
      "Item_Outlet_Sales\n"
     ]
    }
   ],
   "source": [
    "for x in traindummy.columns:\n",
    "    if(x not in testdummy.columns):\n",
    "        print(x)"
   ]
  },
  {
   "cell_type": "code",
   "execution_count": 80,
   "metadata": {},
   "outputs": [],
   "source": [
    "#Upper_limit = 3101.296400 + 1.5 * (3101.296400-834.247400)"
   ]
  },
  {
   "cell_type": "code",
   "execution_count": 81,
   "metadata": {},
   "outputs": [],
   "source": [
    "#Upper_limit"
   ]
  },
  {
   "cell_type": "code",
   "execution_count": 82,
   "metadata": {},
   "outputs": [],
   "source": [
    "#newtrain = newtrain[newtrain['Item_Outlet_Sales']<=Upper_limit]"
   ]
  },
  {
   "cell_type": "raw",
   "metadata": {},
   "source": [
    "Code Lines 80, 81 and 82 are used to remove outliers. Removing outliers too did not help with he model. They reduced the variance."
   ]
  },
  {
   "cell_type": "code",
   "execution_count": 83,
   "metadata": {},
   "outputs": [
    {
     "name": "stdout",
     "output_type": "stream",
     "text": [
      "<class 'pandas.core.frame.DataFrame'>\n",
      "RangeIndex: 8523 entries, 0 to 8522\n",
      "Columns: 140 entries, Item_Weight to Item_Id_3_60\n",
      "dtypes: float64(140)\n",
      "memory usage: 9.1 MB\n"
     ]
    }
   ],
   "source": [
    "traindummy.info()"
   ]
  },
  {
   "cell_type": "code",
   "execution_count": 84,
   "metadata": {},
   "outputs": [
    {
     "name": "stdout",
     "output_type": "stream",
     "text": [
      "<class 'pandas.core.frame.DataFrame'>\n",
      "RangeIndex: 5681 entries, 8523 to 14203\n",
      "Columns: 139 entries, Item_Weight to Item_Id_3_60\n",
      "dtypes: float64(139)\n",
      "memory usage: 6.0 MB\n"
     ]
    }
   ],
   "source": [
    "testdummy.info()"
   ]
  },
  {
   "cell_type": "code",
   "execution_count": 85,
   "metadata": {},
   "outputs": [],
   "source": [
    "#--------------"
   ]
  },
  {
   "cell_type": "code",
   "execution_count": 86,
   "metadata": {},
   "outputs": [],
   "source": [
    "x = traindummy.drop(['Item_Outlet_Sales'],axis=1)\n",
    "y = traindummy['Item_Outlet_Sales']"
   ]
  },
  {
   "cell_type": "code",
   "execution_count": 87,
   "metadata": {},
   "outputs": [
    {
     "data": {
      "text/html": [
       "<div>\n",
       "<style scoped>\n",
       "    .dataframe tbody tr th:only-of-type {\n",
       "        vertical-align: middle;\n",
       "    }\n",
       "\n",
       "    .dataframe tbody tr th {\n",
       "        vertical-align: top;\n",
       "    }\n",
       "\n",
       "    .dataframe thead th {\n",
       "        text-align: right;\n",
       "    }\n",
       "</style>\n",
       "<table border=\"1\" class=\"dataframe\">\n",
       "  <thead>\n",
       "    <tr style=\"text-align: right;\">\n",
       "      <th></th>\n",
       "      <th>Item_Weight</th>\n",
       "      <th>Item_Visibility</th>\n",
       "      <th>Item_MRP</th>\n",
       "      <th>Item_Fat_Content_Low Fat</th>\n",
       "      <th>Item_Fat_Content_Regular</th>\n",
       "      <th>Item_Type_Baking Goods</th>\n",
       "      <th>Item_Type_Breads</th>\n",
       "      <th>Item_Type_Breakfast</th>\n",
       "      <th>Item_Type_Canned</th>\n",
       "      <th>Item_Type_Dairy</th>\n",
       "      <th>...</th>\n",
       "      <th>Item_Id_3_51</th>\n",
       "      <th>Item_Id_3_52</th>\n",
       "      <th>Item_Id_3_53</th>\n",
       "      <th>Item_Id_3_54</th>\n",
       "      <th>Item_Id_3_55</th>\n",
       "      <th>Item_Id_3_56</th>\n",
       "      <th>Item_Id_3_57</th>\n",
       "      <th>Item_Id_3_58</th>\n",
       "      <th>Item_Id_3_59</th>\n",
       "      <th>Item_Id_3_60</th>\n",
       "    </tr>\n",
       "  </thead>\n",
       "  <tbody>\n",
       "    <tr>\n",
       "      <th>0</th>\n",
       "      <td>3.049590</td>\n",
       "      <td>0.126678</td>\n",
       "      <td>15.805354</td>\n",
       "      <td>1.0</td>\n",
       "      <td>0.0</td>\n",
       "      <td>0.0</td>\n",
       "      <td>0.0</td>\n",
       "      <td>0.0</td>\n",
       "      <td>0.0</td>\n",
       "      <td>1.0</td>\n",
       "      <td>...</td>\n",
       "      <td>0.0</td>\n",
       "      <td>0.0</td>\n",
       "      <td>0.0</td>\n",
       "      <td>0.0</td>\n",
       "      <td>0.0</td>\n",
       "      <td>0.0</td>\n",
       "      <td>0.0</td>\n",
       "      <td>0.0</td>\n",
       "      <td>0.0</td>\n",
       "      <td>0.0</td>\n",
       "    </tr>\n",
       "    <tr>\n",
       "      <th>1</th>\n",
       "      <td>2.433105</td>\n",
       "      <td>0.138846</td>\n",
       "      <td>6.947604</td>\n",
       "      <td>0.0</td>\n",
       "      <td>1.0</td>\n",
       "      <td>0.0</td>\n",
       "      <td>0.0</td>\n",
       "      <td>0.0</td>\n",
       "      <td>0.0</td>\n",
       "      <td>0.0</td>\n",
       "      <td>...</td>\n",
       "      <td>0.0</td>\n",
       "      <td>0.0</td>\n",
       "      <td>0.0</td>\n",
       "      <td>0.0</td>\n",
       "      <td>0.0</td>\n",
       "      <td>0.0</td>\n",
       "      <td>0.0</td>\n",
       "      <td>0.0</td>\n",
       "      <td>0.0</td>\n",
       "      <td>0.0</td>\n",
       "    </tr>\n",
       "    <tr>\n",
       "      <th>2</th>\n",
       "      <td>4.183300</td>\n",
       "      <td>0.129461</td>\n",
       "      <td>11.900336</td>\n",
       "      <td>1.0</td>\n",
       "      <td>0.0</td>\n",
       "      <td>0.0</td>\n",
       "      <td>0.0</td>\n",
       "      <td>0.0</td>\n",
       "      <td>0.0</td>\n",
       "      <td>0.0</td>\n",
       "      <td>...</td>\n",
       "      <td>0.0</td>\n",
       "      <td>0.0</td>\n",
       "      <td>0.0</td>\n",
       "      <td>0.0</td>\n",
       "      <td>0.0</td>\n",
       "      <td>0.0</td>\n",
       "      <td>0.0</td>\n",
       "      <td>0.0</td>\n",
       "      <td>0.0</td>\n",
       "      <td>0.0</td>\n",
       "    </tr>\n",
       "    <tr>\n",
       "      <th>3</th>\n",
       "      <td>4.381780</td>\n",
       "      <td>0.000000</td>\n",
       "      <td>13.494258</td>\n",
       "      <td>0.0</td>\n",
       "      <td>1.0</td>\n",
       "      <td>0.0</td>\n",
       "      <td>0.0</td>\n",
       "      <td>0.0</td>\n",
       "      <td>0.0</td>\n",
       "      <td>0.0</td>\n",
       "      <td>...</td>\n",
       "      <td>0.0</td>\n",
       "      <td>0.0</td>\n",
       "      <td>0.0</td>\n",
       "      <td>0.0</td>\n",
       "      <td>0.0</td>\n",
       "      <td>0.0</td>\n",
       "      <td>0.0</td>\n",
       "      <td>0.0</td>\n",
       "      <td>0.0</td>\n",
       "      <td>0.0</td>\n",
       "    </tr>\n",
       "    <tr>\n",
       "      <th>4</th>\n",
       "      <td>2.988311</td>\n",
       "      <td>0.000000</td>\n",
       "      <td>7.339033</td>\n",
       "      <td>1.0</td>\n",
       "      <td>0.0</td>\n",
       "      <td>0.0</td>\n",
       "      <td>0.0</td>\n",
       "      <td>0.0</td>\n",
       "      <td>0.0</td>\n",
       "      <td>0.0</td>\n",
       "      <td>...</td>\n",
       "      <td>0.0</td>\n",
       "      <td>0.0</td>\n",
       "      <td>0.0</td>\n",
       "      <td>0.0</td>\n",
       "      <td>0.0</td>\n",
       "      <td>0.0</td>\n",
       "      <td>0.0</td>\n",
       "      <td>0.0</td>\n",
       "      <td>0.0</td>\n",
       "      <td>0.0</td>\n",
       "    </tr>\n",
       "    <tr>\n",
       "      <th>5</th>\n",
       "      <td>3.224128</td>\n",
       "      <td>0.000000</td>\n",
       "      <td>7.169435</td>\n",
       "      <td>0.0</td>\n",
       "      <td>1.0</td>\n",
       "      <td>1.0</td>\n",
       "      <td>0.0</td>\n",
       "      <td>0.0</td>\n",
       "      <td>0.0</td>\n",
       "      <td>0.0</td>\n",
       "      <td>...</td>\n",
       "      <td>0.0</td>\n",
       "      <td>0.0</td>\n",
       "      <td>0.0</td>\n",
       "      <td>0.0</td>\n",
       "      <td>0.0</td>\n",
       "      <td>0.0</td>\n",
       "      <td>0.0</td>\n",
       "      <td>0.0</td>\n",
       "      <td>0.0</td>\n",
       "      <td>0.0</td>\n",
       "    </tr>\n",
       "    <tr>\n",
       "      <th>6</th>\n",
       "      <td>3.694591</td>\n",
       "      <td>0.112876</td>\n",
       "      <td>7.593339</td>\n",
       "      <td>0.0</td>\n",
       "      <td>1.0</td>\n",
       "      <td>0.0</td>\n",
       "      <td>0.0</td>\n",
       "      <td>0.0</td>\n",
       "      <td>0.0</td>\n",
       "      <td>0.0</td>\n",
       "      <td>...</td>\n",
       "      <td>0.0</td>\n",
       "      <td>0.0</td>\n",
       "      <td>0.0</td>\n",
       "      <td>0.0</td>\n",
       "      <td>0.0</td>\n",
       "      <td>0.0</td>\n",
       "      <td>0.0</td>\n",
       "      <td>0.0</td>\n",
       "      <td>0.0</td>\n",
       "      <td>0.0</td>\n",
       "    </tr>\n",
       "    <tr>\n",
       "      <th>7</th>\n",
       "      <td>4.358899</td>\n",
       "      <td>0.357029</td>\n",
       "      <td>10.380857</td>\n",
       "      <td>1.0</td>\n",
       "      <td>0.0</td>\n",
       "      <td>0.0</td>\n",
       "      <td>0.0</td>\n",
       "      <td>0.0</td>\n",
       "      <td>0.0</td>\n",
       "      <td>0.0</td>\n",
       "      <td>...</td>\n",
       "      <td>0.0</td>\n",
       "      <td>0.0</td>\n",
       "      <td>0.0</td>\n",
       "      <td>0.0</td>\n",
       "      <td>0.0</td>\n",
       "      <td>0.0</td>\n",
       "      <td>0.0</td>\n",
       "      <td>0.0</td>\n",
       "      <td>0.0</td>\n",
       "      <td>0.0</td>\n",
       "    </tr>\n",
       "    <tr>\n",
       "      <th>8</th>\n",
       "      <td>4.024922</td>\n",
       "      <td>0.129179</td>\n",
       "      <td>9.847467</td>\n",
       "      <td>0.0</td>\n",
       "      <td>1.0</td>\n",
       "      <td>0.0</td>\n",
       "      <td>0.0</td>\n",
       "      <td>0.0</td>\n",
       "      <td>0.0</td>\n",
       "      <td>0.0</td>\n",
       "      <td>...</td>\n",
       "      <td>0.0</td>\n",
       "      <td>0.0</td>\n",
       "      <td>0.0</td>\n",
       "      <td>0.0</td>\n",
       "      <td>0.0</td>\n",
       "      <td>0.0</td>\n",
       "      <td>0.0</td>\n",
       "      <td>0.0</td>\n",
       "      <td>0.0</td>\n",
       "      <td>0.0</td>\n",
       "    </tr>\n",
       "    <tr>\n",
       "      <th>9</th>\n",
       "      <td>4.381780</td>\n",
       "      <td>0.307327</td>\n",
       "      <td>13.704795</td>\n",
       "      <td>0.0</td>\n",
       "      <td>1.0</td>\n",
       "      <td>0.0</td>\n",
       "      <td>0.0</td>\n",
       "      <td>0.0</td>\n",
       "      <td>0.0</td>\n",
       "      <td>0.0</td>\n",
       "      <td>...</td>\n",
       "      <td>0.0</td>\n",
       "      <td>0.0</td>\n",
       "      <td>0.0</td>\n",
       "      <td>0.0</td>\n",
       "      <td>0.0</td>\n",
       "      <td>0.0</td>\n",
       "      <td>0.0</td>\n",
       "      <td>0.0</td>\n",
       "      <td>0.0</td>\n",
       "      <td>0.0</td>\n",
       "    </tr>\n",
       "    <tr>\n",
       "      <th>10</th>\n",
       "      <td>3.435113</td>\n",
       "      <td>0.000000</td>\n",
       "      <td>6.748348</td>\n",
       "      <td>1.0</td>\n",
       "      <td>0.0</td>\n",
       "      <td>0.0</td>\n",
       "      <td>0.0</td>\n",
       "      <td>0.0</td>\n",
       "      <td>0.0</td>\n",
       "      <td>0.0</td>\n",
       "      <td>...</td>\n",
       "      <td>0.0</td>\n",
       "      <td>0.0</td>\n",
       "      <td>0.0</td>\n",
       "      <td>0.0</td>\n",
       "      <td>0.0</td>\n",
       "      <td>0.0</td>\n",
       "      <td>0.0</td>\n",
       "      <td>0.0</td>\n",
       "      <td>0.0</td>\n",
       "      <td>0.0</td>\n",
       "    </tr>\n",
       "    <tr>\n",
       "      <th>11</th>\n",
       "      <td>4.301163</td>\n",
       "      <td>0.213222</td>\n",
       "      <td>12.004591</td>\n",
       "      <td>0.0</td>\n",
       "      <td>1.0</td>\n",
       "      <td>0.0</td>\n",
       "      <td>0.0</td>\n",
       "      <td>0.0</td>\n",
       "      <td>0.0</td>\n",
       "      <td>1.0</td>\n",
       "      <td>...</td>\n",
       "      <td>0.0</td>\n",
       "      <td>0.0</td>\n",
       "      <td>0.0</td>\n",
       "      <td>0.0</td>\n",
       "      <td>0.0</td>\n",
       "      <td>0.0</td>\n",
       "      <td>0.0</td>\n",
       "      <td>0.0</td>\n",
       "      <td>0.0</td>\n",
       "      <td>0.0</td>\n",
       "    </tr>\n",
       "    <tr>\n",
       "      <th>12</th>\n",
       "      <td>3.885872</td>\n",
       "      <td>0.316249</td>\n",
       "      <td>12.061451</td>\n",
       "      <td>0.0</td>\n",
       "      <td>1.0</td>\n",
       "      <td>0.0</td>\n",
       "      <td>0.0</td>\n",
       "      <td>0.0</td>\n",
       "      <td>0.0</td>\n",
       "      <td>0.0</td>\n",
       "      <td>...</td>\n",
       "      <td>0.0</td>\n",
       "      <td>0.0</td>\n",
       "      <td>0.0</td>\n",
       "      <td>0.0</td>\n",
       "      <td>0.0</td>\n",
       "      <td>0.0</td>\n",
       "      <td>0.0</td>\n",
       "      <td>0.0</td>\n",
       "      <td>0.0</td>\n",
       "      <td>0.0</td>\n",
       "    </tr>\n",
       "    <tr>\n",
       "      <th>13</th>\n",
       "      <td>4.195235</td>\n",
       "      <td>0.217388</td>\n",
       "      <td>10.939753</td>\n",
       "      <td>0.0</td>\n",
       "      <td>1.0</td>\n",
       "      <td>0.0</td>\n",
       "      <td>0.0</td>\n",
       "      <td>0.0</td>\n",
       "      <td>0.0</td>\n",
       "      <td>0.0</td>\n",
       "      <td>...</td>\n",
       "      <td>0.0</td>\n",
       "      <td>0.0</td>\n",
       "      <td>0.0</td>\n",
       "      <td>0.0</td>\n",
       "      <td>0.0</td>\n",
       "      <td>0.0</td>\n",
       "      <td>0.0</td>\n",
       "      <td>0.0</td>\n",
       "      <td>0.0</td>\n",
       "      <td>0.0</td>\n",
       "    </tr>\n",
       "    <tr>\n",
       "      <th>14</th>\n",
       "      <td>4.043513</td>\n",
       "      <td>0.260815</td>\n",
       "      <td>14.015798</td>\n",
       "      <td>1.0</td>\n",
       "      <td>0.0</td>\n",
       "      <td>0.0</td>\n",
       "      <td>0.0</td>\n",
       "      <td>0.0</td>\n",
       "      <td>0.0</td>\n",
       "      <td>0.0</td>\n",
       "      <td>...</td>\n",
       "      <td>0.0</td>\n",
       "      <td>0.0</td>\n",
       "      <td>0.0</td>\n",
       "      <td>0.0</td>\n",
       "      <td>0.0</td>\n",
       "      <td>0.0</td>\n",
       "      <td>0.0</td>\n",
       "      <td>0.0</td>\n",
       "      <td>0.0</td>\n",
       "      <td>0.0</td>\n",
       "    </tr>\n",
       "    <tr>\n",
       "      <th>15</th>\n",
       "      <td>3.000000</td>\n",
       "      <td>0.262848</td>\n",
       "      <td>7.507423</td>\n",
       "      <td>0.0</td>\n",
       "      <td>1.0</td>\n",
       "      <td>0.0</td>\n",
       "      <td>0.0</td>\n",
       "      <td>1.0</td>\n",
       "      <td>0.0</td>\n",
       "      <td>0.0</td>\n",
       "      <td>...</td>\n",
       "      <td>0.0</td>\n",
       "      <td>0.0</td>\n",
       "      <td>0.0</td>\n",
       "      <td>0.0</td>\n",
       "      <td>0.0</td>\n",
       "      <td>0.0</td>\n",
       "      <td>0.0</td>\n",
       "      <td>0.0</td>\n",
       "      <td>0.0</td>\n",
       "      <td>0.0</td>\n",
       "    </tr>\n",
       "    <tr>\n",
       "      <th>16</th>\n",
       "      <td>3.435113</td>\n",
       "      <td>0.092715</td>\n",
       "      <td>10.740074</td>\n",
       "      <td>1.0</td>\n",
       "      <td>0.0</td>\n",
       "      <td>0.0</td>\n",
       "      <td>0.0</td>\n",
       "      <td>0.0</td>\n",
       "      <td>0.0</td>\n",
       "      <td>0.0</td>\n",
       "      <td>...</td>\n",
       "      <td>0.0</td>\n",
       "      <td>0.0</td>\n",
       "      <td>0.0</td>\n",
       "      <td>0.0</td>\n",
       "      <td>0.0</td>\n",
       "      <td>0.0</td>\n",
       "      <td>0.0</td>\n",
       "      <td>0.0</td>\n",
       "      <td>0.0</td>\n",
       "      <td>0.0</td>\n",
       "    </tr>\n",
       "    <tr>\n",
       "      <th>17</th>\n",
       "      <td>3.000000</td>\n",
       "      <td>0.263052</td>\n",
       "      <td>7.373018</td>\n",
       "      <td>0.0</td>\n",
       "      <td>1.0</td>\n",
       "      <td>0.0</td>\n",
       "      <td>0.0</td>\n",
       "      <td>1.0</td>\n",
       "      <td>0.0</td>\n",
       "      <td>0.0</td>\n",
       "      <td>...</td>\n",
       "      <td>0.0</td>\n",
       "      <td>0.0</td>\n",
       "      <td>0.0</td>\n",
       "      <td>0.0</td>\n",
       "      <td>0.0</td>\n",
       "      <td>0.0</td>\n",
       "      <td>0.0</td>\n",
       "      <td>0.0</td>\n",
       "      <td>0.0</td>\n",
       "      <td>0.0</td>\n",
       "    </tr>\n",
       "    <tr>\n",
       "      <th>18</th>\n",
       "      <td>2.874022</td>\n",
       "      <td>0.185034</td>\n",
       "      <td>10.643467</td>\n",
       "      <td>1.0</td>\n",
       "      <td>0.0</td>\n",
       "      <td>0.0</td>\n",
       "      <td>0.0</td>\n",
       "      <td>0.0</td>\n",
       "      <td>0.0</td>\n",
       "      <td>0.0</td>\n",
       "      <td>...</td>\n",
       "      <td>0.0</td>\n",
       "      <td>0.0</td>\n",
       "      <td>0.0</td>\n",
       "      <td>0.0</td>\n",
       "      <td>0.0</td>\n",
       "      <td>0.0</td>\n",
       "      <td>0.0</td>\n",
       "      <td>0.0</td>\n",
       "      <td>0.0</td>\n",
       "      <td>0.0</td>\n",
       "    </tr>\n",
       "    <tr>\n",
       "      <th>19</th>\n",
       "      <td>3.653765</td>\n",
       "      <td>0.320144</td>\n",
       "      <td>15.183386</td>\n",
       "      <td>1.0</td>\n",
       "      <td>0.0</td>\n",
       "      <td>0.0</td>\n",
       "      <td>0.0</td>\n",
       "      <td>0.0</td>\n",
       "      <td>0.0</td>\n",
       "      <td>1.0</td>\n",
       "      <td>...</td>\n",
       "      <td>0.0</td>\n",
       "      <td>0.0</td>\n",
       "      <td>0.0</td>\n",
       "      <td>0.0</td>\n",
       "      <td>0.0</td>\n",
       "      <td>0.0</td>\n",
       "      <td>0.0</td>\n",
       "      <td>0.0</td>\n",
       "      <td>0.0</td>\n",
       "      <td>0.0</td>\n",
       "    </tr>\n",
       "    <tr>\n",
       "      <th>20</th>\n",
       "      <td>4.341659</td>\n",
       "      <td>0.371740</td>\n",
       "      <td>15.838952</td>\n",
       "      <td>0.0</td>\n",
       "      <td>1.0</td>\n",
       "      <td>0.0</td>\n",
       "      <td>0.0</td>\n",
       "      <td>0.0</td>\n",
       "      <td>0.0</td>\n",
       "      <td>0.0</td>\n",
       "      <td>...</td>\n",
       "      <td>0.0</td>\n",
       "      <td>0.0</td>\n",
       "      <td>0.0</td>\n",
       "      <td>0.0</td>\n",
       "      <td>0.0</td>\n",
       "      <td>0.0</td>\n",
       "      <td>0.0</td>\n",
       "      <td>0.0</td>\n",
       "      <td>0.0</td>\n",
       "      <td>0.0</td>\n",
       "    </tr>\n",
       "    <tr>\n",
       "      <th>21</th>\n",
       "      <td>2.883574</td>\n",
       "      <td>0.188149</td>\n",
       "      <td>12.022662</td>\n",
       "      <td>0.0</td>\n",
       "      <td>1.0</td>\n",
       "      <td>1.0</td>\n",
       "      <td>0.0</td>\n",
       "      <td>0.0</td>\n",
       "      <td>0.0</td>\n",
       "      <td>0.0</td>\n",
       "      <td>...</td>\n",
       "      <td>0.0</td>\n",
       "      <td>0.0</td>\n",
       "      <td>0.0</td>\n",
       "      <td>0.0</td>\n",
       "      <td>0.0</td>\n",
       "      <td>0.0</td>\n",
       "      <td>0.0</td>\n",
       "      <td>0.0</td>\n",
       "      <td>0.0</td>\n",
       "      <td>0.0</td>\n",
       "    </tr>\n",
       "    <tr>\n",
       "      <th>22</th>\n",
       "      <td>3.820995</td>\n",
       "      <td>0.160306</td>\n",
       "      <td>14.018145</td>\n",
       "      <td>1.0</td>\n",
       "      <td>0.0</td>\n",
       "      <td>0.0</td>\n",
       "      <td>0.0</td>\n",
       "      <td>0.0</td>\n",
       "      <td>0.0</td>\n",
       "      <td>0.0</td>\n",
       "      <td>...</td>\n",
       "      <td>0.0</td>\n",
       "      <td>0.0</td>\n",
       "      <td>0.0</td>\n",
       "      <td>0.0</td>\n",
       "      <td>0.0</td>\n",
       "      <td>0.0</td>\n",
       "      <td>0.0</td>\n",
       "      <td>0.0</td>\n",
       "      <td>0.0</td>\n",
       "      <td>0.0</td>\n",
       "    </tr>\n",
       "    <tr>\n",
       "      <th>23</th>\n",
       "      <td>3.937004</td>\n",
       "      <td>0.239910</td>\n",
       "      <td>10.377562</td>\n",
       "      <td>1.0</td>\n",
       "      <td>0.0</td>\n",
       "      <td>1.0</td>\n",
       "      <td>0.0</td>\n",
       "      <td>0.0</td>\n",
       "      <td>0.0</td>\n",
       "      <td>0.0</td>\n",
       "      <td>...</td>\n",
       "      <td>0.0</td>\n",
       "      <td>0.0</td>\n",
       "      <td>0.0</td>\n",
       "      <td>0.0</td>\n",
       "      <td>0.0</td>\n",
       "      <td>0.0</td>\n",
       "      <td>0.0</td>\n",
       "      <td>0.0</td>\n",
       "      <td>0.0</td>\n",
       "      <td>0.0</td>\n",
       "    </tr>\n",
       "    <tr>\n",
       "      <th>24</th>\n",
       "      <td>3.721559</td>\n",
       "      <td>0.160924</td>\n",
       "      <td>12.846050</td>\n",
       "      <td>0.0</td>\n",
       "      <td>1.0</td>\n",
       "      <td>0.0</td>\n",
       "      <td>0.0</td>\n",
       "      <td>0.0</td>\n",
       "      <td>0.0</td>\n",
       "      <td>0.0</td>\n",
       "      <td>...</td>\n",
       "      <td>0.0</td>\n",
       "      <td>0.0</td>\n",
       "      <td>0.0</td>\n",
       "      <td>0.0</td>\n",
       "      <td>0.0</td>\n",
       "      <td>0.0</td>\n",
       "      <td>0.0</td>\n",
       "      <td>0.0</td>\n",
       "      <td>0.0</td>\n",
       "      <td>0.0</td>\n",
       "    </tr>\n",
       "    <tr>\n",
       "      <th>25</th>\n",
       "      <td>3.605551</td>\n",
       "      <td>0.316049</td>\n",
       "      <td>6.775397</td>\n",
       "      <td>1.0</td>\n",
       "      <td>0.0</td>\n",
       "      <td>0.0</td>\n",
       "      <td>0.0</td>\n",
       "      <td>0.0</td>\n",
       "      <td>0.0</td>\n",
       "      <td>0.0</td>\n",
       "      <td>...</td>\n",
       "      <td>0.0</td>\n",
       "      <td>0.0</td>\n",
       "      <td>0.0</td>\n",
       "      <td>0.0</td>\n",
       "      <td>0.0</td>\n",
       "      <td>0.0</td>\n",
       "      <td>0.0</td>\n",
       "      <td>0.0</td>\n",
       "      <td>0.0</td>\n",
       "      <td>0.0</td>\n",
       "    </tr>\n",
       "    <tr>\n",
       "      <th>26</th>\n",
       "      <td>2.764959</td>\n",
       "      <td>0.258251</td>\n",
       "      <td>6.504706</td>\n",
       "      <td>0.0</td>\n",
       "      <td>1.0</td>\n",
       "      <td>0.0</td>\n",
       "      <td>0.0</td>\n",
       "      <td>0.0</td>\n",
       "      <td>0.0</td>\n",
       "      <td>0.0</td>\n",
       "      <td>...</td>\n",
       "      <td>0.0</td>\n",
       "      <td>0.0</td>\n",
       "      <td>0.0</td>\n",
       "      <td>0.0</td>\n",
       "      <td>0.0</td>\n",
       "      <td>0.0</td>\n",
       "      <td>0.0</td>\n",
       "      <td>0.0</td>\n",
       "      <td>0.0</td>\n",
       "      <td>0.0</td>\n",
       "    </tr>\n",
       "    <tr>\n",
       "      <th>27</th>\n",
       "      <td>3.413210</td>\n",
       "      <td>0.139126</td>\n",
       "      <td>6.254311</td>\n",
       "      <td>1.0</td>\n",
       "      <td>0.0</td>\n",
       "      <td>0.0</td>\n",
       "      <td>0.0</td>\n",
       "      <td>0.0</td>\n",
       "      <td>0.0</td>\n",
       "      <td>0.0</td>\n",
       "      <td>...</td>\n",
       "      <td>0.0</td>\n",
       "      <td>0.0</td>\n",
       "      <td>0.0</td>\n",
       "      <td>0.0</td>\n",
       "      <td>0.0</td>\n",
       "      <td>0.0</td>\n",
       "      <td>0.0</td>\n",
       "      <td>0.0</td>\n",
       "      <td>1.0</td>\n",
       "      <td>0.0</td>\n",
       "    </tr>\n",
       "    <tr>\n",
       "      <th>28</th>\n",
       "      <td>2.434132</td>\n",
       "      <td>0.401829</td>\n",
       "      <td>6.746006</td>\n",
       "      <td>0.0</td>\n",
       "      <td>1.0</td>\n",
       "      <td>0.0</td>\n",
       "      <td>0.0</td>\n",
       "      <td>0.0</td>\n",
       "      <td>0.0</td>\n",
       "      <td>1.0</td>\n",
       "      <td>...</td>\n",
       "      <td>1.0</td>\n",
       "      <td>0.0</td>\n",
       "      <td>0.0</td>\n",
       "      <td>0.0</td>\n",
       "      <td>0.0</td>\n",
       "      <td>0.0</td>\n",
       "      <td>0.0</td>\n",
       "      <td>0.0</td>\n",
       "      <td>0.0</td>\n",
       "      <td>0.0</td>\n",
       "    </tr>\n",
       "    <tr>\n",
       "      <th>29</th>\n",
       "      <td>3.807887</td>\n",
       "      <td>0.268741</td>\n",
       "      <td>6.606467</td>\n",
       "      <td>0.0</td>\n",
       "      <td>1.0</td>\n",
       "      <td>0.0</td>\n",
       "      <td>0.0</td>\n",
       "      <td>0.0</td>\n",
       "      <td>1.0</td>\n",
       "      <td>0.0</td>\n",
       "      <td>...</td>\n",
       "      <td>0.0</td>\n",
       "      <td>0.0</td>\n",
       "      <td>0.0</td>\n",
       "      <td>0.0</td>\n",
       "      <td>0.0</td>\n",
       "      <td>0.0</td>\n",
       "      <td>0.0</td>\n",
       "      <td>0.0</td>\n",
       "      <td>0.0</td>\n",
       "      <td>0.0</td>\n",
       "    </tr>\n",
       "    <tr>\n",
       "      <th>...</th>\n",
       "      <td>...</td>\n",
       "      <td>...</td>\n",
       "      <td>...</td>\n",
       "      <td>...</td>\n",
       "      <td>...</td>\n",
       "      <td>...</td>\n",
       "      <td>...</td>\n",
       "      <td>...</td>\n",
       "      <td>...</td>\n",
       "      <td>...</td>\n",
       "      <td>...</td>\n",
       "      <td>...</td>\n",
       "      <td>...</td>\n",
       "      <td>...</td>\n",
       "      <td>...</td>\n",
       "      <td>...</td>\n",
       "      <td>...</td>\n",
       "      <td>...</td>\n",
       "      <td>...</td>\n",
       "      <td>...</td>\n",
       "      <td>...</td>\n",
       "    </tr>\n",
       "    <tr>\n",
       "      <th>8493</th>\n",
       "      <td>2.723968</td>\n",
       "      <td>0.160893</td>\n",
       "      <td>13.754534</td>\n",
       "      <td>0.0</td>\n",
       "      <td>1.0</td>\n",
       "      <td>0.0</td>\n",
       "      <td>0.0</td>\n",
       "      <td>0.0</td>\n",
       "      <td>0.0</td>\n",
       "      <td>0.0</td>\n",
       "      <td>...</td>\n",
       "      <td>0.0</td>\n",
       "      <td>0.0</td>\n",
       "      <td>0.0</td>\n",
       "      <td>0.0</td>\n",
       "      <td>0.0</td>\n",
       "      <td>0.0</td>\n",
       "      <td>0.0</td>\n",
       "      <td>0.0</td>\n",
       "      <td>0.0</td>\n",
       "      <td>0.0</td>\n",
       "    </tr>\n",
       "    <tr>\n",
       "      <th>8494</th>\n",
       "      <td>3.898718</td>\n",
       "      <td>0.000000</td>\n",
       "      <td>10.511479</td>\n",
       "      <td>1.0</td>\n",
       "      <td>0.0</td>\n",
       "      <td>0.0</td>\n",
       "      <td>0.0</td>\n",
       "      <td>0.0</td>\n",
       "      <td>0.0</td>\n",
       "      <td>0.0</td>\n",
       "      <td>...</td>\n",
       "      <td>0.0</td>\n",
       "      <td>0.0</td>\n",
       "      <td>0.0</td>\n",
       "      <td>1.0</td>\n",
       "      <td>0.0</td>\n",
       "      <td>0.0</td>\n",
       "      <td>0.0</td>\n",
       "      <td>0.0</td>\n",
       "      <td>0.0</td>\n",
       "      <td>0.0</td>\n",
       "    </tr>\n",
       "    <tr>\n",
       "      <th>8495</th>\n",
       "      <td>3.113679</td>\n",
       "      <td>0.171951</td>\n",
       "      <td>12.668544</td>\n",
       "      <td>1.0</td>\n",
       "      <td>0.0</td>\n",
       "      <td>0.0</td>\n",
       "      <td>0.0</td>\n",
       "      <td>0.0</td>\n",
       "      <td>0.0</td>\n",
       "      <td>0.0</td>\n",
       "      <td>...</td>\n",
       "      <td>0.0</td>\n",
       "      <td>0.0</td>\n",
       "      <td>0.0</td>\n",
       "      <td>0.0</td>\n",
       "      <td>0.0</td>\n",
       "      <td>0.0</td>\n",
       "      <td>0.0</td>\n",
       "      <td>0.0</td>\n",
       "      <td>0.0</td>\n",
       "      <td>0.0</td>\n",
       "    </tr>\n",
       "    <tr>\n",
       "      <th>8496</th>\n",
       "      <td>2.723968</td>\n",
       "      <td>0.147295</td>\n",
       "      <td>13.614632</td>\n",
       "      <td>0.0</td>\n",
       "      <td>1.0</td>\n",
       "      <td>0.0</td>\n",
       "      <td>0.0</td>\n",
       "      <td>0.0</td>\n",
       "      <td>0.0</td>\n",
       "      <td>0.0</td>\n",
       "      <td>...</td>\n",
       "      <td>0.0</td>\n",
       "      <td>0.0</td>\n",
       "      <td>0.0</td>\n",
       "      <td>0.0</td>\n",
       "      <td>0.0</td>\n",
       "      <td>0.0</td>\n",
       "      <td>1.0</td>\n",
       "      <td>0.0</td>\n",
       "      <td>0.0</td>\n",
       "      <td>0.0</td>\n",
       "    </tr>\n",
       "    <tr>\n",
       "      <th>8497</th>\n",
       "      <td>3.694591</td>\n",
       "      <td>0.221831</td>\n",
       "      <td>12.247653</td>\n",
       "      <td>1.0</td>\n",
       "      <td>0.0</td>\n",
       "      <td>0.0</td>\n",
       "      <td>0.0</td>\n",
       "      <td>0.0</td>\n",
       "      <td>0.0</td>\n",
       "      <td>0.0</td>\n",
       "      <td>...</td>\n",
       "      <td>0.0</td>\n",
       "      <td>0.0</td>\n",
       "      <td>0.0</td>\n",
       "      <td>0.0</td>\n",
       "      <td>0.0</td>\n",
       "      <td>0.0</td>\n",
       "      <td>0.0</td>\n",
       "      <td>0.0</td>\n",
       "      <td>0.0</td>\n",
       "      <td>0.0</td>\n",
       "    </tr>\n",
       "    <tr>\n",
       "      <th>8498</th>\n",
       "      <td>3.917908</td>\n",
       "      <td>0.187864</td>\n",
       "      <td>11.161228</td>\n",
       "      <td>1.0</td>\n",
       "      <td>0.0</td>\n",
       "      <td>0.0</td>\n",
       "      <td>0.0</td>\n",
       "      <td>0.0</td>\n",
       "      <td>0.0</td>\n",
       "      <td>0.0</td>\n",
       "      <td>...</td>\n",
       "      <td>0.0</td>\n",
       "      <td>0.0</td>\n",
       "      <td>0.0</td>\n",
       "      <td>1.0</td>\n",
       "      <td>0.0</td>\n",
       "      <td>0.0</td>\n",
       "      <td>0.0</td>\n",
       "      <td>0.0</td>\n",
       "      <td>0.0</td>\n",
       "      <td>0.0</td>\n",
       "    </tr>\n",
       "    <tr>\n",
       "      <th>8499</th>\n",
       "      <td>3.405877</td>\n",
       "      <td>0.193840</td>\n",
       "      <td>10.000210</td>\n",
       "      <td>1.0</td>\n",
       "      <td>0.0</td>\n",
       "      <td>0.0</td>\n",
       "      <td>0.0</td>\n",
       "      <td>0.0</td>\n",
       "      <td>0.0</td>\n",
       "      <td>0.0</td>\n",
       "      <td>...</td>\n",
       "      <td>0.0</td>\n",
       "      <td>0.0</td>\n",
       "      <td>1.0</td>\n",
       "      <td>0.0</td>\n",
       "      <td>0.0</td>\n",
       "      <td>0.0</td>\n",
       "      <td>0.0</td>\n",
       "      <td>0.0</td>\n",
       "      <td>0.0</td>\n",
       "      <td>0.0</td>\n",
       "    </tr>\n",
       "    <tr>\n",
       "      <th>8500</th>\n",
       "      <td>4.511097</td>\n",
       "      <td>0.000000</td>\n",
       "      <td>11.187842</td>\n",
       "      <td>1.0</td>\n",
       "      <td>0.0</td>\n",
       "      <td>0.0</td>\n",
       "      <td>0.0</td>\n",
       "      <td>0.0</td>\n",
       "      <td>0.0</td>\n",
       "      <td>0.0</td>\n",
       "      <td>...</td>\n",
       "      <td>0.0</td>\n",
       "      <td>0.0</td>\n",
       "      <td>0.0</td>\n",
       "      <td>0.0</td>\n",
       "      <td>0.0</td>\n",
       "      <td>0.0</td>\n",
       "      <td>0.0</td>\n",
       "      <td>0.0</td>\n",
       "      <td>0.0</td>\n",
       "      <td>0.0</td>\n",
       "    </tr>\n",
       "    <tr>\n",
       "      <th>8501</th>\n",
       "      <td>2.310844</td>\n",
       "      <td>0.077444</td>\n",
       "      <td>10.021766</td>\n",
       "      <td>0.0</td>\n",
       "      <td>1.0</td>\n",
       "      <td>0.0</td>\n",
       "      <td>0.0</td>\n",
       "      <td>0.0</td>\n",
       "      <td>0.0</td>\n",
       "      <td>0.0</td>\n",
       "      <td>...</td>\n",
       "      <td>0.0</td>\n",
       "      <td>0.0</td>\n",
       "      <td>0.0</td>\n",
       "      <td>0.0</td>\n",
       "      <td>0.0</td>\n",
       "      <td>0.0</td>\n",
       "      <td>0.0</td>\n",
       "      <td>0.0</td>\n",
       "      <td>0.0</td>\n",
       "      <td>0.0</td>\n",
       "    </tr>\n",
       "    <tr>\n",
       "      <th>8502</th>\n",
       "      <td>2.901724</td>\n",
       "      <td>0.265917</td>\n",
       "      <td>14.711193</td>\n",
       "      <td>1.0</td>\n",
       "      <td>0.0</td>\n",
       "      <td>0.0</td>\n",
       "      <td>0.0</td>\n",
       "      <td>0.0</td>\n",
       "      <td>0.0</td>\n",
       "      <td>0.0</td>\n",
       "      <td>...</td>\n",
       "      <td>0.0</td>\n",
       "      <td>0.0</td>\n",
       "      <td>0.0</td>\n",
       "      <td>0.0</td>\n",
       "      <td>0.0</td>\n",
       "      <td>0.0</td>\n",
       "      <td>0.0</td>\n",
       "      <td>0.0</td>\n",
       "      <td>0.0</td>\n",
       "      <td>0.0</td>\n",
       "    </tr>\n",
       "    <tr>\n",
       "      <th>8503</th>\n",
       "      <td>4.527693</td>\n",
       "      <td>0.190088</td>\n",
       "      <td>10.962463</td>\n",
       "      <td>1.0</td>\n",
       "      <td>0.0</td>\n",
       "      <td>0.0</td>\n",
       "      <td>0.0</td>\n",
       "      <td>0.0</td>\n",
       "      <td>0.0</td>\n",
       "      <td>0.0</td>\n",
       "      <td>...</td>\n",
       "      <td>0.0</td>\n",
       "      <td>0.0</td>\n",
       "      <td>0.0</td>\n",
       "      <td>0.0</td>\n",
       "      <td>0.0</td>\n",
       "      <td>0.0</td>\n",
       "      <td>0.0</td>\n",
       "      <td>0.0</td>\n",
       "      <td>0.0</td>\n",
       "      <td>0.0</td>\n",
       "    </tr>\n",
       "    <tr>\n",
       "      <th>8504</th>\n",
       "      <td>2.982449</td>\n",
       "      <td>0.352294</td>\n",
       "      <td>10.571395</td>\n",
       "      <td>1.0</td>\n",
       "      <td>0.0</td>\n",
       "      <td>0.0</td>\n",
       "      <td>0.0</td>\n",
       "      <td>0.0</td>\n",
       "      <td>0.0</td>\n",
       "      <td>0.0</td>\n",
       "      <td>...</td>\n",
       "      <td>0.0</td>\n",
       "      <td>0.0</td>\n",
       "      <td>0.0</td>\n",
       "      <td>0.0</td>\n",
       "      <td>0.0</td>\n",
       "      <td>0.0</td>\n",
       "      <td>0.0</td>\n",
       "      <td>0.0</td>\n",
       "      <td>0.0</td>\n",
       "      <td>0.0</td>\n",
       "    </tr>\n",
       "    <tr>\n",
       "      <th>8505</th>\n",
       "      <td>3.240370</td>\n",
       "      <td>0.306832</td>\n",
       "      <td>14.519793</td>\n",
       "      <td>0.0</td>\n",
       "      <td>1.0</td>\n",
       "      <td>0.0</td>\n",
       "      <td>0.0</td>\n",
       "      <td>0.0</td>\n",
       "      <td>0.0</td>\n",
       "      <td>0.0</td>\n",
       "      <td>...</td>\n",
       "      <td>0.0</td>\n",
       "      <td>0.0</td>\n",
       "      <td>0.0</td>\n",
       "      <td>0.0</td>\n",
       "      <td>0.0</td>\n",
       "      <td>0.0</td>\n",
       "      <td>0.0</td>\n",
       "      <td>0.0</td>\n",
       "      <td>0.0</td>\n",
       "      <td>0.0</td>\n",
       "    </tr>\n",
       "    <tr>\n",
       "      <th>8506</th>\n",
       "      <td>4.153312</td>\n",
       "      <td>0.290992</td>\n",
       "      <td>16.223162</td>\n",
       "      <td>1.0</td>\n",
       "      <td>0.0</td>\n",
       "      <td>0.0</td>\n",
       "      <td>0.0</td>\n",
       "      <td>0.0</td>\n",
       "      <td>0.0</td>\n",
       "      <td>0.0</td>\n",
       "      <td>...</td>\n",
       "      <td>0.0</td>\n",
       "      <td>0.0</td>\n",
       "      <td>0.0</td>\n",
       "      <td>0.0</td>\n",
       "      <td>0.0</td>\n",
       "      <td>0.0</td>\n",
       "      <td>0.0</td>\n",
       "      <td>0.0</td>\n",
       "      <td>0.0</td>\n",
       "      <td>0.0</td>\n",
       "    </tr>\n",
       "    <tr>\n",
       "      <th>8507</th>\n",
       "      <td>2.424871</td>\n",
       "      <td>0.173903</td>\n",
       "      <td>10.089549</td>\n",
       "      <td>0.0</td>\n",
       "      <td>1.0</td>\n",
       "      <td>0.0</td>\n",
       "      <td>0.0</td>\n",
       "      <td>0.0</td>\n",
       "      <td>0.0</td>\n",
       "      <td>0.0</td>\n",
       "      <td>...</td>\n",
       "      <td>0.0</td>\n",
       "      <td>0.0</td>\n",
       "      <td>0.0</td>\n",
       "      <td>0.0</td>\n",
       "      <td>0.0</td>\n",
       "      <td>0.0</td>\n",
       "      <td>0.0</td>\n",
       "      <td>0.0</td>\n",
       "      <td>0.0</td>\n",
       "      <td>0.0</td>\n",
       "    </tr>\n",
       "    <tr>\n",
       "      <th>8508</th>\n",
       "      <td>3.368976</td>\n",
       "      <td>0.207956</td>\n",
       "      <td>14.123534</td>\n",
       "      <td>0.0</td>\n",
       "      <td>1.0</td>\n",
       "      <td>0.0</td>\n",
       "      <td>0.0</td>\n",
       "      <td>0.0</td>\n",
       "      <td>0.0</td>\n",
       "      <td>0.0</td>\n",
       "      <td>...</td>\n",
       "      <td>0.0</td>\n",
       "      <td>0.0</td>\n",
       "      <td>0.0</td>\n",
       "      <td>0.0</td>\n",
       "      <td>0.0</td>\n",
       "      <td>0.0</td>\n",
       "      <td>0.0</td>\n",
       "      <td>0.0</td>\n",
       "      <td>0.0</td>\n",
       "      <td>0.0</td>\n",
       "    </tr>\n",
       "    <tr>\n",
       "      <th>8509</th>\n",
       "      <td>2.846050</td>\n",
       "      <td>0.462932</td>\n",
       "      <td>14.628404</td>\n",
       "      <td>1.0</td>\n",
       "      <td>0.0</td>\n",
       "      <td>0.0</td>\n",
       "      <td>0.0</td>\n",
       "      <td>0.0</td>\n",
       "      <td>0.0</td>\n",
       "      <td>0.0</td>\n",
       "      <td>...</td>\n",
       "      <td>0.0</td>\n",
       "      <td>0.0</td>\n",
       "      <td>0.0</td>\n",
       "      <td>0.0</td>\n",
       "      <td>0.0</td>\n",
       "      <td>0.0</td>\n",
       "      <td>0.0</td>\n",
       "      <td>0.0</td>\n",
       "      <td>0.0</td>\n",
       "      <td>0.0</td>\n",
       "    </tr>\n",
       "    <tr>\n",
       "      <th>8510</th>\n",
       "      <td>3.714835</td>\n",
       "      <td>0.238457</td>\n",
       "      <td>15.218357</td>\n",
       "      <td>0.0</td>\n",
       "      <td>1.0</td>\n",
       "      <td>0.0</td>\n",
       "      <td>0.0</td>\n",
       "      <td>0.0</td>\n",
       "      <td>0.0</td>\n",
       "      <td>0.0</td>\n",
       "      <td>...</td>\n",
       "      <td>0.0</td>\n",
       "      <td>0.0</td>\n",
       "      <td>0.0</td>\n",
       "      <td>0.0</td>\n",
       "      <td>0.0</td>\n",
       "      <td>0.0</td>\n",
       "      <td>0.0</td>\n",
       "      <td>1.0</td>\n",
       "      <td>0.0</td>\n",
       "      <td>0.0</td>\n",
       "    </tr>\n",
       "    <tr>\n",
       "      <th>8511</th>\n",
       "      <td>4.183300</td>\n",
       "      <td>0.164257</td>\n",
       "      <td>16.204660</td>\n",
       "      <td>1.0</td>\n",
       "      <td>0.0</td>\n",
       "      <td>0.0</td>\n",
       "      <td>0.0</td>\n",
       "      <td>0.0</td>\n",
       "      <td>0.0</td>\n",
       "      <td>0.0</td>\n",
       "      <td>...</td>\n",
       "      <td>0.0</td>\n",
       "      <td>0.0</td>\n",
       "      <td>0.0</td>\n",
       "      <td>0.0</td>\n",
       "      <td>0.0</td>\n",
       "      <td>0.0</td>\n",
       "      <td>0.0</td>\n",
       "      <td>0.0</td>\n",
       "      <td>0.0</td>\n",
       "      <td>0.0</td>\n",
       "    </tr>\n",
       "    <tr>\n",
       "      <th>8512</th>\n",
       "      <td>4.549725</td>\n",
       "      <td>0.206884</td>\n",
       "      <td>13.353007</td>\n",
       "      <td>1.0</td>\n",
       "      <td>0.0</td>\n",
       "      <td>0.0</td>\n",
       "      <td>0.0</td>\n",
       "      <td>0.0</td>\n",
       "      <td>0.0</td>\n",
       "      <td>1.0</td>\n",
       "      <td>...</td>\n",
       "      <td>0.0</td>\n",
       "      <td>0.0</td>\n",
       "      <td>0.0</td>\n",
       "      <td>0.0</td>\n",
       "      <td>0.0</td>\n",
       "      <td>0.0</td>\n",
       "      <td>0.0</td>\n",
       "      <td>0.0</td>\n",
       "      <td>0.0</td>\n",
       "      <td>0.0</td>\n",
       "    </tr>\n",
       "    <tr>\n",
       "      <th>8513</th>\n",
       "      <td>3.464102</td>\n",
       "      <td>0.142854</td>\n",
       "      <td>9.995209</td>\n",
       "      <td>0.0</td>\n",
       "      <td>1.0</td>\n",
       "      <td>0.0</td>\n",
       "      <td>0.0</td>\n",
       "      <td>0.0</td>\n",
       "      <td>0.0</td>\n",
       "      <td>0.0</td>\n",
       "      <td>...</td>\n",
       "      <td>0.0</td>\n",
       "      <td>0.0</td>\n",
       "      <td>0.0</td>\n",
       "      <td>0.0</td>\n",
       "      <td>0.0</td>\n",
       "      <td>0.0</td>\n",
       "      <td>0.0</td>\n",
       "      <td>0.0</td>\n",
       "      <td>0.0</td>\n",
       "      <td>0.0</td>\n",
       "    </tr>\n",
       "    <tr>\n",
       "      <th>8514</th>\n",
       "      <td>3.872983</td>\n",
       "      <td>0.233428</td>\n",
       "      <td>7.588834</td>\n",
       "      <td>0.0</td>\n",
       "      <td>1.0</td>\n",
       "      <td>0.0</td>\n",
       "      <td>0.0</td>\n",
       "      <td>0.0</td>\n",
       "      <td>1.0</td>\n",
       "      <td>0.0</td>\n",
       "      <td>...</td>\n",
       "      <td>0.0</td>\n",
       "      <td>0.0</td>\n",
       "      <td>0.0</td>\n",
       "      <td>0.0</td>\n",
       "      <td>0.0</td>\n",
       "      <td>0.0</td>\n",
       "      <td>0.0</td>\n",
       "      <td>0.0</td>\n",
       "      <td>0.0</td>\n",
       "      <td>0.0</td>\n",
       "    </tr>\n",
       "    <tr>\n",
       "      <th>8515</th>\n",
       "      <td>4.549725</td>\n",
       "      <td>0.146692</td>\n",
       "      <td>12.551048</td>\n",
       "      <td>1.0</td>\n",
       "      <td>0.0</td>\n",
       "      <td>1.0</td>\n",
       "      <td>0.0</td>\n",
       "      <td>0.0</td>\n",
       "      <td>0.0</td>\n",
       "      <td>0.0</td>\n",
       "      <td>...</td>\n",
       "      <td>0.0</td>\n",
       "      <td>0.0</td>\n",
       "      <td>0.0</td>\n",
       "      <td>0.0</td>\n",
       "      <td>0.0</td>\n",
       "      <td>0.0</td>\n",
       "      <td>0.0</td>\n",
       "      <td>0.0</td>\n",
       "      <td>0.0</td>\n",
       "      <td>0.0</td>\n",
       "    </tr>\n",
       "    <tr>\n",
       "      <th>8516</th>\n",
       "      <td>4.312772</td>\n",
       "      <td>0.344473</td>\n",
       "      <td>7.665429</td>\n",
       "      <td>1.0</td>\n",
       "      <td>0.0</td>\n",
       "      <td>0.0</td>\n",
       "      <td>0.0</td>\n",
       "      <td>0.0</td>\n",
       "      <td>0.0</td>\n",
       "      <td>0.0</td>\n",
       "      <td>...</td>\n",
       "      <td>0.0</td>\n",
       "      <td>0.0</td>\n",
       "      <td>0.0</td>\n",
       "      <td>0.0</td>\n",
       "      <td>0.0</td>\n",
       "      <td>0.0</td>\n",
       "      <td>0.0</td>\n",
       "      <td>0.0</td>\n",
       "      <td>0.0</td>\n",
       "      <td>0.0</td>\n",
       "    </tr>\n",
       "    <tr>\n",
       "      <th>8517</th>\n",
       "      <td>4.555217</td>\n",
       "      <td>0.289148</td>\n",
       "      <td>13.372801</td>\n",
       "      <td>0.0</td>\n",
       "      <td>1.0</td>\n",
       "      <td>0.0</td>\n",
       "      <td>0.0</td>\n",
       "      <td>0.0</td>\n",
       "      <td>0.0</td>\n",
       "      <td>0.0</td>\n",
       "      <td>...</td>\n",
       "      <td>0.0</td>\n",
       "      <td>0.0</td>\n",
       "      <td>1.0</td>\n",
       "      <td>0.0</td>\n",
       "      <td>0.0</td>\n",
       "      <td>0.0</td>\n",
       "      <td>0.0</td>\n",
       "      <td>0.0</td>\n",
       "      <td>0.0</td>\n",
       "      <td>0.0</td>\n",
       "    </tr>\n",
       "    <tr>\n",
       "      <th>8518</th>\n",
       "      <td>2.620115</td>\n",
       "      <td>0.238293</td>\n",
       "      <td>14.646563</td>\n",
       "      <td>1.0</td>\n",
       "      <td>0.0</td>\n",
       "      <td>0.0</td>\n",
       "      <td>0.0</td>\n",
       "      <td>0.0</td>\n",
       "      <td>0.0</td>\n",
       "      <td>0.0</td>\n",
       "      <td>...</td>\n",
       "      <td>0.0</td>\n",
       "      <td>0.0</td>\n",
       "      <td>0.0</td>\n",
       "      <td>0.0</td>\n",
       "      <td>0.0</td>\n",
       "      <td>0.0</td>\n",
       "      <td>0.0</td>\n",
       "      <td>0.0</td>\n",
       "      <td>0.0</td>\n",
       "      <td>0.0</td>\n",
       "    </tr>\n",
       "    <tr>\n",
       "      <th>8519</th>\n",
       "      <td>2.894823</td>\n",
       "      <td>0.216754</td>\n",
       "      <td>10.399856</td>\n",
       "      <td>0.0</td>\n",
       "      <td>1.0</td>\n",
       "      <td>1.0</td>\n",
       "      <td>0.0</td>\n",
       "      <td>0.0</td>\n",
       "      <td>0.0</td>\n",
       "      <td>0.0</td>\n",
       "      <td>...</td>\n",
       "      <td>0.0</td>\n",
       "      <td>0.0</td>\n",
       "      <td>0.0</td>\n",
       "      <td>0.0</td>\n",
       "      <td>0.0</td>\n",
       "      <td>0.0</td>\n",
       "      <td>0.0</td>\n",
       "      <td>0.0</td>\n",
       "      <td>0.0</td>\n",
       "      <td>0.0</td>\n",
       "    </tr>\n",
       "    <tr>\n",
       "      <th>8520</th>\n",
       "      <td>3.255764</td>\n",
       "      <td>0.187580</td>\n",
       "      <td>9.226180</td>\n",
       "      <td>1.0</td>\n",
       "      <td>0.0</td>\n",
       "      <td>0.0</td>\n",
       "      <td>0.0</td>\n",
       "      <td>0.0</td>\n",
       "      <td>0.0</td>\n",
       "      <td>0.0</td>\n",
       "      <td>...</td>\n",
       "      <td>0.0</td>\n",
       "      <td>0.0</td>\n",
       "      <td>0.0</td>\n",
       "      <td>0.0</td>\n",
       "      <td>0.0</td>\n",
       "      <td>0.0</td>\n",
       "      <td>0.0</td>\n",
       "      <td>0.0</td>\n",
       "      <td>0.0</td>\n",
       "      <td>0.0</td>\n",
       "    </tr>\n",
       "    <tr>\n",
       "      <th>8521</th>\n",
       "      <td>2.685144</td>\n",
       "      <td>0.381078</td>\n",
       "      <td>10.155452</td>\n",
       "      <td>0.0</td>\n",
       "      <td>1.0</td>\n",
       "      <td>0.0</td>\n",
       "      <td>0.0</td>\n",
       "      <td>0.0</td>\n",
       "      <td>0.0</td>\n",
       "      <td>0.0</td>\n",
       "      <td>...</td>\n",
       "      <td>0.0</td>\n",
       "      <td>0.0</td>\n",
       "      <td>0.0</td>\n",
       "      <td>0.0</td>\n",
       "      <td>0.0</td>\n",
       "      <td>0.0</td>\n",
       "      <td>0.0</td>\n",
       "      <td>0.0</td>\n",
       "      <td>0.0</td>\n",
       "      <td>0.0</td>\n",
       "    </tr>\n",
       "    <tr>\n",
       "      <th>8522</th>\n",
       "      <td>3.847077</td>\n",
       "      <td>0.211845</td>\n",
       "      <td>8.687174</td>\n",
       "      <td>1.0</td>\n",
       "      <td>0.0</td>\n",
       "      <td>0.0</td>\n",
       "      <td>0.0</td>\n",
       "      <td>0.0</td>\n",
       "      <td>0.0</td>\n",
       "      <td>0.0</td>\n",
       "      <td>...</td>\n",
       "      <td>0.0</td>\n",
       "      <td>0.0</td>\n",
       "      <td>0.0</td>\n",
       "      <td>0.0</td>\n",
       "      <td>0.0</td>\n",
       "      <td>0.0</td>\n",
       "      <td>0.0</td>\n",
       "      <td>0.0</td>\n",
       "      <td>0.0</td>\n",
       "      <td>0.0</td>\n",
       "    </tr>\n",
       "  </tbody>\n",
       "</table>\n",
       "<p>8523 rows × 139 columns</p>\n",
       "</div>"
      ],
      "text/plain": [
       "      Item_Weight  Item_Visibility   Item_MRP  Item_Fat_Content_Low Fat  \\\n",
       "0        3.049590         0.126678  15.805354                       1.0   \n",
       "1        2.433105         0.138846   6.947604                       0.0   \n",
       "2        4.183300         0.129461  11.900336                       1.0   \n",
       "3        4.381780         0.000000  13.494258                       0.0   \n",
       "4        2.988311         0.000000   7.339033                       1.0   \n",
       "5        3.224128         0.000000   7.169435                       0.0   \n",
       "6        3.694591         0.112876   7.593339                       0.0   \n",
       "7        4.358899         0.357029  10.380857                       1.0   \n",
       "8        4.024922         0.129179   9.847467                       0.0   \n",
       "9        4.381780         0.307327  13.704795                       0.0   \n",
       "10       3.435113         0.000000   6.748348                       1.0   \n",
       "11       4.301163         0.213222  12.004591                       0.0   \n",
       "12       3.885872         0.316249  12.061451                       0.0   \n",
       "13       4.195235         0.217388  10.939753                       0.0   \n",
       "14       4.043513         0.260815  14.015798                       1.0   \n",
       "15       3.000000         0.262848   7.507423                       0.0   \n",
       "16       3.435113         0.092715  10.740074                       1.0   \n",
       "17       3.000000         0.263052   7.373018                       0.0   \n",
       "18       2.874022         0.185034  10.643467                       1.0   \n",
       "19       3.653765         0.320144  15.183386                       1.0   \n",
       "20       4.341659         0.371740  15.838952                       0.0   \n",
       "21       2.883574         0.188149  12.022662                       0.0   \n",
       "22       3.820995         0.160306  14.018145                       1.0   \n",
       "23       3.937004         0.239910  10.377562                       1.0   \n",
       "24       3.721559         0.160924  12.846050                       0.0   \n",
       "25       3.605551         0.316049   6.775397                       1.0   \n",
       "26       2.764959         0.258251   6.504706                       0.0   \n",
       "27       3.413210         0.139126   6.254311                       1.0   \n",
       "28       2.434132         0.401829   6.746006                       0.0   \n",
       "29       3.807887         0.268741   6.606467                       0.0   \n",
       "...           ...              ...        ...                       ...   \n",
       "8493     2.723968         0.160893  13.754534                       0.0   \n",
       "8494     3.898718         0.000000  10.511479                       1.0   \n",
       "8495     3.113679         0.171951  12.668544                       1.0   \n",
       "8496     2.723968         0.147295  13.614632                       0.0   \n",
       "8497     3.694591         0.221831  12.247653                       1.0   \n",
       "8498     3.917908         0.187864  11.161228                       1.0   \n",
       "8499     3.405877         0.193840  10.000210                       1.0   \n",
       "8500     4.511097         0.000000  11.187842                       1.0   \n",
       "8501     2.310844         0.077444  10.021766                       0.0   \n",
       "8502     2.901724         0.265917  14.711193                       1.0   \n",
       "8503     4.527693         0.190088  10.962463                       1.0   \n",
       "8504     2.982449         0.352294  10.571395                       1.0   \n",
       "8505     3.240370         0.306832  14.519793                       0.0   \n",
       "8506     4.153312         0.290992  16.223162                       1.0   \n",
       "8507     2.424871         0.173903  10.089549                       0.0   \n",
       "8508     3.368976         0.207956  14.123534                       0.0   \n",
       "8509     2.846050         0.462932  14.628404                       1.0   \n",
       "8510     3.714835         0.238457  15.218357                       0.0   \n",
       "8511     4.183300         0.164257  16.204660                       1.0   \n",
       "8512     4.549725         0.206884  13.353007                       1.0   \n",
       "8513     3.464102         0.142854   9.995209                       0.0   \n",
       "8514     3.872983         0.233428   7.588834                       0.0   \n",
       "8515     4.549725         0.146692  12.551048                       1.0   \n",
       "8516     4.312772         0.344473   7.665429                       1.0   \n",
       "8517     4.555217         0.289148  13.372801                       0.0   \n",
       "8518     2.620115         0.238293  14.646563                       1.0   \n",
       "8519     2.894823         0.216754  10.399856                       0.0   \n",
       "8520     3.255764         0.187580   9.226180                       1.0   \n",
       "8521     2.685144         0.381078  10.155452                       0.0   \n",
       "8522     3.847077         0.211845   8.687174                       1.0   \n",
       "\n",
       "      Item_Fat_Content_Regular  Item_Type_Baking Goods  Item_Type_Breads  \\\n",
       "0                          0.0                     0.0               0.0   \n",
       "1                          1.0                     0.0               0.0   \n",
       "2                          0.0                     0.0               0.0   \n",
       "3                          1.0                     0.0               0.0   \n",
       "4                          0.0                     0.0               0.0   \n",
       "5                          1.0                     1.0               0.0   \n",
       "6                          1.0                     0.0               0.0   \n",
       "7                          0.0                     0.0               0.0   \n",
       "8                          1.0                     0.0               0.0   \n",
       "9                          1.0                     0.0               0.0   \n",
       "10                         0.0                     0.0               0.0   \n",
       "11                         1.0                     0.0               0.0   \n",
       "12                         1.0                     0.0               0.0   \n",
       "13                         1.0                     0.0               0.0   \n",
       "14                         0.0                     0.0               0.0   \n",
       "15                         1.0                     0.0               0.0   \n",
       "16                         0.0                     0.0               0.0   \n",
       "17                         1.0                     0.0               0.0   \n",
       "18                         0.0                     0.0               0.0   \n",
       "19                         0.0                     0.0               0.0   \n",
       "20                         1.0                     0.0               0.0   \n",
       "21                         1.0                     1.0               0.0   \n",
       "22                         0.0                     0.0               0.0   \n",
       "23                         0.0                     1.0               0.0   \n",
       "24                         1.0                     0.0               0.0   \n",
       "25                         0.0                     0.0               0.0   \n",
       "26                         1.0                     0.0               0.0   \n",
       "27                         0.0                     0.0               0.0   \n",
       "28                         1.0                     0.0               0.0   \n",
       "29                         1.0                     0.0               0.0   \n",
       "...                        ...                     ...               ...   \n",
       "8493                       1.0                     0.0               0.0   \n",
       "8494                       0.0                     0.0               0.0   \n",
       "8495                       0.0                     0.0               0.0   \n",
       "8496                       1.0                     0.0               0.0   \n",
       "8497                       0.0                     0.0               0.0   \n",
       "8498                       0.0                     0.0               0.0   \n",
       "8499                       0.0                     0.0               0.0   \n",
       "8500                       0.0                     0.0               0.0   \n",
       "8501                       1.0                     0.0               0.0   \n",
       "8502                       0.0                     0.0               0.0   \n",
       "8503                       0.0                     0.0               0.0   \n",
       "8504                       0.0                     0.0               0.0   \n",
       "8505                       1.0                     0.0               0.0   \n",
       "8506                       0.0                     0.0               0.0   \n",
       "8507                       1.0                     0.0               0.0   \n",
       "8508                       1.0                     0.0               0.0   \n",
       "8509                       0.0                     0.0               0.0   \n",
       "8510                       1.0                     0.0               0.0   \n",
       "8511                       0.0                     0.0               0.0   \n",
       "8512                       0.0                     0.0               0.0   \n",
       "8513                       1.0                     0.0               0.0   \n",
       "8514                       1.0                     0.0               0.0   \n",
       "8515                       0.0                     1.0               0.0   \n",
       "8516                       0.0                     0.0               0.0   \n",
       "8517                       1.0                     0.0               0.0   \n",
       "8518                       0.0                     0.0               0.0   \n",
       "8519                       1.0                     1.0               0.0   \n",
       "8520                       0.0                     0.0               0.0   \n",
       "8521                       1.0                     0.0               0.0   \n",
       "8522                       0.0                     0.0               0.0   \n",
       "\n",
       "      Item_Type_Breakfast  Item_Type_Canned  Item_Type_Dairy  ...  \\\n",
       "0                     0.0               0.0              1.0  ...   \n",
       "1                     0.0               0.0              0.0  ...   \n",
       "2                     0.0               0.0              0.0  ...   \n",
       "3                     0.0               0.0              0.0  ...   \n",
       "4                     0.0               0.0              0.0  ...   \n",
       "5                     0.0               0.0              0.0  ...   \n",
       "6                     0.0               0.0              0.0  ...   \n",
       "7                     0.0               0.0              0.0  ...   \n",
       "8                     0.0               0.0              0.0  ...   \n",
       "9                     0.0               0.0              0.0  ...   \n",
       "10                    0.0               0.0              0.0  ...   \n",
       "11                    0.0               0.0              1.0  ...   \n",
       "12                    0.0               0.0              0.0  ...   \n",
       "13                    0.0               0.0              0.0  ...   \n",
       "14                    0.0               0.0              0.0  ...   \n",
       "15                    1.0               0.0              0.0  ...   \n",
       "16                    0.0               0.0              0.0  ...   \n",
       "17                    1.0               0.0              0.0  ...   \n",
       "18                    0.0               0.0              0.0  ...   \n",
       "19                    0.0               0.0              1.0  ...   \n",
       "20                    0.0               0.0              0.0  ...   \n",
       "21                    0.0               0.0              0.0  ...   \n",
       "22                    0.0               0.0              0.0  ...   \n",
       "23                    0.0               0.0              0.0  ...   \n",
       "24                    0.0               0.0              0.0  ...   \n",
       "25                    0.0               0.0              0.0  ...   \n",
       "26                    0.0               0.0              0.0  ...   \n",
       "27                    0.0               0.0              0.0  ...   \n",
       "28                    0.0               0.0              1.0  ...   \n",
       "29                    0.0               1.0              0.0  ...   \n",
       "...                   ...               ...              ...  ...   \n",
       "8493                  0.0               0.0              0.0  ...   \n",
       "8494                  0.0               0.0              0.0  ...   \n",
       "8495                  0.0               0.0              0.0  ...   \n",
       "8496                  0.0               0.0              0.0  ...   \n",
       "8497                  0.0               0.0              0.0  ...   \n",
       "8498                  0.0               0.0              0.0  ...   \n",
       "8499                  0.0               0.0              0.0  ...   \n",
       "8500                  0.0               0.0              0.0  ...   \n",
       "8501                  0.0               0.0              0.0  ...   \n",
       "8502                  0.0               0.0              0.0  ...   \n",
       "8503                  0.0               0.0              0.0  ...   \n",
       "8504                  0.0               0.0              0.0  ...   \n",
       "8505                  0.0               0.0              0.0  ...   \n",
       "8506                  0.0               0.0              0.0  ...   \n",
       "8507                  0.0               0.0              0.0  ...   \n",
       "8508                  0.0               0.0              0.0  ...   \n",
       "8509                  0.0               0.0              0.0  ...   \n",
       "8510                  0.0               0.0              0.0  ...   \n",
       "8511                  0.0               0.0              0.0  ...   \n",
       "8512                  0.0               0.0              1.0  ...   \n",
       "8513                  0.0               0.0              0.0  ...   \n",
       "8514                  0.0               1.0              0.0  ...   \n",
       "8515                  0.0               0.0              0.0  ...   \n",
       "8516                  0.0               0.0              0.0  ...   \n",
       "8517                  0.0               0.0              0.0  ...   \n",
       "8518                  0.0               0.0              0.0  ...   \n",
       "8519                  0.0               0.0              0.0  ...   \n",
       "8520                  0.0               0.0              0.0  ...   \n",
       "8521                  0.0               0.0              0.0  ...   \n",
       "8522                  0.0               0.0              0.0  ...   \n",
       "\n",
       "      Item_Id_3_51  Item_Id_3_52  Item_Id_3_53  Item_Id_3_54  Item_Id_3_55  \\\n",
       "0              0.0           0.0           0.0           0.0           0.0   \n",
       "1              0.0           0.0           0.0           0.0           0.0   \n",
       "2              0.0           0.0           0.0           0.0           0.0   \n",
       "3              0.0           0.0           0.0           0.0           0.0   \n",
       "4              0.0           0.0           0.0           0.0           0.0   \n",
       "5              0.0           0.0           0.0           0.0           0.0   \n",
       "6              0.0           0.0           0.0           0.0           0.0   \n",
       "7              0.0           0.0           0.0           0.0           0.0   \n",
       "8              0.0           0.0           0.0           0.0           0.0   \n",
       "9              0.0           0.0           0.0           0.0           0.0   \n",
       "10             0.0           0.0           0.0           0.0           0.0   \n",
       "11             0.0           0.0           0.0           0.0           0.0   \n",
       "12             0.0           0.0           0.0           0.0           0.0   \n",
       "13             0.0           0.0           0.0           0.0           0.0   \n",
       "14             0.0           0.0           0.0           0.0           0.0   \n",
       "15             0.0           0.0           0.0           0.0           0.0   \n",
       "16             0.0           0.0           0.0           0.0           0.0   \n",
       "17             0.0           0.0           0.0           0.0           0.0   \n",
       "18             0.0           0.0           0.0           0.0           0.0   \n",
       "19             0.0           0.0           0.0           0.0           0.0   \n",
       "20             0.0           0.0           0.0           0.0           0.0   \n",
       "21             0.0           0.0           0.0           0.0           0.0   \n",
       "22             0.0           0.0           0.0           0.0           0.0   \n",
       "23             0.0           0.0           0.0           0.0           0.0   \n",
       "24             0.0           0.0           0.0           0.0           0.0   \n",
       "25             0.0           0.0           0.0           0.0           0.0   \n",
       "26             0.0           0.0           0.0           0.0           0.0   \n",
       "27             0.0           0.0           0.0           0.0           0.0   \n",
       "28             1.0           0.0           0.0           0.0           0.0   \n",
       "29             0.0           0.0           0.0           0.0           0.0   \n",
       "...            ...           ...           ...           ...           ...   \n",
       "8493           0.0           0.0           0.0           0.0           0.0   \n",
       "8494           0.0           0.0           0.0           1.0           0.0   \n",
       "8495           0.0           0.0           0.0           0.0           0.0   \n",
       "8496           0.0           0.0           0.0           0.0           0.0   \n",
       "8497           0.0           0.0           0.0           0.0           0.0   \n",
       "8498           0.0           0.0           0.0           1.0           0.0   \n",
       "8499           0.0           0.0           1.0           0.0           0.0   \n",
       "8500           0.0           0.0           0.0           0.0           0.0   \n",
       "8501           0.0           0.0           0.0           0.0           0.0   \n",
       "8502           0.0           0.0           0.0           0.0           0.0   \n",
       "8503           0.0           0.0           0.0           0.0           0.0   \n",
       "8504           0.0           0.0           0.0           0.0           0.0   \n",
       "8505           0.0           0.0           0.0           0.0           0.0   \n",
       "8506           0.0           0.0           0.0           0.0           0.0   \n",
       "8507           0.0           0.0           0.0           0.0           0.0   \n",
       "8508           0.0           0.0           0.0           0.0           0.0   \n",
       "8509           0.0           0.0           0.0           0.0           0.0   \n",
       "8510           0.0           0.0           0.0           0.0           0.0   \n",
       "8511           0.0           0.0           0.0           0.0           0.0   \n",
       "8512           0.0           0.0           0.0           0.0           0.0   \n",
       "8513           0.0           0.0           0.0           0.0           0.0   \n",
       "8514           0.0           0.0           0.0           0.0           0.0   \n",
       "8515           0.0           0.0           0.0           0.0           0.0   \n",
       "8516           0.0           0.0           0.0           0.0           0.0   \n",
       "8517           0.0           0.0           1.0           0.0           0.0   \n",
       "8518           0.0           0.0           0.0           0.0           0.0   \n",
       "8519           0.0           0.0           0.0           0.0           0.0   \n",
       "8520           0.0           0.0           0.0           0.0           0.0   \n",
       "8521           0.0           0.0           0.0           0.0           0.0   \n",
       "8522           0.0           0.0           0.0           0.0           0.0   \n",
       "\n",
       "      Item_Id_3_56  Item_Id_3_57  Item_Id_3_58  Item_Id_3_59  Item_Id_3_60  \n",
       "0              0.0           0.0           0.0           0.0           0.0  \n",
       "1              0.0           0.0           0.0           0.0           0.0  \n",
       "2              0.0           0.0           0.0           0.0           0.0  \n",
       "3              0.0           0.0           0.0           0.0           0.0  \n",
       "4              0.0           0.0           0.0           0.0           0.0  \n",
       "5              0.0           0.0           0.0           0.0           0.0  \n",
       "6              0.0           0.0           0.0           0.0           0.0  \n",
       "7              0.0           0.0           0.0           0.0           0.0  \n",
       "8              0.0           0.0           0.0           0.0           0.0  \n",
       "9              0.0           0.0           0.0           0.0           0.0  \n",
       "10             0.0           0.0           0.0           0.0           0.0  \n",
       "11             0.0           0.0           0.0           0.0           0.0  \n",
       "12             0.0           0.0           0.0           0.0           0.0  \n",
       "13             0.0           0.0           0.0           0.0           0.0  \n",
       "14             0.0           0.0           0.0           0.0           0.0  \n",
       "15             0.0           0.0           0.0           0.0           0.0  \n",
       "16             0.0           0.0           0.0           0.0           0.0  \n",
       "17             0.0           0.0           0.0           0.0           0.0  \n",
       "18             0.0           0.0           0.0           0.0           0.0  \n",
       "19             0.0           0.0           0.0           0.0           0.0  \n",
       "20             0.0           0.0           0.0           0.0           0.0  \n",
       "21             0.0           0.0           0.0           0.0           0.0  \n",
       "22             0.0           0.0           0.0           0.0           0.0  \n",
       "23             0.0           0.0           0.0           0.0           0.0  \n",
       "24             0.0           0.0           0.0           0.0           0.0  \n",
       "25             0.0           0.0           0.0           0.0           0.0  \n",
       "26             0.0           0.0           0.0           0.0           0.0  \n",
       "27             0.0           0.0           0.0           1.0           0.0  \n",
       "28             0.0           0.0           0.0           0.0           0.0  \n",
       "29             0.0           0.0           0.0           0.0           0.0  \n",
       "...            ...           ...           ...           ...           ...  \n",
       "8493           0.0           0.0           0.0           0.0           0.0  \n",
       "8494           0.0           0.0           0.0           0.0           0.0  \n",
       "8495           0.0           0.0           0.0           0.0           0.0  \n",
       "8496           0.0           1.0           0.0           0.0           0.0  \n",
       "8497           0.0           0.0           0.0           0.0           0.0  \n",
       "8498           0.0           0.0           0.0           0.0           0.0  \n",
       "8499           0.0           0.0           0.0           0.0           0.0  \n",
       "8500           0.0           0.0           0.0           0.0           0.0  \n",
       "8501           0.0           0.0           0.0           0.0           0.0  \n",
       "8502           0.0           0.0           0.0           0.0           0.0  \n",
       "8503           0.0           0.0           0.0           0.0           0.0  \n",
       "8504           0.0           0.0           0.0           0.0           0.0  \n",
       "8505           0.0           0.0           0.0           0.0           0.0  \n",
       "8506           0.0           0.0           0.0           0.0           0.0  \n",
       "8507           0.0           0.0           0.0           0.0           0.0  \n",
       "8508           0.0           0.0           0.0           0.0           0.0  \n",
       "8509           0.0           0.0           0.0           0.0           0.0  \n",
       "8510           0.0           0.0           1.0           0.0           0.0  \n",
       "8511           0.0           0.0           0.0           0.0           0.0  \n",
       "8512           0.0           0.0           0.0           0.0           0.0  \n",
       "8513           0.0           0.0           0.0           0.0           0.0  \n",
       "8514           0.0           0.0           0.0           0.0           0.0  \n",
       "8515           0.0           0.0           0.0           0.0           0.0  \n",
       "8516           0.0           0.0           0.0           0.0           0.0  \n",
       "8517           0.0           0.0           0.0           0.0           0.0  \n",
       "8518           0.0           0.0           0.0           0.0           0.0  \n",
       "8519           0.0           0.0           0.0           0.0           0.0  \n",
       "8520           0.0           0.0           0.0           0.0           0.0  \n",
       "8521           0.0           0.0           0.0           0.0           0.0  \n",
       "8522           0.0           0.0           0.0           0.0           0.0  \n",
       "\n",
       "[8523 rows x 139 columns]"
      ]
     },
     "execution_count": 87,
     "metadata": {},
     "output_type": "execute_result"
    }
   ],
   "source": [
    "x"
   ]
  },
  {
   "cell_type": "markdown",
   "metadata": {},
   "source": [
    "# Polynomial Regression with Degree=2"
   ]
  },
  {
   "cell_type": "raw",
   "metadata": {},
   "source": [
    "from sklearn.linear_model import LinearRegression\n",
    "from sklearn.metrics import mean_squared_error, r2_score\n",
    "from sklearn.preprocessing import PolynomialFeatures\n",
    "\n",
    "polynomial_features= PolynomialFeatures(degree=2)\n",
    "poly_x = polynomial_features.fit_transform(x)\n",
    "\n",
    "\n",
    "from sklearn.model_selection import train_test_split\n",
    "x_poly, x_test, y_poly, y_test = train_test_split(poly_x, y, test_size = 0.2,random_state = 123)\n",
    "\n",
    "poly = LinearRegression()\n",
    "poly.fit(x_poly, y_poly)\n",
    "poly_pred = poly.predict(x_test)\n",
    "\n",
    "print(\"R^2 score for training\",poly.score(x_poly,y_poly))\n",
    "print(\"R^2 score for testing\",poly.score(x_test,y_test))"
   ]
  },
  {
   "cell_type": "raw",
   "metadata": {},
   "source": [
    "sns.scatterplot(y_test, poly_pred)"
   ]
  },
  {
   "cell_type": "raw",
   "metadata": {},
   "source": [
    "sns.regplot(x=y_test, y=poly_pred, lowess=True, line_kws={'color': 'red'})\n",
    "plt.title('Observed vs. Predicted Values', fontsize=16)\n",
    "plt.xlabel='Predicted'\n",
    "plt.ylabel='Observed'"
   ]
  },
  {
   "cell_type": "raw",
   "metadata": {},
   "source": [
    "import statsmodels.api as sm\n",
    "X_constant = sm.add_constant(x_test)\n",
    "model = sm.OLS(y_test, X_constant).fit()\n",
    "predictions = model.predict(X_constant)\n",
    "model.summary()"
   ]
  },
  {
   "cell_type": "raw",
   "metadata": {},
   "source": [
    "sns.set(style = 'whitegrid')\n",
    "residuals = model.resid"
   ]
  },
  {
   "cell_type": "raw",
   "metadata": {},
   "source": [
    "ax = sns.residplot(y_test, residuals, lowess = True, color = 'g')\n",
    "ax.set(xlabel = 'Fitted value', ylabel = 'Residuals', title = 'Residual vs Fitted Plot \\n')\n",
    "plt.show()"
   ]
  },
  {
   "cell_type": "code",
   "execution_count": 88,
   "metadata": {},
   "outputs": [],
   "source": [
    "x = traindummy.drop(['Item_Outlet_Sales'],axis=1)\n",
    "y = traindummy['Item_Outlet_Sales']"
   ]
  },
  {
   "cell_type": "markdown",
   "metadata": {},
   "source": [
    "# Model splitting 80-20"
   ]
  },
  {
   "cell_type": "code",
   "execution_count": 89,
   "metadata": {},
   "outputs": [],
   "source": [
    "# splitting data as X_train and X_test\n",
    "from sklearn.model_selection import train_test_split\n",
    "xtrain, xtest, ytrain, ytest = train_test_split(x, y, test_size = 0.2,random_state = 123)"
   ]
  },
  {
   "cell_type": "markdown",
   "metadata": {},
   "source": [
    "## Linear Regression"
   ]
  },
  {
   "cell_type": "code",
   "execution_count": 90,
   "metadata": {},
   "outputs": [],
   "source": [
    "# Building the first model with all the features\n",
    "from sklearn.linear_model import LinearRegression\n",
    "# instantiate\n",
    "lm = LinearRegression()\n",
    "\n",
    "# fit\n",
    "from sklearn.metrics import r2_score\n",
    "pred = lm.fit(xtrain,ytrain).predict(xtest)"
   ]
  },
  {
   "cell_type": "code",
   "execution_count": 91,
   "metadata": {},
   "outputs": [
    {
     "data": {
      "text/plain": [
       "0.6686864443162595"
      ]
     },
     "execution_count": 91,
     "metadata": {},
     "output_type": "execute_result"
    }
   ],
   "source": [
    "lm.score(xtrain,ytrain)"
   ]
  },
  {
   "cell_type": "code",
   "execution_count": 92,
   "metadata": {},
   "outputs": [
    {
     "data": {
      "text/plain": [
       "0.6721827391959019"
      ]
     },
     "execution_count": 92,
     "metadata": {},
     "output_type": "execute_result"
    }
   ],
   "source": [
    "lm.score(xtest,ytest)"
   ]
  },
  {
   "cell_type": "code",
   "execution_count": 93,
   "metadata": {},
   "outputs": [
    {
     "name": "stdout",
     "output_type": "stream",
     "text": [
      "0.6721827391959019\n"
     ]
    }
   ],
   "source": [
    "print(r2_score(y_true=ytest, y_pred=pred))"
   ]
  },
  {
   "cell_type": "code",
   "execution_count": 94,
   "metadata": {},
   "outputs": [
    {
     "name": "stdout",
     "output_type": "stream",
     "text": [
      "10.548703069707901\n"
     ]
    }
   ],
   "source": [
    "from sklearn.metrics import mean_squared_error\n",
    "mse=mean_squared_error(ytest,pred)\n",
    "lr_rmse_score=np.sqrt(mse)\n",
    "print(lr_rmse_score)"
   ]
  },
  {
   "cell_type": "code",
   "execution_count": 95,
   "metadata": {},
   "outputs": [
    {
     "name": "stderr",
     "output_type": "stream",
     "text": [
      "C:\\Users\\Navika\\Anaconda3\\lib\\site-packages\\numpy\\core\\fromnumeric.py:2389: FutureWarning: Method .ptp is deprecated and will be removed in a future version. Use numpy.ptp instead.\n",
      "  return ptp(axis=axis, out=out, **kwargs)\n"
     ]
    },
    {
     "data": {
      "text/html": [
       "<table class=\"simpletable\">\n",
       "<caption>OLS Regression Results</caption>\n",
       "<tr>\n",
       "  <th>Dep. Variable:</th>    <td>Item_Outlet_Sales</td> <th>  R-squared:         </th> <td>   0.702</td> \n",
       "</tr>\n",
       "<tr>\n",
       "  <th>Model:</th>                   <td>OLS</td>        <th>  Adj. R-squared:    </th> <td>   0.681</td> \n",
       "</tr>\n",
       "<tr>\n",
       "  <th>Method:</th>             <td>Least Squares</td>   <th>  F-statistic:       </th> <td>   33.14</td> \n",
       "</tr>\n",
       "<tr>\n",
       "  <th>Date:</th>             <td>Sun, 12 Jul 2020</td>  <th>  Prob (F-statistic):</th>  <td>  0.00</td>  \n",
       "</tr>\n",
       "<tr>\n",
       "  <th>Time:</th>                 <td>02:15:17</td>      <th>  Log-Likelihood:    </th> <td> -6355.4</td> \n",
       "</tr>\n",
       "<tr>\n",
       "  <th>No. Observations:</th>      <td>  1705</td>       <th>  AIC:               </th> <td>1.294e+04</td>\n",
       "</tr>\n",
       "<tr>\n",
       "  <th>Df Residuals:</th>          <td>  1591</td>       <th>  BIC:               </th> <td>1.356e+04</td>\n",
       "</tr>\n",
       "<tr>\n",
       "  <th>Df Model:</th>              <td>   113</td>       <th>                     </th>     <td> </td>    \n",
       "</tr>\n",
       "<tr>\n",
       "  <th>Covariance Type:</th>      <td>nonrobust</td>     <th>                     </th>     <td> </td>    \n",
       "</tr>\n",
       "</table>\n",
       "<table class=\"simpletable\">\n",
       "<tr>\n",
       "                 <td></td>                    <th>coef</th>     <th>std err</th>      <th>t</th>      <th>P>|t|</th>  <th>[0.025</th>    <th>0.975]</th>  \n",
       "</tr>\n",
       "<tr>\n",
       "  <th>const</th>                           <td>   -0.7332</td> <td>    0.601</td> <td>   -1.219</td> <td> 0.223</td> <td>   -1.913</td> <td>    0.447</td>\n",
       "</tr>\n",
       "<tr>\n",
       "  <th>Item_Weight</th>                     <td>   -0.0867</td> <td>    0.404</td> <td>   -0.214</td> <td> 0.830</td> <td>   -0.880</td> <td>    0.707</td>\n",
       "</tr>\n",
       "<tr>\n",
       "  <th>Item_Visibility</th>                 <td>   -2.4002</td> <td>    2.565</td> <td>   -0.936</td> <td> 0.349</td> <td>   -7.431</td> <td>    2.630</td>\n",
       "</tr>\n",
       "<tr>\n",
       "  <th>Item_MRP</th>                        <td>    3.7263</td> <td>    0.097</td> <td>   38.291</td> <td> 0.000</td> <td>    3.535</td> <td>    3.917</td>\n",
       "</tr>\n",
       "<tr>\n",
       "  <th>Item_Fat_Content_Low Fat</th>        <td>   -0.8641</td> <td>    0.417</td> <td>   -2.070</td> <td> 0.039</td> <td>   -1.683</td> <td>   -0.045</td>\n",
       "</tr>\n",
       "<tr>\n",
       "  <th>Item_Fat_Content_Regular</th>        <td>    0.1309</td> <td>    0.446</td> <td>    0.293</td> <td> 0.769</td> <td>   -0.745</td> <td>    1.006</td>\n",
       "</tr>\n",
       "<tr>\n",
       "  <th>Item_Type_Baking Goods</th>          <td>   -0.5315</td> <td>    2.264</td> <td>   -0.235</td> <td> 0.814</td> <td>   -4.972</td> <td>    3.909</td>\n",
       "</tr>\n",
       "<tr>\n",
       "  <th>Item_Type_Breads</th>                <td>    0.7188</td> <td>    2.636</td> <td>    0.273</td> <td> 0.785</td> <td>   -4.452</td> <td>    5.889</td>\n",
       "</tr>\n",
       "<tr>\n",
       "  <th>Item_Type_Breakfast</th>             <td>   -0.5522</td> <td>    2.818</td> <td>   -0.196</td> <td> 0.845</td> <td>   -6.080</td> <td>    4.976</td>\n",
       "</tr>\n",
       "<tr>\n",
       "  <th>Item_Type_Canned</th>                <td>   -0.4461</td> <td>    1.666</td> <td>   -0.268</td> <td> 0.789</td> <td>   -3.714</td> <td>    2.822</td>\n",
       "</tr>\n",
       "<tr>\n",
       "  <th>Item_Type_Dairy</th>                 <td>   -1.6613</td> <td>    1.811</td> <td>   -0.918</td> <td> 0.359</td> <td>   -5.213</td> <td>    1.890</td>\n",
       "</tr>\n",
       "<tr>\n",
       "  <th>Item_Type_Frozen Foods</th>          <td>    2.0017</td> <td>    2.735</td> <td>    0.732</td> <td> 0.464</td> <td>   -3.364</td> <td>    7.367</td>\n",
       "</tr>\n",
       "<tr>\n",
       "  <th>Item_Type_Fruits and Vegetables</th> <td>   -1.3956</td> <td>    2.019</td> <td>   -0.691</td> <td> 0.490</td> <td>   -5.356</td> <td>    2.565</td>\n",
       "</tr>\n",
       "<tr>\n",
       "  <th>Item_Type_Hard Drinks</th>           <td>    4.0561</td> <td>    3.441</td> <td>    1.179</td> <td> 0.239</td> <td>   -2.693</td> <td>   10.805</td>\n",
       "</tr>\n",
       "<tr>\n",
       "  <th>Item_Type_Health and Hygiene</th>    <td>    1.4679</td> <td>    2.157</td> <td>    0.680</td> <td> 0.496</td> <td>   -2.764</td> <td>    5.700</td>\n",
       "</tr>\n",
       "<tr>\n",
       "  <th>Item_Type_Household</th>             <td>    0.1330</td> <td>    1.423</td> <td>    0.093</td> <td> 0.926</td> <td>   -2.659</td> <td>    2.925</td>\n",
       "</tr>\n",
       "<tr>\n",
       "  <th>Item_Type_Meat</th>                  <td>   -1.4528</td> <td>    2.504</td> <td>   -0.580</td> <td> 0.562</td> <td>   -6.365</td> <td>    3.459</td>\n",
       "</tr>\n",
       "<tr>\n",
       "  <th>Item_Type_Others</th>                <td>   -0.5034</td> <td>    1.965</td> <td>   -0.256</td> <td> 0.798</td> <td>   -4.359</td> <td>    3.352</td>\n",
       "</tr>\n",
       "<tr>\n",
       "  <th>Item_Type_Seafood</th>               <td>   -4.2971</td> <td>    3.309</td> <td>   -1.298</td> <td> 0.194</td> <td>  -10.788</td> <td>    2.194</td>\n",
       "</tr>\n",
       "<tr>\n",
       "  <th>Item_Type_Snack Foods</th>           <td>   -3.6933</td> <td>    2.226</td> <td>   -1.659</td> <td> 0.097</td> <td>   -8.059</td> <td>    0.672</td>\n",
       "</tr>\n",
       "<tr>\n",
       "  <th>Item_Type_Soft Drinks</th>           <td>    3.5926</td> <td>    3.059</td> <td>    1.174</td> <td> 0.240</td> <td>   -2.408</td> <td>    9.593</td>\n",
       "</tr>\n",
       "<tr>\n",
       "  <th>Item_Type_Starchy Foods</th>         <td>    1.8301</td> <td>    2.581</td> <td>    0.709</td> <td> 0.478</td> <td>   -3.232</td> <td>    6.892</td>\n",
       "</tr>\n",
       "<tr>\n",
       "  <th>Outlet_Identifier_OUT010</th>        <td>   -4.5304</td> <td>    0.297</td> <td>  -15.258</td> <td> 0.000</td> <td>   -5.113</td> <td>   -3.948</td>\n",
       "</tr>\n",
       "<tr>\n",
       "  <th>Outlet_Identifier_OUT013</th>        <td>   -0.5435</td> <td>    0.221</td> <td>   -2.462</td> <td> 0.014</td> <td>   -0.976</td> <td>   -0.110</td>\n",
       "</tr>\n",
       "<tr>\n",
       "  <th>Outlet_Identifier_OUT017</th>        <td>    1.0872</td> <td>    0.341</td> <td>    3.186</td> <td> 0.001</td> <td>    0.418</td> <td>    1.756</td>\n",
       "</tr>\n",
       "<tr>\n",
       "  <th>Outlet_Identifier_OUT018</th>        <td>   -1.1671</td> <td>    0.242</td> <td>   -4.819</td> <td> 0.000</td> <td>   -1.642</td> <td>   -0.692</td>\n",
       "</tr>\n",
       "<tr>\n",
       "  <th>Outlet_Identifier_OUT019</th>        <td>   -5.7477</td> <td>    0.351</td> <td>  -16.355</td> <td> 0.000</td> <td>   -6.437</td> <td>   -5.058</td>\n",
       "</tr>\n",
       "<tr>\n",
       "  <th>Outlet_Identifier_OUT027</th>        <td>    6.1287</td> <td>    0.237</td> <td>   25.806</td> <td> 0.000</td> <td>    5.663</td> <td>    6.595</td>\n",
       "</tr>\n",
       "<tr>\n",
       "  <th>Outlet_Identifier_OUT035</th>        <td>    1.1249</td> <td>    0.325</td> <td>    3.457</td> <td> 0.001</td> <td>    0.487</td> <td>    1.763</td>\n",
       "</tr>\n",
       "<tr>\n",
       "  <th>Outlet_Identifier_OUT045</th>        <td>    0.0993</td> <td>    0.326</td> <td>    0.305</td> <td> 0.760</td> <td>   -0.540</td> <td>    0.738</td>\n",
       "</tr>\n",
       "<tr>\n",
       "  <th>Outlet_Identifier_OUT046</th>        <td>    3.1536</td> <td>    0.313</td> <td>   10.078</td> <td> 0.000</td> <td>    2.540</td> <td>    3.767</td>\n",
       "</tr>\n",
       "<tr>\n",
       "  <th>Outlet_Identifier_OUT049</th>        <td>   -0.3384</td> <td>    0.251</td> <td>   -1.349</td> <td> 0.178</td> <td>   -0.830</td> <td>    0.154</td>\n",
       "</tr>\n",
       "<tr>\n",
       "  <th>Outlet_Establishment_Year_1985</th>  <td>    0.3810</td> <td>    0.351</td> <td>    1.086</td> <td> 0.278</td> <td>   -0.307</td> <td>    1.069</td>\n",
       "</tr>\n",
       "<tr>\n",
       "  <th>Outlet_Establishment_Year_1987</th>  <td>   -0.5435</td> <td>    0.221</td> <td>   -2.462</td> <td> 0.014</td> <td>   -0.976</td> <td>   -0.110</td>\n",
       "</tr>\n",
       "<tr>\n",
       "  <th>Outlet_Establishment_Year_1997</th>  <td>    3.1536</td> <td>    0.313</td> <td>   10.078</td> <td> 0.000</td> <td>    2.540</td> <td>    3.767</td>\n",
       "</tr>\n",
       "<tr>\n",
       "  <th>Outlet_Establishment_Year_1998</th>  <td>   -4.5304</td> <td>    0.297</td> <td>  -15.258</td> <td> 0.000</td> <td>   -5.113</td> <td>   -3.948</td>\n",
       "</tr>\n",
       "<tr>\n",
       "  <th>Outlet_Establishment_Year_1999</th>  <td>   -0.3384</td> <td>    0.251</td> <td>   -1.349</td> <td> 0.178</td> <td>   -0.830</td> <td>    0.154</td>\n",
       "</tr>\n",
       "<tr>\n",
       "  <th>Outlet_Establishment_Year_2002</th>  <td>    0.0993</td> <td>    0.326</td> <td>    0.305</td> <td> 0.760</td> <td>   -0.540</td> <td>    0.738</td>\n",
       "</tr>\n",
       "<tr>\n",
       "  <th>Outlet_Establishment_Year_2004</th>  <td>    1.1249</td> <td>    0.325</td> <td>    3.457</td> <td> 0.001</td> <td>    0.487</td> <td>    1.763</td>\n",
       "</tr>\n",
       "<tr>\n",
       "  <th>Outlet_Establishment_Year_2007</th>  <td>    1.0872</td> <td>    0.341</td> <td>    3.186</td> <td> 0.001</td> <td>    0.418</td> <td>    1.756</td>\n",
       "</tr>\n",
       "<tr>\n",
       "  <th>Outlet_Establishment_Year_2009</th>  <td>   -1.1671</td> <td>    0.242</td> <td>   -4.819</td> <td> 0.000</td> <td>   -1.642</td> <td>   -0.692</td>\n",
       "</tr>\n",
       "<tr>\n",
       "  <th>Outlet_Size_High</th>                <td>   -0.5435</td> <td>    0.221</td> <td>   -2.462</td> <td> 0.014</td> <td>   -0.976</td> <td>   -0.110</td>\n",
       "</tr>\n",
       "<tr>\n",
       "  <th>Outlet_Size_Medium</th>              <td>    4.6233</td> <td>    0.311</td> <td>   14.854</td> <td> 0.000</td> <td>    4.013</td> <td>    5.234</td>\n",
       "</tr>\n",
       "<tr>\n",
       "  <th>Outlet_Size_Small</th>               <td>   -4.8131</td> <td>    0.357</td> <td>  -13.490</td> <td> 0.000</td> <td>   -5.513</td> <td>   -4.113</td>\n",
       "</tr>\n",
       "<tr>\n",
       "  <th>Outlet_Location_Type_Tier 1</th>     <td>   -2.9325</td> <td>    0.309</td> <td>   -9.483</td> <td> 0.000</td> <td>   -3.539</td> <td>   -2.326</td>\n",
       "</tr>\n",
       "<tr>\n",
       "  <th>Outlet_Location_Type_Tier 2</th>     <td>    2.3115</td> <td>    0.240</td> <td>    9.642</td> <td> 0.000</td> <td>    1.841</td> <td>    2.782</td>\n",
       "</tr>\n",
       "<tr>\n",
       "  <th>Outlet_Location_Type_Tier 3</th>     <td>   -0.1122</td> <td>    0.376</td> <td>   -0.299</td> <td> 0.765</td> <td>   -0.849</td> <td>    0.625</td>\n",
       "</tr>\n",
       "<tr>\n",
       "  <th>Outlet_Type_Grocery Store</th>       <td>  -10.2781</td> <td>    0.315</td> <td>  -32.649</td> <td> 0.000</td> <td>  -10.896</td> <td>   -9.661</td>\n",
       "</tr>\n",
       "<tr>\n",
       "  <th>Outlet_Type_Supermarket Type1</th>   <td>    4.5832</td> <td>    0.352</td> <td>   13.024</td> <td> 0.000</td> <td>    3.893</td> <td>    5.273</td>\n",
       "</tr>\n",
       "<tr>\n",
       "  <th>Outlet_Type_Supermarket Type2</th>   <td>   -1.1671</td> <td>    0.242</td> <td>   -4.819</td> <td> 0.000</td> <td>   -1.642</td> <td>   -0.692</td>\n",
       "</tr>\n",
       "<tr>\n",
       "  <th>Outlet_Type_Supermarket Type3</th>   <td>    6.1287</td> <td>    0.237</td> <td>   25.806</td> <td> 0.000</td> <td>    5.663</td> <td>    6.595</td>\n",
       "</tr>\n",
       "<tr>\n",
       "  <th>Item_Id_1_DR</th>                    <td>   -2.9547</td> <td>    1.807</td> <td>   -1.635</td> <td> 0.102</td> <td>   -6.500</td> <td>    0.590</td>\n",
       "</tr>\n",
       "<tr>\n",
       "  <th>Item_Id_1_FD</th>                    <td>    1.1239</td> <td>    1.204</td> <td>    0.934</td> <td> 0.351</td> <td>   -1.238</td> <td>    3.485</td>\n",
       "</tr>\n",
       "<tr>\n",
       "  <th>Item_Id_1_NC</th>                    <td>    1.0975</td> <td>    1.102</td> <td>    0.996</td> <td> 0.319</td> <td>   -1.064</td> <td>    3.259</td>\n",
       "</tr>\n",
       "<tr>\n",
       "  <th>Item_Id_2_A</th>                     <td>    0.7581</td> <td>    1.460</td> <td>    0.519</td> <td> 0.604</td> <td>   -2.105</td> <td>    3.622</td>\n",
       "</tr>\n",
       "<tr>\n",
       "  <th>Item_Id_2_B</th>                     <td>   -0.4796</td> <td>    1.271</td> <td>   -0.377</td> <td> 0.706</td> <td>   -2.972</td> <td>    2.013</td>\n",
       "</tr>\n",
       "<tr>\n",
       "  <th>Item_Id_2_C</th>                     <td>   -2.0000</td> <td>    1.319</td> <td>   -1.517</td> <td> 0.130</td> <td>   -4.587</td> <td>    0.587</td>\n",
       "</tr>\n",
       "<tr>\n",
       "  <th>Item_Id_2_D</th>                     <td>   -1.4351</td> <td>    1.341</td> <td>   -1.070</td> <td> 0.285</td> <td>   -4.066</td> <td>    1.196</td>\n",
       "</tr>\n",
       "<tr>\n",
       "  <th>Item_Id_2_E</th>                     <td>   -1.8431</td> <td>    1.315</td> <td>   -1.401</td> <td> 0.161</td> <td>   -4.423</td> <td>    0.737</td>\n",
       "</tr>\n",
       "<tr>\n",
       "  <th>Item_Id_2_F</th>                     <td>   -0.7304</td> <td>    1.430</td> <td>   -0.511</td> <td> 0.610</td> <td>   -3.536</td> <td>    2.075</td>\n",
       "</tr>\n",
       "<tr>\n",
       "  <th>Item_Id_2_G</th>                     <td>   -0.9926</td> <td>    1.300</td> <td>   -0.764</td> <td> 0.445</td> <td>   -3.542</td> <td>    1.557</td>\n",
       "</tr>\n",
       "<tr>\n",
       "  <th>Item_Id_2_H</th>                     <td>   -1.5729</td> <td>    1.368</td> <td>   -1.150</td> <td> 0.250</td> <td>   -4.256</td> <td>    1.111</td>\n",
       "</tr>\n",
       "<tr>\n",
       "  <th>Item_Id_2_I</th>                     <td>    3.0672</td> <td>    1.191</td> <td>    2.576</td> <td> 0.010</td> <td>    0.732</td> <td>    5.403</td>\n",
       "</tr>\n",
       "<tr>\n",
       "  <th>Item_Id_2_J</th>                     <td>   -0.9595</td> <td>    1.409</td> <td>   -0.681</td> <td> 0.496</td> <td>   -3.724</td> <td>    1.805</td>\n",
       "</tr>\n",
       "<tr>\n",
       "  <th>Item_Id_2_K</th>                     <td>    0.9540</td> <td>    1.262</td> <td>    0.756</td> <td> 0.450</td> <td>   -1.520</td> <td>    3.429</td>\n",
       "</tr>\n",
       "<tr>\n",
       "  <th>Item_Id_2_L</th>                     <td>   -0.5905</td> <td>    1.306</td> <td>   -0.452</td> <td> 0.651</td> <td>   -3.153</td> <td>    1.972</td>\n",
       "</tr>\n",
       "<tr>\n",
       "  <th>Item_Id_2_M</th>                     <td>    3.5856</td> <td>    1.497</td> <td>    2.395</td> <td> 0.017</td> <td>    0.649</td> <td>    6.523</td>\n",
       "</tr>\n",
       "<tr>\n",
       "  <th>Item_Id_2_N</th>                     <td>    1.5251</td> <td>    1.472</td> <td>    1.036</td> <td> 0.300</td> <td>   -1.363</td> <td>    4.413</td>\n",
       "</tr>\n",
       "<tr>\n",
       "  <th>Item_Id_2_O</th>                     <td>    1.1185</td> <td>    1.209</td> <td>    0.925</td> <td> 0.355</td> <td>   -1.252</td> <td>    3.489</td>\n",
       "</tr>\n",
       "<tr>\n",
       "  <th>Item_Id_2_P</th>                     <td>    0.3589</td> <td>    1.182</td> <td>    0.304</td> <td> 0.761</td> <td>   -1.959</td> <td>    2.677</td>\n",
       "</tr>\n",
       "<tr>\n",
       "  <th>Item_Id_2_Q</th>                     <td>    1.4057</td> <td>    1.263</td> <td>    1.113</td> <td> 0.266</td> <td>   -1.072</td> <td>    3.884</td>\n",
       "</tr>\n",
       "<tr>\n",
       "  <th>Item_Id_2_R</th>                     <td>    2.5818</td> <td>    1.287</td> <td>    2.006</td> <td> 0.045</td> <td>    0.058</td> <td>    5.106</td>\n",
       "</tr>\n",
       "<tr>\n",
       "  <th>Item_Id_2_S</th>                     <td>   -0.2446</td> <td>    1.244</td> <td>   -0.197</td> <td> 0.844</td> <td>   -2.685</td> <td>    2.196</td>\n",
       "</tr>\n",
       "<tr>\n",
       "  <th>Item_Id_2_T</th>                     <td>   -2.2250</td> <td>    1.279</td> <td>   -1.739</td> <td> 0.082</td> <td>   -4.734</td> <td>    0.284</td>\n",
       "</tr>\n",
       "<tr>\n",
       "  <th>Item_Id_2_U</th>                     <td>    0.8546</td> <td>    1.406</td> <td>    0.608</td> <td> 0.543</td> <td>   -1.903</td> <td>    3.612</td>\n",
       "</tr>\n",
       "<tr>\n",
       "  <th>Item_Id_2_V</th>                     <td>    0.4081</td> <td>    1.294</td> <td>    0.315</td> <td> 0.753</td> <td>   -2.131</td> <td>    2.947</td>\n",
       "</tr>\n",
       "<tr>\n",
       "  <th>Item_Id_2_W</th>                     <td>   -3.8942</td> <td>    1.453</td> <td>   -2.680</td> <td> 0.007</td> <td>   -6.745</td> <td>   -1.044</td>\n",
       "</tr>\n",
       "<tr>\n",
       "  <th>Item_Id_2_X</th>                     <td>   -0.1372</td> <td>    1.252</td> <td>   -0.110</td> <td> 0.913</td> <td>   -2.592</td> <td>    2.318</td>\n",
       "</tr>\n",
       "<tr>\n",
       "  <th>Item_Id_2_Y</th>                     <td>    1.5499</td> <td>    1.283</td> <td>    1.208</td> <td> 0.227</td> <td>   -0.967</td> <td>    4.067</td>\n",
       "</tr>\n",
       "<tr>\n",
       "  <th>Item_Id_2_Z</th>                     <td>   -1.7961</td> <td>    1.252</td> <td>   -1.435</td> <td> 0.152</td> <td>   -4.251</td> <td>    0.659</td>\n",
       "</tr>\n",
       "<tr>\n",
       "  <th>Item_Id_3_01</th>                    <td>   -1.9182</td> <td>    2.620</td> <td>   -0.732</td> <td> 0.464</td> <td>   -7.057</td> <td>    3.221</td>\n",
       "</tr>\n",
       "<tr>\n",
       "  <th>Item_Id_3_02</th>                    <td>    0.7125</td> <td>    2.530</td> <td>    0.282</td> <td> 0.778</td> <td>   -4.250</td> <td>    5.675</td>\n",
       "</tr>\n",
       "<tr>\n",
       "  <th>Item_Id_3_03</th>                    <td>   -2.2031</td> <td>    2.865</td> <td>   -0.769</td> <td> 0.442</td> <td>   -7.822</td> <td>    3.416</td>\n",
       "</tr>\n",
       "<tr>\n",
       "  <th>Item_Id_3_04</th>                    <td>   -4.1136</td> <td>    2.928</td> <td>   -1.405</td> <td> 0.160</td> <td>   -9.856</td> <td>    1.629</td>\n",
       "</tr>\n",
       "<tr>\n",
       "  <th>Item_Id_3_05</th>                    <td>   -4.3558</td> <td>    3.027</td> <td>   -1.439</td> <td> 0.150</td> <td>  -10.294</td> <td>    1.582</td>\n",
       "</tr>\n",
       "<tr>\n",
       "  <th>Item_Id_3_06</th>                    <td>   -4.3088</td> <td>    2.611</td> <td>   -1.650</td> <td> 0.099</td> <td>   -9.430</td> <td>    0.813</td>\n",
       "</tr>\n",
       "<tr>\n",
       "  <th>Item_Id_3_07</th>                    <td>    2.9755</td> <td>    2.450</td> <td>    1.215</td> <td> 0.225</td> <td>   -1.830</td> <td>    7.781</td>\n",
       "</tr>\n",
       "<tr>\n",
       "  <th>Item_Id_3_08</th>                    <td>   -3.0060</td> <td>    2.398</td> <td>   -1.254</td> <td> 0.210</td> <td>   -7.709</td> <td>    1.697</td>\n",
       "</tr>\n",
       "<tr>\n",
       "  <th>Item_Id_3_09</th>                    <td>    0.3311</td> <td>    2.643</td> <td>    0.125</td> <td> 0.900</td> <td>   -4.852</td> <td>    5.514</td>\n",
       "</tr>\n",
       "<tr>\n",
       "  <th>Item_Id_3_10</th>                    <td>    0.7577</td> <td>    2.799</td> <td>    0.271</td> <td> 0.787</td> <td>   -4.732</td> <td>    6.247</td>\n",
       "</tr>\n",
       "<tr>\n",
       "  <th>Item_Id_3_11</th>                    <td>   -3.4582</td> <td>    2.910</td> <td>   -1.189</td> <td> 0.235</td> <td>   -9.165</td> <td>    2.249</td>\n",
       "</tr>\n",
       "<tr>\n",
       "  <th>Item_Id_3_12</th>                    <td>   -1.0615</td> <td>    3.386</td> <td>   -0.313</td> <td> 0.754</td> <td>   -7.703</td> <td>    5.580</td>\n",
       "</tr>\n",
       "<tr>\n",
       "  <th>Item_Id_3_13</th>                    <td>    0.2857</td> <td>    2.492</td> <td>    0.115</td> <td> 0.909</td> <td>   -4.602</td> <td>    5.173</td>\n",
       "</tr>\n",
       "<tr>\n",
       "  <th>Item_Id_3_14</th>                    <td>    0.5311</td> <td>    2.560</td> <td>    0.207</td> <td> 0.836</td> <td>   -4.490</td> <td>    5.552</td>\n",
       "</tr>\n",
       "<tr>\n",
       "  <th>Item_Id_3_15</th>                    <td>    1.0887</td> <td>    2.960</td> <td>    0.368</td> <td> 0.713</td> <td>   -4.717</td> <td>    6.895</td>\n",
       "</tr>\n",
       "<tr>\n",
       "  <th>Item_Id_3_16</th>                    <td>    1.9788</td> <td>    3.011</td> <td>    0.657</td> <td> 0.511</td> <td>   -3.927</td> <td>    7.884</td>\n",
       "</tr>\n",
       "<tr>\n",
       "  <th>Item_Id_3_17</th>                    <td>   -1.0289</td> <td>    2.970</td> <td>   -0.346</td> <td> 0.729</td> <td>   -6.854</td> <td>    4.797</td>\n",
       "</tr>\n",
       "<tr>\n",
       "  <th>Item_Id_3_18</th>                    <td>   -1.0586</td> <td>    2.510</td> <td>   -0.422</td> <td> 0.673</td> <td>   -5.982</td> <td>    3.865</td>\n",
       "</tr>\n",
       "<tr>\n",
       "  <th>Item_Id_3_19</th>                    <td>   -0.2841</td> <td>    2.264</td> <td>   -0.126</td> <td> 0.900</td> <td>   -4.724</td> <td>    4.156</td>\n",
       "</tr>\n",
       "<tr>\n",
       "  <th>Item_Id_3_20</th>                    <td>    0.9493</td> <td>    2.547</td> <td>    0.373</td> <td> 0.709</td> <td>   -4.047</td> <td>    5.945</td>\n",
       "</tr>\n",
       "<tr>\n",
       "  <th>Item_Id_3_21</th>                    <td>    2.0425</td> <td>    2.512</td> <td>    0.813</td> <td> 0.416</td> <td>   -2.885</td> <td>    6.970</td>\n",
       "</tr>\n",
       "<tr>\n",
       "  <th>Item_Id_3_22</th>                    <td>    3.1248</td> <td>    2.732</td> <td>    1.144</td> <td> 0.253</td> <td>   -2.235</td> <td>    8.484</td>\n",
       "</tr>\n",
       "<tr>\n",
       "  <th>Item_Id_3_23</th>                    <td>    1.2350</td> <td>    3.082</td> <td>    0.401</td> <td> 0.689</td> <td>   -4.809</td> <td>    7.279</td>\n",
       "</tr>\n",
       "<tr>\n",
       "  <th>Item_Id_3_24</th>                    <td>    0.6979</td> <td>    2.815</td> <td>    0.248</td> <td> 0.804</td> <td>   -4.823</td> <td>    6.219</td>\n",
       "</tr>\n",
       "<tr>\n",
       "  <th>Item_Id_3_25</th>                    <td>   -0.4025</td> <td>    2.344</td> <td>   -0.172</td> <td> 0.864</td> <td>   -5.001</td> <td>    4.196</td>\n",
       "</tr>\n",
       "<tr>\n",
       "  <th>Item_Id_3_26</th>                    <td>   -1.7777</td> <td>    2.497</td> <td>   -0.712</td> <td> 0.477</td> <td>   -6.676</td> <td>    3.120</td>\n",
       "</tr>\n",
       "<tr>\n",
       "  <th>Item_Id_3_27</th>                    <td>    0.3103</td> <td>    2.499</td> <td>    0.124</td> <td> 0.901</td> <td>   -4.592</td> <td>    5.213</td>\n",
       "</tr>\n",
       "<tr>\n",
       "  <th>Item_Id_3_28</th>                    <td>   -6.2353</td> <td>    3.115</td> <td>   -2.002</td> <td> 0.045</td> <td>  -12.345</td> <td>   -0.125</td>\n",
       "</tr>\n",
       "<tr>\n",
       "  <th>Item_Id_3_29</th>                    <td>   -4.2356</td> <td>    2.974</td> <td>   -1.424</td> <td> 0.155</td> <td>  -10.069</td> <td>    1.598</td>\n",
       "</tr>\n",
       "<tr>\n",
       "  <th>Item_Id_3_30</th>                    <td>   -2.3808</td> <td>    2.455</td> <td>   -0.970</td> <td> 0.332</td> <td>   -7.196</td> <td>    2.435</td>\n",
       "</tr>\n",
       "<tr>\n",
       "  <th>Item_Id_3_31</th>                    <td>   -5.2532</td> <td>    2.617</td> <td>   -2.008</td> <td> 0.045</td> <td>  -10.386</td> <td>   -0.121</td>\n",
       "</tr>\n",
       "<tr>\n",
       "  <th>Item_Id_3_32</th>                    <td>   -0.9418</td> <td>    2.415</td> <td>   -0.390</td> <td> 0.697</td> <td>   -5.679</td> <td>    3.795</td>\n",
       "</tr>\n",
       "<tr>\n",
       "  <th>Item_Id_3_33</th>                    <td>    5.8213</td> <td>    2.664</td> <td>    2.185</td> <td> 0.029</td> <td>    0.596</td> <td>   11.046</td>\n",
       "</tr>\n",
       "<tr>\n",
       "  <th>Item_Id_3_34</th>                    <td>   10.1898</td> <td>    2.666</td> <td>    3.822</td> <td> 0.000</td> <td>    4.961</td> <td>   15.419</td>\n",
       "</tr>\n",
       "<tr>\n",
       "  <th>Item_Id_3_35</th>                    <td>    2.6836</td> <td>    3.244</td> <td>    0.827</td> <td> 0.408</td> <td>   -3.680</td> <td>    9.047</td>\n",
       "</tr>\n",
       "<tr>\n",
       "  <th>Item_Id_3_36</th>                    <td>    1.1580</td> <td>    2.946</td> <td>    0.393</td> <td> 0.694</td> <td>   -4.620</td> <td>    6.936</td>\n",
       "</tr>\n",
       "<tr>\n",
       "  <th>Item_Id_3_37</th>                    <td>    0.8271</td> <td>    2.565</td> <td>    0.322</td> <td> 0.747</td> <td>   -4.205</td> <td>    5.859</td>\n",
       "</tr>\n",
       "<tr>\n",
       "  <th>Item_Id_3_38</th>                    <td>    1.5128</td> <td>    2.155</td> <td>    0.702</td> <td> 0.483</td> <td>   -2.714</td> <td>    5.739</td>\n",
       "</tr>\n",
       "<tr>\n",
       "  <th>Item_Id_3_39</th>                    <td>    8.5397</td> <td>    2.635</td> <td>    3.241</td> <td> 0.001</td> <td>    3.372</td> <td>   13.708</td>\n",
       "</tr>\n",
       "<tr>\n",
       "  <th>Item_Id_3_40</th>                    <td>   -3.1151</td> <td>    2.850</td> <td>   -1.093</td> <td> 0.275</td> <td>   -8.706</td> <td>    2.476</td>\n",
       "</tr>\n",
       "<tr>\n",
       "  <th>Item_Id_3_41</th>                    <td>   -1.8279</td> <td>    3.223</td> <td>   -0.567</td> <td> 0.571</td> <td>   -8.151</td> <td>    4.495</td>\n",
       "</tr>\n",
       "<tr>\n",
       "  <th>Item_Id_3_42</th>                    <td>   -2.6290</td> <td>    2.599</td> <td>   -1.011</td> <td> 0.312</td> <td>   -7.727</td> <td>    2.469</td>\n",
       "</tr>\n",
       "<tr>\n",
       "  <th>Item_Id_3_43</th>                    <td>   -2.8474</td> <td>    2.297</td> <td>   -1.240</td> <td> 0.215</td> <td>   -7.353</td> <td>    1.658</td>\n",
       "</tr>\n",
       "<tr>\n",
       "  <th>Item_Id_3_44</th>                    <td>    3.4133</td> <td>    2.781</td> <td>    1.227</td> <td> 0.220</td> <td>   -2.042</td> <td>    8.868</td>\n",
       "</tr>\n",
       "<tr>\n",
       "  <th>Item_Id_3_45</th>                    <td>    3.3684</td> <td>    2.746</td> <td>    1.227</td> <td> 0.220</td> <td>   -2.017</td> <td>    8.754</td>\n",
       "</tr>\n",
       "<tr>\n",
       "  <th>Item_Id_3_46</th>                    <td>    3.2635</td> <td>    2.797</td> <td>    1.167</td> <td> 0.244</td> <td>   -2.223</td> <td>    8.750</td>\n",
       "</tr>\n",
       "<tr>\n",
       "  <th>Item_Id_3_47</th>                    <td>    1.6350</td> <td>    3.104</td> <td>    0.527</td> <td> 0.598</td> <td>   -4.453</td> <td>    7.723</td>\n",
       "</tr>\n",
       "<tr>\n",
       "  <th>Item_Id_3_48</th>                    <td>   -0.5218</td> <td>    3.103</td> <td>   -0.168</td> <td> 0.866</td> <td>   -6.608</td> <td>    5.564</td>\n",
       "</tr>\n",
       "<tr>\n",
       "  <th>Item_Id_3_49</th>                    <td>   -4.1930</td> <td>    2.818</td> <td>   -1.488</td> <td> 0.137</td> <td>   -9.720</td> <td>    1.334</td>\n",
       "</tr>\n",
       "<tr>\n",
       "  <th>Item_Id_3_50</th>                    <td>    0.0267</td> <td>    2.199</td> <td>    0.012</td> <td> 0.990</td> <td>   -4.286</td> <td>    4.339</td>\n",
       "</tr>\n",
       "<tr>\n",
       "  <th>Item_Id_3_51</th>                    <td>   -0.6255</td> <td>    2.790</td> <td>   -0.224</td> <td> 0.823</td> <td>   -6.099</td> <td>    4.848</td>\n",
       "</tr>\n",
       "<tr>\n",
       "  <th>Item_Id_3_52</th>                    <td>   -1.8353</td> <td>    2.918</td> <td>   -0.629</td> <td> 0.529</td> <td>   -7.558</td> <td>    3.888</td>\n",
       "</tr>\n",
       "<tr>\n",
       "  <th>Item_Id_3_53</th>                    <td>   -1.4415</td> <td>    3.192</td> <td>   -0.452</td> <td> 0.652</td> <td>   -7.702</td> <td>    4.819</td>\n",
       "</tr>\n",
       "<tr>\n",
       "  <th>Item_Id_3_54</th>                    <td>   -0.2030</td> <td>    2.364</td> <td>   -0.086</td> <td> 0.932</td> <td>   -4.839</td> <td>    4.433</td>\n",
       "</tr>\n",
       "<tr>\n",
       "  <th>Item_Id_3_55</th>                    <td>    5.3305</td> <td>    2.353</td> <td>    2.266</td> <td> 0.024</td> <td>    0.716</td> <td>    9.945</td>\n",
       "</tr>\n",
       "<tr>\n",
       "  <th>Item_Id_3_56</th>                    <td>    1.8085</td> <td>    2.669</td> <td>    0.677</td> <td> 0.498</td> <td>   -3.428</td> <td>    7.045</td>\n",
       "</tr>\n",
       "<tr>\n",
       "  <th>Item_Id_3_57</th>                    <td>    4.7441</td> <td>    2.490</td> <td>    1.905</td> <td> 0.057</td> <td>   -0.140</td> <td>    9.628</td>\n",
       "</tr>\n",
       "<tr>\n",
       "  <th>Item_Id_3_58</th>                    <td>    1.2485</td> <td>    2.904</td> <td>    0.430</td> <td> 0.667</td> <td>   -4.448</td> <td>    6.945</td>\n",
       "</tr>\n",
       "<tr>\n",
       "  <th>Item_Id_3_59</th>                    <td>   -4.2982</td> <td>    3.259</td> <td>   -1.319</td> <td> 0.187</td> <td>  -10.691</td> <td>    2.094</td>\n",
       "</tr>\n",
       "<tr>\n",
       "  <th>Item_Id_3_60</th>                    <td>   -1.7634</td> <td>    3.203</td> <td>   -0.551</td> <td> 0.582</td> <td>   -8.045</td> <td>    4.519</td>\n",
       "</tr>\n",
       "</table>\n",
       "<table class=\"simpletable\">\n",
       "<tr>\n",
       "  <th>Omnibus:</th>       <td>15.834</td> <th>  Durbin-Watson:     </th> <td>   2.038</td>\n",
       "</tr>\n",
       "<tr>\n",
       "  <th>Prob(Omnibus):</th> <td> 0.000</td> <th>  Jarque-Bera (JB):  </th> <td>  18.830</td>\n",
       "</tr>\n",
       "<tr>\n",
       "  <th>Skew:</th>          <td>-0.156</td> <th>  Prob(JB):          </th> <td>8.15e-05</td>\n",
       "</tr>\n",
       "<tr>\n",
       "  <th>Kurtosis:</th>      <td> 3.410</td> <th>  Cond. No.          </th> <td>9.10e+16</td>\n",
       "</tr>\n",
       "</table><br/><br/>Warnings:<br/>[1] Standard Errors assume that the covariance matrix of the errors is correctly specified.<br/>[2] The smallest eigenvalue is 3.22e-29. This might indicate that there are<br/>strong multicollinearity problems or that the design matrix is singular."
      ],
      "text/plain": [
       "<class 'statsmodels.iolib.summary.Summary'>\n",
       "\"\"\"\n",
       "                            OLS Regression Results                            \n",
       "==============================================================================\n",
       "Dep. Variable:      Item_Outlet_Sales   R-squared:                       0.702\n",
       "Model:                            OLS   Adj. R-squared:                  0.681\n",
       "Method:                 Least Squares   F-statistic:                     33.14\n",
       "Date:                Sun, 12 Jul 2020   Prob (F-statistic):               0.00\n",
       "Time:                        02:15:17   Log-Likelihood:                -6355.4\n",
       "No. Observations:                1705   AIC:                         1.294e+04\n",
       "Df Residuals:                    1591   BIC:                         1.356e+04\n",
       "Df Model:                         113                                         \n",
       "Covariance Type:            nonrobust                                         \n",
       "===================================================================================================\n",
       "                                      coef    std err          t      P>|t|      [0.025      0.975]\n",
       "---------------------------------------------------------------------------------------------------\n",
       "const                              -0.7332      0.601     -1.219      0.223      -1.913       0.447\n",
       "Item_Weight                        -0.0867      0.404     -0.214      0.830      -0.880       0.707\n",
       "Item_Visibility                    -2.4002      2.565     -0.936      0.349      -7.431       2.630\n",
       "Item_MRP                            3.7263      0.097     38.291      0.000       3.535       3.917\n",
       "Item_Fat_Content_Low Fat           -0.8641      0.417     -2.070      0.039      -1.683      -0.045\n",
       "Item_Fat_Content_Regular            0.1309      0.446      0.293      0.769      -0.745       1.006\n",
       "Item_Type_Baking Goods             -0.5315      2.264     -0.235      0.814      -4.972       3.909\n",
       "Item_Type_Breads                    0.7188      2.636      0.273      0.785      -4.452       5.889\n",
       "Item_Type_Breakfast                -0.5522      2.818     -0.196      0.845      -6.080       4.976\n",
       "Item_Type_Canned                   -0.4461      1.666     -0.268      0.789      -3.714       2.822\n",
       "Item_Type_Dairy                    -1.6613      1.811     -0.918      0.359      -5.213       1.890\n",
       "Item_Type_Frozen Foods              2.0017      2.735      0.732      0.464      -3.364       7.367\n",
       "Item_Type_Fruits and Vegetables    -1.3956      2.019     -0.691      0.490      -5.356       2.565\n",
       "Item_Type_Hard Drinks               4.0561      3.441      1.179      0.239      -2.693      10.805\n",
       "Item_Type_Health and Hygiene        1.4679      2.157      0.680      0.496      -2.764       5.700\n",
       "Item_Type_Household                 0.1330      1.423      0.093      0.926      -2.659       2.925\n",
       "Item_Type_Meat                     -1.4528      2.504     -0.580      0.562      -6.365       3.459\n",
       "Item_Type_Others                   -0.5034      1.965     -0.256      0.798      -4.359       3.352\n",
       "Item_Type_Seafood                  -4.2971      3.309     -1.298      0.194     -10.788       2.194\n",
       "Item_Type_Snack Foods              -3.6933      2.226     -1.659      0.097      -8.059       0.672\n",
       "Item_Type_Soft Drinks               3.5926      3.059      1.174      0.240      -2.408       9.593\n",
       "Item_Type_Starchy Foods             1.8301      2.581      0.709      0.478      -3.232       6.892\n",
       "Outlet_Identifier_OUT010           -4.5304      0.297    -15.258      0.000      -5.113      -3.948\n",
       "Outlet_Identifier_OUT013           -0.5435      0.221     -2.462      0.014      -0.976      -0.110\n",
       "Outlet_Identifier_OUT017            1.0872      0.341      3.186      0.001       0.418       1.756\n",
       "Outlet_Identifier_OUT018           -1.1671      0.242     -4.819      0.000      -1.642      -0.692\n",
       "Outlet_Identifier_OUT019           -5.7477      0.351    -16.355      0.000      -6.437      -5.058\n",
       "Outlet_Identifier_OUT027            6.1287      0.237     25.806      0.000       5.663       6.595\n",
       "Outlet_Identifier_OUT035            1.1249      0.325      3.457      0.001       0.487       1.763\n",
       "Outlet_Identifier_OUT045            0.0993      0.326      0.305      0.760      -0.540       0.738\n",
       "Outlet_Identifier_OUT046            3.1536      0.313     10.078      0.000       2.540       3.767\n",
       "Outlet_Identifier_OUT049           -0.3384      0.251     -1.349      0.178      -0.830       0.154\n",
       "Outlet_Establishment_Year_1985      0.3810      0.351      1.086      0.278      -0.307       1.069\n",
       "Outlet_Establishment_Year_1987     -0.5435      0.221     -2.462      0.014      -0.976      -0.110\n",
       "Outlet_Establishment_Year_1997      3.1536      0.313     10.078      0.000       2.540       3.767\n",
       "Outlet_Establishment_Year_1998     -4.5304      0.297    -15.258      0.000      -5.113      -3.948\n",
       "Outlet_Establishment_Year_1999     -0.3384      0.251     -1.349      0.178      -0.830       0.154\n",
       "Outlet_Establishment_Year_2002      0.0993      0.326      0.305      0.760      -0.540       0.738\n",
       "Outlet_Establishment_Year_2004      1.1249      0.325      3.457      0.001       0.487       1.763\n",
       "Outlet_Establishment_Year_2007      1.0872      0.341      3.186      0.001       0.418       1.756\n",
       "Outlet_Establishment_Year_2009     -1.1671      0.242     -4.819      0.000      -1.642      -0.692\n",
       "Outlet_Size_High                   -0.5435      0.221     -2.462      0.014      -0.976      -0.110\n",
       "Outlet_Size_Medium                  4.6233      0.311     14.854      0.000       4.013       5.234\n",
       "Outlet_Size_Small                  -4.8131      0.357    -13.490      0.000      -5.513      -4.113\n",
       "Outlet_Location_Type_Tier 1        -2.9325      0.309     -9.483      0.000      -3.539      -2.326\n",
       "Outlet_Location_Type_Tier 2         2.3115      0.240      9.642      0.000       1.841       2.782\n",
       "Outlet_Location_Type_Tier 3        -0.1122      0.376     -0.299      0.765      -0.849       0.625\n",
       "Outlet_Type_Grocery Store         -10.2781      0.315    -32.649      0.000     -10.896      -9.661\n",
       "Outlet_Type_Supermarket Type1       4.5832      0.352     13.024      0.000       3.893       5.273\n",
       "Outlet_Type_Supermarket Type2      -1.1671      0.242     -4.819      0.000      -1.642      -0.692\n",
       "Outlet_Type_Supermarket Type3       6.1287      0.237     25.806      0.000       5.663       6.595\n",
       "Item_Id_1_DR                       -2.9547      1.807     -1.635      0.102      -6.500       0.590\n",
       "Item_Id_1_FD                        1.1239      1.204      0.934      0.351      -1.238       3.485\n",
       "Item_Id_1_NC                        1.0975      1.102      0.996      0.319      -1.064       3.259\n",
       "Item_Id_2_A                         0.7581      1.460      0.519      0.604      -2.105       3.622\n",
       "Item_Id_2_B                        -0.4796      1.271     -0.377      0.706      -2.972       2.013\n",
       "Item_Id_2_C                        -2.0000      1.319     -1.517      0.130      -4.587       0.587\n",
       "Item_Id_2_D                        -1.4351      1.341     -1.070      0.285      -4.066       1.196\n",
       "Item_Id_2_E                        -1.8431      1.315     -1.401      0.161      -4.423       0.737\n",
       "Item_Id_2_F                        -0.7304      1.430     -0.511      0.610      -3.536       2.075\n",
       "Item_Id_2_G                        -0.9926      1.300     -0.764      0.445      -3.542       1.557\n",
       "Item_Id_2_H                        -1.5729      1.368     -1.150      0.250      -4.256       1.111\n",
       "Item_Id_2_I                         3.0672      1.191      2.576      0.010       0.732       5.403\n",
       "Item_Id_2_J                        -0.9595      1.409     -0.681      0.496      -3.724       1.805\n",
       "Item_Id_2_K                         0.9540      1.262      0.756      0.450      -1.520       3.429\n",
       "Item_Id_2_L                        -0.5905      1.306     -0.452      0.651      -3.153       1.972\n",
       "Item_Id_2_M                         3.5856      1.497      2.395      0.017       0.649       6.523\n",
       "Item_Id_2_N                         1.5251      1.472      1.036      0.300      -1.363       4.413\n",
       "Item_Id_2_O                         1.1185      1.209      0.925      0.355      -1.252       3.489\n",
       "Item_Id_2_P                         0.3589      1.182      0.304      0.761      -1.959       2.677\n",
       "Item_Id_2_Q                         1.4057      1.263      1.113      0.266      -1.072       3.884\n",
       "Item_Id_2_R                         2.5818      1.287      2.006      0.045       0.058       5.106\n",
       "Item_Id_2_S                        -0.2446      1.244     -0.197      0.844      -2.685       2.196\n",
       "Item_Id_2_T                        -2.2250      1.279     -1.739      0.082      -4.734       0.284\n",
       "Item_Id_2_U                         0.8546      1.406      0.608      0.543      -1.903       3.612\n",
       "Item_Id_2_V                         0.4081      1.294      0.315      0.753      -2.131       2.947\n",
       "Item_Id_2_W                        -3.8942      1.453     -2.680      0.007      -6.745      -1.044\n",
       "Item_Id_2_X                        -0.1372      1.252     -0.110      0.913      -2.592       2.318\n",
       "Item_Id_2_Y                         1.5499      1.283      1.208      0.227      -0.967       4.067\n",
       "Item_Id_2_Z                        -1.7961      1.252     -1.435      0.152      -4.251       0.659\n",
       "Item_Id_3_01                       -1.9182      2.620     -0.732      0.464      -7.057       3.221\n",
       "Item_Id_3_02                        0.7125      2.530      0.282      0.778      -4.250       5.675\n",
       "Item_Id_3_03                       -2.2031      2.865     -0.769      0.442      -7.822       3.416\n",
       "Item_Id_3_04                       -4.1136      2.928     -1.405      0.160      -9.856       1.629\n",
       "Item_Id_3_05                       -4.3558      3.027     -1.439      0.150     -10.294       1.582\n",
       "Item_Id_3_06                       -4.3088      2.611     -1.650      0.099      -9.430       0.813\n",
       "Item_Id_3_07                        2.9755      2.450      1.215      0.225      -1.830       7.781\n",
       "Item_Id_3_08                       -3.0060      2.398     -1.254      0.210      -7.709       1.697\n",
       "Item_Id_3_09                        0.3311      2.643      0.125      0.900      -4.852       5.514\n",
       "Item_Id_3_10                        0.7577      2.799      0.271      0.787      -4.732       6.247\n",
       "Item_Id_3_11                       -3.4582      2.910     -1.189      0.235      -9.165       2.249\n",
       "Item_Id_3_12                       -1.0615      3.386     -0.313      0.754      -7.703       5.580\n",
       "Item_Id_3_13                        0.2857      2.492      0.115      0.909      -4.602       5.173\n",
       "Item_Id_3_14                        0.5311      2.560      0.207      0.836      -4.490       5.552\n",
       "Item_Id_3_15                        1.0887      2.960      0.368      0.713      -4.717       6.895\n",
       "Item_Id_3_16                        1.9788      3.011      0.657      0.511      -3.927       7.884\n",
       "Item_Id_3_17                       -1.0289      2.970     -0.346      0.729      -6.854       4.797\n",
       "Item_Id_3_18                       -1.0586      2.510     -0.422      0.673      -5.982       3.865\n",
       "Item_Id_3_19                       -0.2841      2.264     -0.126      0.900      -4.724       4.156\n",
       "Item_Id_3_20                        0.9493      2.547      0.373      0.709      -4.047       5.945\n",
       "Item_Id_3_21                        2.0425      2.512      0.813      0.416      -2.885       6.970\n",
       "Item_Id_3_22                        3.1248      2.732      1.144      0.253      -2.235       8.484\n",
       "Item_Id_3_23                        1.2350      3.082      0.401      0.689      -4.809       7.279\n",
       "Item_Id_3_24                        0.6979      2.815      0.248      0.804      -4.823       6.219\n",
       "Item_Id_3_25                       -0.4025      2.344     -0.172      0.864      -5.001       4.196\n",
       "Item_Id_3_26                       -1.7777      2.497     -0.712      0.477      -6.676       3.120\n",
       "Item_Id_3_27                        0.3103      2.499      0.124      0.901      -4.592       5.213\n",
       "Item_Id_3_28                       -6.2353      3.115     -2.002      0.045     -12.345      -0.125\n",
       "Item_Id_3_29                       -4.2356      2.974     -1.424      0.155     -10.069       1.598\n",
       "Item_Id_3_30                       -2.3808      2.455     -0.970      0.332      -7.196       2.435\n",
       "Item_Id_3_31                       -5.2532      2.617     -2.008      0.045     -10.386      -0.121\n",
       "Item_Id_3_32                       -0.9418      2.415     -0.390      0.697      -5.679       3.795\n",
       "Item_Id_3_33                        5.8213      2.664      2.185      0.029       0.596      11.046\n",
       "Item_Id_3_34                       10.1898      2.666      3.822      0.000       4.961      15.419\n",
       "Item_Id_3_35                        2.6836      3.244      0.827      0.408      -3.680       9.047\n",
       "Item_Id_3_36                        1.1580      2.946      0.393      0.694      -4.620       6.936\n",
       "Item_Id_3_37                        0.8271      2.565      0.322      0.747      -4.205       5.859\n",
       "Item_Id_3_38                        1.5128      2.155      0.702      0.483      -2.714       5.739\n",
       "Item_Id_3_39                        8.5397      2.635      3.241      0.001       3.372      13.708\n",
       "Item_Id_3_40                       -3.1151      2.850     -1.093      0.275      -8.706       2.476\n",
       "Item_Id_3_41                       -1.8279      3.223     -0.567      0.571      -8.151       4.495\n",
       "Item_Id_3_42                       -2.6290      2.599     -1.011      0.312      -7.727       2.469\n",
       "Item_Id_3_43                       -2.8474      2.297     -1.240      0.215      -7.353       1.658\n",
       "Item_Id_3_44                        3.4133      2.781      1.227      0.220      -2.042       8.868\n",
       "Item_Id_3_45                        3.3684      2.746      1.227      0.220      -2.017       8.754\n",
       "Item_Id_3_46                        3.2635      2.797      1.167      0.244      -2.223       8.750\n",
       "Item_Id_3_47                        1.6350      3.104      0.527      0.598      -4.453       7.723\n",
       "Item_Id_3_48                       -0.5218      3.103     -0.168      0.866      -6.608       5.564\n",
       "Item_Id_3_49                       -4.1930      2.818     -1.488      0.137      -9.720       1.334\n",
       "Item_Id_3_50                        0.0267      2.199      0.012      0.990      -4.286       4.339\n",
       "Item_Id_3_51                       -0.6255      2.790     -0.224      0.823      -6.099       4.848\n",
       "Item_Id_3_52                       -1.8353      2.918     -0.629      0.529      -7.558       3.888\n",
       "Item_Id_3_53                       -1.4415      3.192     -0.452      0.652      -7.702       4.819\n",
       "Item_Id_3_54                       -0.2030      2.364     -0.086      0.932      -4.839       4.433\n",
       "Item_Id_3_55                        5.3305      2.353      2.266      0.024       0.716       9.945\n",
       "Item_Id_3_56                        1.8085      2.669      0.677      0.498      -3.428       7.045\n",
       "Item_Id_3_57                        4.7441      2.490      1.905      0.057      -0.140       9.628\n",
       "Item_Id_3_58                        1.2485      2.904      0.430      0.667      -4.448       6.945\n",
       "Item_Id_3_59                       -4.2982      3.259     -1.319      0.187     -10.691       2.094\n",
       "Item_Id_3_60                       -1.7634      3.203     -0.551      0.582      -8.045       4.519\n",
       "==============================================================================\n",
       "Omnibus:                       15.834   Durbin-Watson:                   2.038\n",
       "Prob(Omnibus):                  0.000   Jarque-Bera (JB):               18.830\n",
       "Skew:                          -0.156   Prob(JB):                     8.15e-05\n",
       "Kurtosis:                       3.410   Cond. No.                     9.10e+16\n",
       "==============================================================================\n",
       "\n",
       "Warnings:\n",
       "[1] Standard Errors assume that the covariance matrix of the errors is correctly specified.\n",
       "[2] The smallest eigenvalue is 3.22e-29. This might indicate that there are\n",
       "strong multicollinearity problems or that the design matrix is singular.\n",
       "\"\"\""
      ]
     },
     "execution_count": 95,
     "metadata": {},
     "output_type": "execute_result"
    }
   ],
   "source": [
    "import statsmodels.api as sm\n",
    "X_constant = sm.add_constant(xtest)\n",
    "model = sm.OLS(ytest, X_constant).fit()\n",
    "predictions = model.predict(X_constant)\n",
    "model.summary()"
   ]
  },
  {
   "cell_type": "code",
   "execution_count": 96,
   "metadata": {},
   "outputs": [],
   "source": [
    "sns.set(style = 'whitegrid')\n",
    "residuals = model.resid"
   ]
  },
  {
   "cell_type": "code",
   "execution_count": 97,
   "metadata": {},
   "outputs": [
    {
     "data": {
      "image/png": "[encoded data removed]",
      "text/plain": [
       "<Figure size 432x288 with 1 Axes>"
      ]
     },
     "metadata": {},
     "output_type": "display_data"
    }
   ],
   "source": [
    "ax = sns.residplot(ytest, residuals, lowess = True, color = 'g')\n",
    "ax.set(xlabel = 'Fitted value', ylabel = 'Residuals', title = 'Residual vs Fitted Plot \\n')\n",
    "plt.show()"
   ]
  },
  {
   "cell_type": "raw",
   "metadata": {},
   "source": [
    "The  plot patterns are non-random (U-shaped and inverted U), suggesting a better fit for a non-linear model."
   ]
  },
  {
   "cell_type": "raw",
   "metadata": {},
   "source": [
    "In regression, a transformation to achieve linearity is a special kind of nonlinear transformation. It is a nonlinear transformation that increases the linear relationship between two variables."
   ]
  },
  {
   "cell_type": "code",
   "execution_count": 98,
   "metadata": {},
   "outputs": [
    {
     "data": {
      "text/plain": [
       "<matplotlib.axes._subplots.AxesSubplot at 0x1f3b8ce2a20>"
      ]
     },
     "execution_count": 98,
     "metadata": {},
     "output_type": "execute_result"
    },
    {
     "data": {
      "image/png": "[encoded data removed]",
      "text/plain": [
       "<Figure size 432x288 with 1 Axes>"
      ]
     },
     "metadata": {},
     "output_type": "display_data"
    }
   ],
   "source": [
    "sns.distplot(residuals)"
   ]
  },
  {
   "cell_type": "raw",
   "metadata": {},
   "source": [
    "The Histogram of the Residual can be used to check whether the variance is normally distributed. A symmetric bell-shaped histogram which is evenly distributed around zero indicates that the normality assumption is likely to be true. If the histogram indicates that random error is not normally distributed, it suggests that the model's underlying assumptions may have been violated."
   ]
  },
  {
   "cell_type": "code",
   "execution_count": 99,
   "metadata": {},
   "outputs": [
    {
     "data": {
      "text/plain": [
       "<matplotlib.axes._subplots.AxesSubplot at 0x1f3b8dfcac8>"
      ]
     },
     "execution_count": 99,
     "metadata": {},
     "output_type": "execute_result"
    },
    {
     "data": {
      "image/png": "[encoded data removed]",
      "text/plain": [
       "<Figure size 432x288 with 1 Axes>"
      ]
     },
     "metadata": {},
     "output_type": "display_data"
    }
   ],
   "source": [
    "sns.scatterplot(ytest, pred)"
   ]
  },
  {
   "cell_type": "code",
   "execution_count": 100,
   "metadata": {},
   "outputs": [
    {
     "data": {
      "image/png": "[encoded data removed]",
      "text/plain": [
       "<Figure size 432x288 with 1 Axes>"
      ]
     },
     "metadata": {},
     "output_type": "display_data"
    }
   ],
   "source": [
    "sns.regplot(x=ytest, y=pred, lowess=True, line_kws={'color': 'red'})\n",
    "plt.title('Observed vs. Predicted Values', fontsize=16)\n",
    "plt.xlabel='Predicted'\n",
    "plt.ylabel='Observed'\n"
   ]
  },
  {
   "cell_type": "raw",
   "metadata": {},
   "source": [
    "A straight line would have depicted underfitting, while a line following all the data points depicts overfitting. We have a slight curve which is proof of the fact that we almost have a Balanced Model."
   ]
  },
  {
   "cell_type": "markdown",
   "metadata": {},
   "source": [
    "## Random Forest Regressor"
   ]
  },
  {
   "cell_type": "code",
   "execution_count": 102,
   "metadata": {},
   "outputs": [],
   "source": [
    "params1 = {'n_estimators':400,\n",
    "          'min_samples_split':200,\n",
    "           'min_samples_leaf':3\n",
    "        }"
   ]
  },
  {
   "cell_type": "code",
   "execution_count": 103,
   "metadata": {},
   "outputs": [],
   "source": [
    "from sklearn.ensemble import RandomForestRegressor\n",
    "rf=RandomForestRegressor(**params1)\n",
    "rf.fit(xtrain,ytrain)\n",
    "pred_rf=rf.predict(xtest)"
   ]
  },
  {
   "cell_type": "code",
   "execution_count": 104,
   "metadata": {},
   "outputs": [
    {
     "name": "stdout",
     "output_type": "stream",
     "text": [
      "0.6775398824248795\n",
      "R^2 score:0.7071305608902148\n",
      "R^2 score:0.6775398824248795\n"
     ]
    }
   ],
   "source": [
    "print(r2_score(y_true=ytest, y_pred=pred_rf))\n",
    "print(f'R^2 score:{rf.score(xtrain,ytrain)}')\n",
    "print(f'R^2 score:{rf.score(xtest,ytest)}')"
   ]
  },
  {
   "cell_type": "code",
   "execution_count": 105,
   "metadata": {},
   "outputs": [
    {
     "data": {
      "text/plain": [
       "array([5.41344039e-03, 4.50186923e-03, 4.95685623e-01, 6.88986515e-05,\n",
       "       6.99774915e-05, 1.17796553e-04, 7.06550010e-05, 2.45149637e-04,\n",
       "       7.30338492e-05, 2.93899535e-04, 1.63940321e-04, 3.03376824e-04,\n",
       "       6.51759838e-05, 8.08148413e-05, 4.61113014e-04, 1.27720141e-04,\n",
       "       9.75650874e-05, 4.79051735e-04, 1.34561576e-04, 2.71521442e-04,\n",
       "       6.79679783e-05, 0.00000000e+00, 1.01734215e-05, 1.56970772e-04,\n",
       "       7.30353937e-04, 0.00000000e+00, 2.22626142e-02, 2.38314070e-04,\n",
       "       3.15885580e-04, 6.36062766e-05, 1.09608732e-04, 2.50050485e-02,\n",
       "       2.43549486e-05, 1.02619089e-04, 0.00000000e+00, 1.45137611e-04,\n",
       "       4.42012540e-04, 2.88236028e-04, 1.33268491e-04, 5.76215033e-04,\n",
       "       2.68713103e-05, 4.25717830e-04, 1.76853990e-04, 1.16978151e-04,\n",
       "       2.49409882e-04, 4.51492690e-04, 3.94302375e-01, 2.19852909e-03,\n",
       "       6.60795187e-04, 2.23212171e-02, 2.37592577e-04, 7.29592402e-05,\n",
       "       9.98877110e-05, 2.51801218e-04, 2.13739696e-04, 8.25358821e-05,\n",
       "       5.02772100e-05, 1.41053227e-04, 1.79742624e-04, 1.63152894e-04,\n",
       "       5.89509930e-04, 3.76248455e-04, 9.43935025e-05, 2.44851521e-04,\n",
       "       2.01739458e-04, 2.13024373e-04, 2.59173517e-04, 1.37019066e-04,\n",
       "       8.33040628e-05, 2.07141992e-04, 4.86125734e-04, 3.03281832e-04,\n",
       "       6.59014817e-05, 2.05878965e-04, 3.42226754e-04, 1.42940560e-04,\n",
       "       7.10505767e-05, 3.16462677e-04, 1.21767694e-03, 2.03506897e-04,\n",
       "       2.88897611e-04, 2.45141769e-04, 5.10444170e-05, 1.74547991e-04,\n",
       "       2.84384968e-04, 3.98024566e-04, 9.20178776e-05, 5.20925719e-04,\n",
       "       3.42011197e-04, 7.99730353e-05, 1.54971658e-04, 2.98613155e-04,\n",
       "       1.58679233e-04, 4.76285303e-04, 2.38195801e-04, 1.72915710e-04,\n",
       "       5.82504820e-04, 1.59216250e-04, 1.46932820e-04, 9.00437385e-04,\n",
       "       1.04318242e-04, 1.21219201e-05, 7.48935871e-05, 2.40153129e-04,\n",
       "       5.49748065e-05, 3.16930133e-04, 2.83557266e-04, 2.29921669e-04,\n",
       "       3.54520660e-04, 4.50498134e-05, 5.47297481e-05, 1.88899792e-04,\n",
       "       4.00400286e-04, 9.32564672e-05, 2.98268420e-04, 2.57378523e-04,\n",
       "       8.11598618e-05, 6.61401634e-05, 9.06279090e-05, 2.74888455e-04,\n",
       "       4.49221995e-05, 3.40018279e-04, 1.65462901e-04, 1.95725367e-04,\n",
       "       1.39690582e-04, 7.03617116e-05, 1.56020259e-04, 4.22735380e-04,\n",
       "       1.45111133e-04, 1.18079106e-04, 9.47613596e-05, 1.10554396e-04,\n",
       "       1.35523652e-04, 1.51399055e-04, 1.85978944e-04, 2.69055209e-04,\n",
       "       1.26757048e-04, 1.67344169e-04, 9.05750679e-05])"
      ]
     },
     "execution_count": 105,
     "metadata": {},
     "output_type": "execute_result"
    }
   ],
   "source": [
    "rf.feature_importances_"
   ]
  },
  {
   "cell_type": "raw",
   "metadata": {},
   "source": [
    "params1 = {'n_estimators':400,\n",
    "          'min_samples_split':200,\n",
    "           'min_samples_leaf':[2,3]}0.6781"
   ]
  },
  {
   "cell_type": "code",
   "execution_count": 107,
   "metadata": {},
   "outputs": [
    {
     "name": "stdout",
     "output_type": "stream",
     "text": [
      "10.462155319964898\n"
     ]
    }
   ],
   "source": [
    "from sklearn.metrics import mean_squared_error\n",
    "mse=mean_squared_error(ytest,pred_rf)\n",
    "lr_rmse_score=np.sqrt(mse)\n",
    "print(lr_rmse_score)"
   ]
  },
  {
   "cell_type": "raw",
   "metadata": {},
   "source": [
    "The model is overfitting, so we try for hyperparameter tuning."
   ]
  },
  {
   "cell_type": "raw",
   "metadata": {},
   "source": [
    "The Computer resources were not as powerful to do hyperparameter tuning through gradient search so we look at other algorithms."
   ]
  },
  {
   "cell_type": "markdown",
   "metadata": {},
   "source": [
    "## XGBoost Regressor"
   ]
  },
  {
   "cell_type": "code",
   "execution_count": 108,
   "metadata": {},
   "outputs": [],
   "source": [
    "import xgboost as xgb"
   ]
  },
  {
   "cell_type": "code",
   "execution_count": 109,
   "metadata": {},
   "outputs": [
    {
     "name": "stderr",
     "output_type": "stream",
     "text": [
      "C:\\Users\\Navika\\Anaconda3\\lib\\site-packages\\xgboost\\core.py:587: FutureWarning: Series.base is deprecated and will be removed in a future version\n",
      "  if getattr(data, 'base', None) is not None and \\\n"
     ]
    },
    {
     "name": "stdout",
     "output_type": "stream",
     "text": [
      "[02:15:54] WARNING: C:/Jenkins/workspace/xgboost-win64_release_0.90/src/objective/regression_obj.cu:152: reg:linear is now deprecated in favor of reg:squarederror.\n"
     ]
    }
   ],
   "source": [
    "from xgboost.sklearn import XGBRegressor \n",
    "xgb=XGBRegressor() \n",
    "preds_xgb=xgb.fit(xtrain,ytrain).predict(xtest)"
   ]
  },
  {
   "cell_type": "code",
   "execution_count": 110,
   "metadata": {},
   "outputs": [
    {
     "name": "stdout",
     "output_type": "stream",
     "text": [
      "0.6827342625576154\n",
      "R^2 score:0.7013651452907956\n",
      "R^2 score:0.6827342625576154\n"
     ]
    }
   ],
   "source": [
    "print(r2_score(y_true=ytest, y_pred=preds_xgb))\n",
    "print(f'R^2 score:{xgb.score(xtrain,ytrain)}')\n",
    "print(f'R^2 score:{xgb.score(xtest,ytest)}')"
   ]
  },
  {
   "cell_type": "code",
   "execution_count": 111,
   "metadata": {},
   "outputs": [
    {
     "name": "stdout",
     "output_type": "stream",
     "text": [
      "10.377547887166381\n"
     ]
    }
   ],
   "source": [
    "from sklearn.metrics import mean_squared_error\n",
    "mse=mean_squared_error(ytest,preds_xgb)\n",
    "lr_rmse_score=np.sqrt(mse)\n",
    "print(lr_rmse_score)"
   ]
  },
  {
   "cell_type": "markdown",
   "metadata": {},
   "source": [
    "## XGBoostRegressor with Hyperparameter Tuning"
   ]
  },
  {
   "cell_type": "code",
   "execution_count": 112,
   "metadata": {},
   "outputs": [
    {
     "name": "stdout",
     "output_type": "stream",
     "text": [
      "[02:15:58] WARNING: C:/Jenkins/workspace/xgboost-win64_release_0.90/src/objective/regression_obj.cu:152: reg:linear is now deprecated in favor of reg:squarederror.\n"
     ]
    },
    {
     "name": "stderr",
     "output_type": "stream",
     "text": [
      "C:\\Users\\Navika\\Anaconda3\\lib\\site-packages\\xgboost\\core.py:587: FutureWarning: Series.base is deprecated and will be removed in a future version\n",
      "  if getattr(data, 'base', None) is not None and \\\n"
     ]
    }
   ],
   "source": [
    "from xgboost.sklearn import XGBRegressor \n",
    "xgb1=XGBRegressor(booster='gblinear',eta=0.3,max_depth = 3,num_boosting_rounds=300,subsample=0.5,\n",
    "                 tree_method='exact',sample_type='weighted',feature_selector='greedy') \n",
    "preds_xgb=xgb.fit(xtrain,ytrain).predict(xtest)"
   ]
  },
  {
   "cell_type": "code",
   "execution_count": 113,
   "metadata": {},
   "outputs": [
    {
     "name": "stdout",
     "output_type": "stream",
     "text": [
      "0.6827342625576154\n",
      "R^2 score:0.7013651452907956\n",
      "R^2 score:0.6827342625576154\n"
     ]
    }
   ],
   "source": [
    "print(r2_score(y_true=ytest, y_pred=preds_xgb))\n",
    "print(f'R^2 score:{xgb.score(xtrain,ytrain)}')\n",
    "print(f'R^2 score:{xgb.score(xtest,ytest)}')"
   ]
  },
  {
   "cell_type": "code",
   "execution_count": 114,
   "metadata": {},
   "outputs": [
    {
     "name": "stdout",
     "output_type": "stream",
     "text": [
      "10.377547887166381\n"
     ]
    }
   ],
   "source": [
    "from sklearn.metrics import mean_squared_error\n",
    "mse=mean_squared_error(ytest,preds_xgb)\n",
    "lr_rmse_score=np.sqrt(mse)\n",
    "print(lr_rmse_score)"
   ]
  },
  {
   "cell_type": "markdown",
   "metadata": {},
   "source": [
    "## Gradient Boosting Regressor"
   ]
  },
  {
   "cell_type": "code",
   "execution_count": 115,
   "metadata": {},
   "outputs": [],
   "source": [
    "params = {'n_estimators': 1000,\n",
    "          'max_depth': 6,\n",
    "          'min_samples_split': 50,\n",
    "          'min_samples_leaf':50,\n",
    "          'learning_rate': 0.005,\n",
    "          'min_weight_fraction_leaf':0.0,\n",
    "          'loss': 'ls'}"
   ]
  },
  {
   "cell_type": "code",
   "execution_count": 116,
   "metadata": {},
   "outputs": [],
   "source": [
    "from sklearn.ensemble import GradientBoostingRegressor\n",
    "gbm=GradientBoostingRegressor()\n",
    "pred_gbm=gbm.fit(xtrain,ytrain).predict(xtest)"
   ]
  },
  {
   "cell_type": "code",
   "execution_count": 117,
   "metadata": {},
   "outputs": [
    {
     "name": "stdout",
     "output_type": "stream",
     "text": [
      "0.6811602081973491\n",
      "R^2 score:0.702894586559407\n",
      "R^2 score:0.6811602081973491\n"
     ]
    }
   ],
   "source": [
    "print(r2_score(ytest, pred_gbm))\n",
    "print(f'R^2 score:{gbm.score(xtrain,ytrain)}')\n",
    "print(f'R^2 score:{gbm.score(xtest,ytest)}')"
   ]
  },
  {
   "cell_type": "code",
   "execution_count": 118,
   "metadata": {},
   "outputs": [
    {
     "name": "stdout",
     "output_type": "stream",
     "text": [
      "10.403259163453992\n"
     ]
    }
   ],
   "source": [
    "from sklearn.metrics import mean_squared_error\n",
    "mse=mean_squared_error(ytest,pred_gbm)\n",
    "lr_rmse_score=np.sqrt(mse)\n",
    "print(lr_rmse_score)"
   ]
  },
  {
   "cell_type": "markdown",
   "metadata": {},
   "source": [
    "## SVM Regressor"
   ]
  },
  {
   "cell_type": "code",
   "execution_count": 119,
   "metadata": {},
   "outputs": [
    {
     "data": {
      "text/plain": [
       "Pipeline(steps=[('standardscaler', StandardScaler()),\n",
       "                ('svr', SVR(epsilon=0.0, kernel='linear'))])"
      ]
     },
     "execution_count": 119,
     "metadata": {},
     "output_type": "execute_result"
    }
   ],
   "source": [
    ">>> from sklearn.svm import SVR\n",
    ">>> from sklearn.pipeline import make_pipeline\n",
    ">>> from sklearn.preprocessing import StandardScaler\n",
    ">>> regr = make_pipeline(StandardScaler(), SVR( epsilon=0.0,kernel='linear'))\n",
    ">>> regr.fit(xtrain, ytrain)\n"
   ]
  },
  {
   "cell_type": "code",
   "execution_count": 120,
   "metadata": {},
   "outputs": [
    {
     "name": "stdout",
     "output_type": "stream",
     "text": [
      "R^2 score:0.665929431393199\n",
      "R^2 score:0.6684595702935403\n"
     ]
    }
   ],
   "source": [
    "pred_svm = regr.predict(xtest)\n",
    "print(f'R^2 score:{regr.score(xtrain,ytrain)}')\n",
    "print(f'R^2 score:{regr.score(xtest,ytest)}')"
   ]
  },
  {
   "cell_type": "code",
   "execution_count": 121,
   "metadata": {},
   "outputs": [
    {
     "name": "stdout",
     "output_type": "stream",
     "text": [
      "10.608437137825238\n"
     ]
    }
   ],
   "source": [
    "from sklearn.metrics import mean_squared_error\n",
    "mse=mean_squared_error(ytest,pred_svm)\n",
    "lr_rmse_score=np.sqrt(mse)\n",
    "print(lr_rmse_score)"
   ]
  },
  {
   "cell_type": "markdown",
   "metadata": {},
   "source": [
    "## Linear SVM Regressor"
   ]
  },
  {
   "cell_type": "code",
   "execution_count": 122,
   "metadata": {},
   "outputs": [
    {
     "name": "stderr",
     "output_type": "stream",
     "text": [
      "C:\\Users\\Navika\\Anaconda3\\lib\\site-packages\\sklearn\\svm\\_base.py:977: ConvergenceWarning: Liblinear failed to converge, increase the number of iterations.\n",
      "  \"the number of iterations.\", ConvergenceWarning)\n"
     ]
    },
    {
     "data": {
      "text/plain": [
       "Pipeline(steps=[('standardscaler', StandardScaler()),\n",
       "                ('linearsvr', LinearSVR(random_state=0, tol=1e-05))])"
      ]
     },
     "execution_count": 122,
     "metadata": {},
     "output_type": "execute_result"
    }
   ],
   "source": [
    ">>> from sklearn.svm import LinearSVR\n",
    ">>> from sklearn.pipeline import make_pipeline\n",
    ">>> from sklearn.preprocessing import StandardScaler\n",
    ">>> regrl = make_pipeline(StandardScaler(), LinearSVR(random_state=0, tol=1e-5))\n",
    ">>> regrl.fit(xtrain, ytrain)"
   ]
  },
  {
   "cell_type": "code",
   "execution_count": 123,
   "metadata": {},
   "outputs": [
    {
     "name": "stdout",
     "output_type": "stream",
     "text": [
      "R^2 score:0.665905723284282\n",
      "R^2 score:0.6685266486312376\n"
     ]
    }
   ],
   "source": [
    "pred_svr = regrl.predict(xtest)\n",
    "print(f'R^2 score:{regrl.score(xtrain,ytrain)}')\n",
    "print(f'R^2 score:{regrl.score(xtest,ytest)}')"
   ]
  },
  {
   "cell_type": "code",
   "execution_count": 124,
   "metadata": {},
   "outputs": [
    {
     "name": "stdout",
     "output_type": "stream",
     "text": [
      "10.607363916791282\n"
     ]
    }
   ],
   "source": [
    "from sklearn.metrics import mean_squared_error\n",
    "mse=mean_squared_error(ytest,pred_svr)\n",
    "lr_rmse_score=np.sqrt(mse)\n",
    "print(lr_rmse_score)"
   ]
  },
  {
   "cell_type": "markdown",
   "metadata": {},
   "source": [
    "## Nu SVM Regressor"
   ]
  },
  {
   "cell_type": "code",
   "execution_count": 125,
   "metadata": {},
   "outputs": [
    {
     "data": {
      "text/plain": [
       "Pipeline(steps=[('standardscaler', StandardScaler()),\n",
       "                ('nusvr', NuSVR(kernel='linear', nu=0.7))])"
      ]
     },
     "execution_count": 125,
     "metadata": {},
     "output_type": "execute_result"
    }
   ],
   "source": [
    ">>> from sklearn.svm import NuSVR\n",
    ">>> from sklearn.pipeline import make_pipeline\n",
    ">>> from sklearn.preprocessing import StandardScaler\n",
    ">>> nregr = make_pipeline(StandardScaler(), NuSVR(kernel='linear',nu=0.7))\n",
    ">>> nregr.fit(xtrain, ytrain)"
   ]
  },
  {
   "cell_type": "code",
   "execution_count": 126,
   "metadata": {},
   "outputs": [
    {
     "name": "stdout",
     "output_type": "stream",
     "text": [
      "R^2 score:0.6668116354953382\n",
      "R^2 score:0.6704286023503474\n"
     ]
    }
   ],
   "source": [
    "pred_nusvr = nregr.predict(xtest)\n",
    "print(f'R^2 score:{nregr.score(xtrain,ytrain)}')\n",
    "print(f'R^2 score:{nregr.score(xtest,ytest)}')"
   ]
  },
  {
   "cell_type": "code",
   "execution_count": 127,
   "metadata": {},
   "outputs": [
    {
     "name": "stdout",
     "output_type": "stream",
     "text": [
      "10.576888256366546\n"
     ]
    }
   ],
   "source": [
    "from sklearn.metrics import mean_squared_error\n",
    "mse=mean_squared_error(ytest,pred_nusvr)\n",
    "lr_rmse_score=np.sqrt(mse)\n",
    "print(lr_rmse_score)"
   ]
  },
  {
   "cell_type": "markdown",
   "metadata": {},
   "source": [
    "## Ada Regression"
   ]
  },
  {
   "cell_type": "code",
   "execution_count": 128,
   "metadata": {},
   "outputs": [],
   "source": [
    "from sklearn.tree import DecisionTreeRegressor\n",
    "from sklearn.ensemble import AdaBoostRegressor \n",
    "ada = AdaBoostRegressor(random_state=0, n_estimators=100,loss='linear',learning_rate=0.05,\n",
    "                       base_estimator=LinearRegression())\n",
    "pred_ada = ada.fit(xtrain, ytrain).predict(xtest)"
   ]
  },
  {
   "cell_type": "code",
   "execution_count": 129,
   "metadata": {},
   "outputs": [
    {
     "name": "stdout",
     "output_type": "stream",
     "text": [
      "R^2 score:0.6662967617036228\n",
      "R^2 score:0.6705534878986976\n"
     ]
    }
   ],
   "source": [
    "print(f'R^2 score:{ada.score(xtrain,ytrain)}')\n",
    "print(f'R^2 score:{ada.score(xtest,ytest)}')"
   ]
  },
  {
   "cell_type": "code",
   "execution_count": 130,
   "metadata": {},
   "outputs": [
    {
     "name": "stdout",
     "output_type": "stream",
     "text": [
      "10.574884099367278\n"
     ]
    }
   ],
   "source": [
    "from sklearn.metrics import mean_squared_error\n",
    "mse=mean_squared_error(ytest,pred_ada)\n",
    "lr_rmse_score=np.sqrt(mse)\n",
    "print(lr_rmse_score)"
   ]
  },
  {
   "cell_type": "markdown",
   "metadata": {},
   "source": [
    "## Bagging Regressor"
   ]
  },
  {
   "cell_type": "code",
   "execution_count": 131,
   "metadata": {},
   "outputs": [],
   "source": [
    "from sklearn.linear_model import Ridge"
   ]
  },
  {
   "cell_type": "code",
   "execution_count": 132,
   "metadata": {},
   "outputs": [
    {
     "name": "stdout",
     "output_type": "stream",
     "text": [
      "R^2 score:0.6681671949716828\n",
      "R^2 score:0.6722084000926721\n"
     ]
    }
   ],
   "source": [
    ">>> from sklearn.ensemble import BaggingRegressor\n",
    ">>> bag = BaggingRegressor(base_estimator=Ridge()).fit(xtrain,ytrain)\n",
    "pred_bag=bag.predict(xtest)\n",
    "print(f'R^2 score:{bag.score(xtrain,ytrain)}')\n",
    "print(f'R^2 score:{bag.score(xtest,ytest)}')"
   ]
  },
  {
   "cell_type": "code",
   "execution_count": 133,
   "metadata": {},
   "outputs": [
    {
     "name": "stdout",
     "output_type": "stream",
     "text": [
      "10.54829019566135\n"
     ]
    }
   ],
   "source": [
    "from sklearn.metrics import mean_squared_error\n",
    "mse=mean_squared_error(ytest,pred_bag)\n",
    "lr_rmse_score=np.sqrt(mse)\n",
    "print(lr_rmse_score)"
   ]
  },
  {
   "cell_type": "markdown",
   "metadata": {},
   "source": [
    "## KNN Regressor"
   ]
  },
  {
   "cell_type": "code",
   "execution_count": 137,
   "metadata": {},
   "outputs": [],
   "source": [
    "from sklearn.neighbors import KNeighborsRegressor\n",
    "knn = KNeighborsRegressor(n_neighbors=40)\n",
    "pred_knn=knn.fit(xtrain, ytrain).predict(xtest)"
   ]
  },
  {
   "cell_type": "code",
   "execution_count": 138,
   "metadata": {},
   "outputs": [
    {
     "name": "stdout",
     "output_type": "stream",
     "text": [
      "R^2 score:0.6841303260935931\n",
      "R^2 score:0.6793378461804729\n"
     ]
    }
   ],
   "source": [
    "print(f'R^2 score:{knn.score(xtrain,ytrain)}')\n",
    "print(f'R^2 score:{knn.score(xtest,ytest)}')"
   ]
  },
  {
   "cell_type": "code",
   "execution_count": 139,
   "metadata": {},
   "outputs": [
    {
     "name": "stdout",
     "output_type": "stream",
     "text": [
      "10.432947257841203\n"
     ]
    }
   ],
   "source": [
    "from sklearn.metrics import mean_squared_error\n",
    "mse=mean_squared_error(ytest,pred_knn)\n",
    "lr_rmse_score=np.sqrt(mse)\n",
    "print(lr_rmse_score)"
   ]
  },
  {
   "cell_type": "markdown",
   "metadata": {},
   "source": [
    "# Final Results and Observations with Prediction on Unseen Data"
   ]
  },
  {
   "cell_type": "markdown",
   "metadata": {},
   "source": [
    "# Results - WithOut Removal of Insignificant Features"
   ]
  },
  {
   "cell_type": "code",
   "execution_count": 140,
   "metadata": {},
   "outputs": [
    {
     "data": {
      "text/html": [
       "<div>\n",
       "<style scoped>\n",
       "    .dataframe tbody tr th:only-of-type {\n",
       "        vertical-align: middle;\n",
       "    }\n",
       "\n",
       "    .dataframe tbody tr th {\n",
       "        vertical-align: top;\n",
       "    }\n",
       "\n",
       "    .dataframe thead th {\n",
       "        text-align: right;\n",
       "    }\n",
       "</style>\n",
       "<table border=\"1\" class=\"dataframe\">\n",
       "  <thead>\n",
       "    <tr style=\"text-align: right;\">\n",
       "      <th></th>\n",
       "      <th>Algorithm</th>\n",
       "      <th>RMSE Error</th>\n",
       "    </tr>\n",
       "  </thead>\n",
       "  <tbody>\n",
       "    <tr>\n",
       "      <th>0</th>\n",
       "      <td>Polynomial Regression</td>\n",
       "      <td>Very High Error</td>\n",
       "    </tr>\n",
       "    <tr>\n",
       "      <th>1</th>\n",
       "      <td>Linear Regression</td>\n",
       "      <td>1155.95</td>\n",
       "    </tr>\n",
       "    <tr>\n",
       "      <th>2</th>\n",
       "      <td>Random Forest</td>\n",
       "      <td>1150</td>\n",
       "    </tr>\n",
       "    <tr>\n",
       "      <th>3</th>\n",
       "      <td>XGBoost</td>\n",
       "      <td>1152.94</td>\n",
       "    </tr>\n",
       "    <tr>\n",
       "      <th>4</th>\n",
       "      <td>Gradient Boosting</td>\n",
       "      <td>1155.1</td>\n",
       "    </tr>\n",
       "    <tr>\n",
       "      <th>5</th>\n",
       "      <td>SVM</td>\n",
       "      <td>1167</td>\n",
       "    </tr>\n",
       "    <tr>\n",
       "      <th>6</th>\n",
       "      <td>Linear SVM</td>\n",
       "      <td>1167.27</td>\n",
       "    </tr>\n",
       "    <tr>\n",
       "      <th>7</th>\n",
       "      <td>NuSVM</td>\n",
       "      <td>1164</td>\n",
       "    </tr>\n",
       "    <tr>\n",
       "      <th>8</th>\n",
       "      <td>AdaBoost</td>\n",
       "      <td>1157</td>\n",
       "    </tr>\n",
       "    <tr>\n",
       "      <th>9</th>\n",
       "      <td>Knn Model</td>\n",
       "      <td>1154</td>\n",
       "    </tr>\n",
       "    <tr>\n",
       "      <th>10</th>\n",
       "      <td>Bagging regressor</td>\n",
       "      <td>1157</td>\n",
       "    </tr>\n",
       "    <tr>\n",
       "      <th>11</th>\n",
       "      <td>LassoLars</td>\n",
       "      <td>1180</td>\n",
       "    </tr>\n",
       "  </tbody>\n",
       "</table>\n",
       "</div>"
      ],
      "text/plain": [
       "                Algorithm       RMSE Error\n",
       "0   Polynomial Regression  Very High Error\n",
       "1       Linear Regression          1155.95\n",
       "2           Random Forest             1150\n",
       "3                 XGBoost          1152.94\n",
       "4       Gradient Boosting           1155.1\n",
       "5                     SVM             1167\n",
       "6              Linear SVM          1167.27\n",
       "7                   NuSVM             1164\n",
       "8                AdaBoost             1157\n",
       "9               Knn Model             1154\n",
       "10      Bagging regressor             1157\n",
       "11              LassoLars             1180"
      ]
     },
     "execution_count": 140,
     "metadata": {},
     "output_type": "execute_result"
    }
   ],
   "source": [
    "Result_Summary1 = pd.DataFrame({\n",
    "                                'Algorithm':['Polynomial Regression','Linear Regression','Random Forest','XGBoost','Gradient Boosting','SVM','Linear SVM','NuSVM','AdaBoost','Knn Model','Bagging regressor','LassoLars'],\n",
    "                                'RMSE Error':['Very High Error',1155.95,1150,1152.94,1155.1,1167,1167.27,1164,1157,1154,1157, 1180]\n",
    "})\n",
    "Result_Summary1"
   ]
  },
  {
   "cell_type": "markdown",
   "metadata": {},
   "source": [
    "# Results - With Removal of Insignificant variables"
   ]
  },
  {
   "cell_type": "code",
   "execution_count": 141,
   "metadata": {},
   "outputs": [
    {
     "data": {
      "text/html": [
       "<div>\n",
       "<style scoped>\n",
       "    .dataframe tbody tr th:only-of-type {\n",
       "        vertical-align: middle;\n",
       "    }\n",
       "\n",
       "    .dataframe tbody tr th {\n",
       "        vertical-align: top;\n",
       "    }\n",
       "\n",
       "    .dataframe thead th {\n",
       "        text-align: right;\n",
       "    }\n",
       "</style>\n",
       "<table border=\"1\" class=\"dataframe\">\n",
       "  <thead>\n",
       "    <tr style=\"text-align: right;\">\n",
       "      <th></th>\n",
       "      <th>Algorithm</th>\n",
       "      <th>RMSE Error</th>\n",
       "    </tr>\n",
       "  </thead>\n",
       "  <tbody>\n",
       "    <tr>\n",
       "      <th>0</th>\n",
       "      <td>Polynomial Regression</td>\n",
       "      <td>1169.35</td>\n",
       "    </tr>\n",
       "    <tr>\n",
       "      <th>1</th>\n",
       "      <td>Linear Regression</td>\n",
       "      <td>1171.00</td>\n",
       "    </tr>\n",
       "    <tr>\n",
       "      <th>2</th>\n",
       "      <td>Random Forest</td>\n",
       "      <td>1148.55</td>\n",
       "    </tr>\n",
       "    <tr>\n",
       "      <th>3</th>\n",
       "      <td>XGBoost</td>\n",
       "      <td>1161.00</td>\n",
       "    </tr>\n",
       "    <tr>\n",
       "      <th>4</th>\n",
       "      <td>Gradient Boosting</td>\n",
       "      <td>1185.00</td>\n",
       "    </tr>\n",
       "    <tr>\n",
       "      <th>5</th>\n",
       "      <td>SVM</td>\n",
       "      <td>1184.00</td>\n",
       "    </tr>\n",
       "    <tr>\n",
       "      <th>6</th>\n",
       "      <td>AdaBoost</td>\n",
       "      <td>1161.00</td>\n",
       "    </tr>\n",
       "    <tr>\n",
       "      <th>7</th>\n",
       "      <td>Knn Model</td>\n",
       "      <td>1251.00</td>\n",
       "    </tr>\n",
       "    <tr>\n",
       "      <th>8</th>\n",
       "      <td>Bagging regressor</td>\n",
       "      <td>1170.00</td>\n",
       "    </tr>\n",
       "    <tr>\n",
       "      <th>9</th>\n",
       "      <td>Linear SVM</td>\n",
       "      <td>1189.00</td>\n",
       "    </tr>\n",
       "  </tbody>\n",
       "</table>\n",
       "</div>"
      ],
      "text/plain": [
       "               Algorithm  RMSE Error\n",
       "0  Polynomial Regression     1169.35\n",
       "1      Linear Regression     1171.00\n",
       "2          Random Forest     1148.55\n",
       "3                XGBoost     1161.00\n",
       "4      Gradient Boosting     1185.00\n",
       "5                    SVM     1184.00\n",
       "6               AdaBoost     1161.00\n",
       "7              Knn Model     1251.00\n",
       "8      Bagging regressor     1170.00\n",
       "9             Linear SVM     1189.00"
      ]
     },
     "execution_count": 141,
     "metadata": {},
     "output_type": "execute_result"
    }
   ],
   "source": [
    "Result_Summary2 = pd.DataFrame({\n",
    "                                'Algorithm':['Polynomial Regression','Linear Regression','Random Forest','XGBoost','Gradient Boosting','SVM','AdaBoost','Knn Model','Bagging regressor','Linear SVM'],\n",
    "                                'RMSE Error':[1169.35,1171,1148.55,1161,1185,1184,1161,1251,1170,1189]\n",
    "})\n",
    "Result_Summary2"
   ]
  },
  {
   "cell_type": "markdown",
   "metadata": {},
   "source": [
    "Final Obseravtions:\n",
    "1) The model was transformed before training and testing. When the input was transformed for non-linearity as well, so that gave us our best result.\n",
    "\n",
    "2) When more features are introduced through feature extraction and feature transformation, accuracy increases but rmse error increases or doesnt get affected.\n",
    "\n",
    "3) Rmse gets affected due to high multicolinearity amonsgt varibles. But if those variables are dropped which show high multicollinearity, the accuracy is compromised.\n",
    "\n",
    "4) Outlier removal didn't help with the model because they reduce the variance, and then the model underperformed.\n",
    "\n",
    "5)So it seems that the highest accuarcy possible is 68-69%, as there are too many categorical variables. The data was already non-liear on top of that.\n",
    "\n",
    "6) We tranformed the whole dataset and our accuracy score got a little better.\n"
   ]
  },
  {
   "cell_type": "markdown",
   "metadata": {},
   "source": [
    "# Predictions with the unseen data and the rmse error."
   ]
  },
  {
   "cell_type": "raw",
   "metadata": {},
   "source": [
    "pred_poly2= poly.fit(xtrain,ytrain).predict(testdummy)"
   ]
  },
  {
   "cell_type": "code",
   "execution_count": 142,
   "metadata": {},
   "outputs": [],
   "source": [
    "pred_lm2 = lm.fit(xtrain,ytrain).predict(testdummy)"
   ]
  },
  {
   "cell_type": "code",
   "execution_count": 143,
   "metadata": {},
   "outputs": [],
   "source": [
    "from sklearn.ensemble import RandomForestRegressor\n",
    "rf=RandomForestRegressor(**params1)\n",
    "rf.fit(xtrain,ytrain)\n",
    "pred_rf2=rf.predict(testdummy)"
   ]
  },
  {
   "cell_type": "code",
   "execution_count": 144,
   "metadata": {},
   "outputs": [
    {
     "name": "stderr",
     "output_type": "stream",
     "text": [
      "C:\\Users\\Navika\\Anaconda3\\lib\\site-packages\\xgboost\\core.py:587: FutureWarning: Series.base is deprecated and will be removed in a future version\n",
      "  if getattr(data, 'base', None) is not None and \\\n"
     ]
    },
    {
     "name": "stdout",
     "output_type": "stream",
     "text": [
      "[02:17:19] WARNING: C:/Jenkins/workspace/xgboost-win64_release_0.90/src/objective/regression_obj.cu:152: reg:linear is now deprecated in favor of reg:squarederror.\n"
     ]
    }
   ],
   "source": [
    "xgb=XGBRegressor() \n",
    "preds_xgb2=xgb.fit(xtrain,ytrain).predict(testdummy)"
   ]
  },
  {
   "cell_type": "code",
   "execution_count": 145,
   "metadata": {},
   "outputs": [],
   "source": [
    "from sklearn.ensemble import GradientBoostingRegressor\n",
    "gbm=GradientBoostingRegressor(**params)\n",
    "pred_gbm21=gbm.fit(xtrain,ytrain).predict(testdummy)"
   ]
  },
  {
   "cell_type": "code",
   "execution_count": 146,
   "metadata": {},
   "outputs": [],
   "source": [
    ">>> from sklearn.svm import SVR\n",
    ">>> from sklearn.pipeline import make_pipeline\n",
    ">>> from sklearn.preprocessing import StandardScaler\n",
    ">>> svm = make_pipeline(StandardScaler(), SVR( epsilon=0.0,kernel='linear'))\n",
    ">>> pred_svm2 = svm.fit(xtrain, ytrain).predict(testdummy)"
   ]
  },
  {
   "cell_type": "code",
   "execution_count": 147,
   "metadata": {},
   "outputs": [
    {
     "name": "stderr",
     "output_type": "stream",
     "text": [
      "C:\\Users\\Navika\\Anaconda3\\lib\\site-packages\\sklearn\\svm\\_base.py:977: ConvergenceWarning: Liblinear failed to converge, increase the number of iterations.\n",
      "  \"the number of iterations.\", ConvergenceWarning)\n"
     ]
    }
   ],
   "source": [
    "pred_svr2 = regrl.fit(xtrain, ytrain).predict(testdummy)"
   ]
  },
  {
   "cell_type": "code",
   "execution_count": 148,
   "metadata": {},
   "outputs": [],
   "source": [
    "pred_nregr2 = nregr.fit(xtrain,ytrain).predict(testdummy)"
   ]
  },
  {
   "cell_type": "code",
   "execution_count": 149,
   "metadata": {},
   "outputs": [],
   "source": [
    "pred_ada2 = ada.fit(xtrain,ytrain).predict(testdummy)"
   ]
  },
  {
   "cell_type": "code",
   "execution_count": 150,
   "metadata": {},
   "outputs": [],
   "source": [
    "pred_bag2 = bag.fit(xtrain,ytrain).predict(testdummy)"
   ]
  },
  {
   "cell_type": "code",
   "execution_count": 151,
   "metadata": {},
   "outputs": [
    {
     "name": "stderr",
     "output_type": "stream",
     "text": [
      "C:\\Users\\Navika\\Anaconda3\\lib\\site-packages\\sklearn\\linear_model\\_least_angle.py:577: ConvergenceWarning: Regressors in active set degenerate. Dropping a regressor, after 5 iterations, i.e. alpha=4.912e-03, with an active set of 5 regressors, and the smallest cholesky pivot element being 1.490e-08. Reduce max_iter or increase eps parameters.\n",
      "  ConvergenceWarning)\n",
      "C:\\Users\\Navika\\Anaconda3\\lib\\site-packages\\sklearn\\linear_model\\_least_angle.py:577: ConvergenceWarning: Regressors in active set degenerate. Dropping a regressor, after 5 iterations, i.e. alpha=4.912e-03, with an active set of 5 regressors, and the smallest cholesky pivot element being 2.220e-16. Reduce max_iter or increase eps parameters.\n",
      "  ConvergenceWarning)\n",
      "C:\\Users\\Navika\\Anaconda3\\lib\\site-packages\\sklearn\\linear_model\\_least_angle.py:577: ConvergenceWarning: Regressors in active set degenerate. Dropping a regressor, after 15 iterations, i.e. alpha=3.698e-03, with an active set of 15 regressors, and the smallest cholesky pivot element being 2.220e-16. Reduce max_iter or increase eps parameters.\n",
      "  ConvergenceWarning)\n",
      "C:\\Users\\Navika\\Anaconda3\\lib\\site-packages\\sklearn\\linear_model\\_least_angle.py:577: ConvergenceWarning: Regressors in active set degenerate. Dropping a regressor, after 20 iterations, i.e. alpha=3.089e-03, with an active set of 20 regressors, and the smallest cholesky pivot element being 1.490e-08. Reduce max_iter or increase eps parameters.\n",
      "  ConvergenceWarning)\n",
      "C:\\Users\\Navika\\Anaconda3\\lib\\site-packages\\sklearn\\linear_model\\_least_angle.py:577: ConvergenceWarning: Regressors in active set degenerate. Dropping a regressor, after 28 iterations, i.e. alpha=2.479e-03, with an active set of 28 regressors, and the smallest cholesky pivot element being 2.220e-16. Reduce max_iter or increase eps parameters.\n",
      "  ConvergenceWarning)\n",
      "C:\\Users\\Navika\\Anaconda3\\lib\\site-packages\\sklearn\\linear_model\\_least_angle.py:577: ConvergenceWarning: Regressors in active set degenerate. Dropping a regressor, after 29 iterations, i.e. alpha=2.454e-03, with an active set of 29 regressors, and the smallest cholesky pivot element being 1.490e-08. Reduce max_iter or increase eps parameters.\n",
      "  ConvergenceWarning)\n",
      "C:\\Users\\Navika\\Anaconda3\\lib\\site-packages\\sklearn\\linear_model\\_least_angle.py:577: ConvergenceWarning: Regressors in active set degenerate. Dropping a regressor, after 29 iterations, i.e. alpha=2.454e-03, with an active set of 29 regressors, and the smallest cholesky pivot element being 1.054e-08. Reduce max_iter or increase eps parameters.\n",
      "  ConvergenceWarning)\n",
      "C:\\Users\\Navika\\Anaconda3\\lib\\site-packages\\sklearn\\linear_model\\_least_angle.py:577: ConvergenceWarning: Regressors in active set degenerate. Dropping a regressor, after 38 iterations, i.e. alpha=2.140e-03, with an active set of 38 regressors, and the smallest cholesky pivot element being 1.054e-08. Reduce max_iter or increase eps parameters.\n",
      "  ConvergenceWarning)\n",
      "C:\\Users\\Navika\\Anaconda3\\lib\\site-packages\\sklearn\\linear_model\\_least_angle.py:577: ConvergenceWarning: Regressors in active set degenerate. Dropping a regressor, after 42 iterations, i.e. alpha=1.966e-03, with an active set of 42 regressors, and the smallest cholesky pivot element being 2.220e-16. Reduce max_iter or increase eps parameters.\n",
      "  ConvergenceWarning)\n",
      "C:\\Users\\Navika\\Anaconda3\\lib\\site-packages\\sklearn\\linear_model\\_least_angle.py:577: ConvergenceWarning: Regressors in active set degenerate. Dropping a regressor, after 45 iterations, i.e. alpha=1.890e-03, with an active set of 45 regressors, and the smallest cholesky pivot element being 1.054e-08. Reduce max_iter or increase eps parameters.\n",
      "  ConvergenceWarning)\n",
      "C:\\Users\\Navika\\Anaconda3\\lib\\site-packages\\sklearn\\linear_model\\_least_angle.py:577: ConvergenceWarning: Regressors in active set degenerate. Dropping a regressor, after 49 iterations, i.e. alpha=1.725e-03, with an active set of 49 regressors, and the smallest cholesky pivot element being 1.490e-08. Reduce max_iter or increase eps parameters.\n",
      "  ConvergenceWarning)\n",
      "C:\\Users\\Navika\\Anaconda3\\lib\\site-packages\\sklearn\\linear_model\\_least_angle.py:577: ConvergenceWarning: Regressors in active set degenerate. Dropping a regressor, after 49 iterations, i.e. alpha=1.725e-03, with an active set of 49 regressors, and the smallest cholesky pivot element being 2.107e-08. Reduce max_iter or increase eps parameters.\n",
      "  ConvergenceWarning)\n",
      "C:\\Users\\Navika\\Anaconda3\\lib\\site-packages\\sklearn\\linear_model\\_least_angle.py:577: ConvergenceWarning: Regressors in active set degenerate. Dropping a regressor, after 50 iterations, i.e. alpha=1.670e-03, with an active set of 50 regressors, and the smallest cholesky pivot element being 1.054e-08. Reduce max_iter or increase eps parameters.\n",
      "  ConvergenceWarning)\n",
      "C:\\Users\\Navika\\Anaconda3\\lib\\site-packages\\sklearn\\linear_model\\_least_angle.py:577: ConvergenceWarning: Regressors in active set degenerate. Dropping a regressor, after 54 iterations, i.e. alpha=1.560e-03, with an active set of 54 regressors, and the smallest cholesky pivot element being 1.054e-08. Reduce max_iter or increase eps parameters.\n",
      "  ConvergenceWarning)\n",
      "C:\\Users\\Navika\\Anaconda3\\lib\\site-packages\\sklearn\\linear_model\\_least_angle.py:577: ConvergenceWarning: Regressors in active set degenerate. Dropping a regressor, after 61 iterations, i.e. alpha=1.289e-03, with an active set of 61 regressors, and the smallest cholesky pivot element being 2.220e-16. Reduce max_iter or increase eps parameters.\n",
      "  ConvergenceWarning)\n",
      "C:\\Users\\Navika\\Anaconda3\\lib\\site-packages\\sklearn\\linear_model\\_least_angle.py:577: ConvergenceWarning: Regressors in active set degenerate. Dropping a regressor, after 69 iterations, i.e. alpha=1.107e-03, with an active set of 69 regressors, and the smallest cholesky pivot element being 1.490e-08. Reduce max_iter or increase eps parameters.\n",
      "  ConvergenceWarning)\n",
      "C:\\Users\\Navika\\Anaconda3\\lib\\site-packages\\sklearn\\linear_model\\_least_angle.py:577: ConvergenceWarning: Regressors in active set degenerate. Dropping a regressor, after 69 iterations, i.e. alpha=1.107e-03, with an active set of 69 regressors, and the smallest cholesky pivot element being 2.107e-08. Reduce max_iter or increase eps parameters.\n",
      "  ConvergenceWarning)\n",
      "C:\\Users\\Navika\\Anaconda3\\lib\\site-packages\\sklearn\\linear_model\\_least_angle.py:577: ConvergenceWarning: Regressors in active set degenerate. Dropping a regressor, after 74 iterations, i.e. alpha=9.793e-04, with an active set of 74 regressors, and the smallest cholesky pivot element being 1.054e-08. Reduce max_iter or increase eps parameters.\n",
      "  ConvergenceWarning)\n",
      "C:\\Users\\Navika\\Anaconda3\\lib\\site-packages\\sklearn\\linear_model\\_least_angle.py:577: ConvergenceWarning: Regressors in active set degenerate. Dropping a regressor, after 78 iterations, i.e. alpha=8.510e-04, with an active set of 78 regressors, and the smallest cholesky pivot element being 1.054e-08. Reduce max_iter or increase eps parameters.\n",
      "  ConvergenceWarning)\n",
      "C:\\Users\\Navika\\Anaconda3\\lib\\site-packages\\sklearn\\linear_model\\_least_angle.py:577: ConvergenceWarning: Regressors in active set degenerate. Dropping a regressor, after 79 iterations, i.e. alpha=7.779e-04, with an active set of 79 regressors, and the smallest cholesky pivot element being 1.490e-08. Reduce max_iter or increase eps parameters.\n",
      "  ConvergenceWarning)\n",
      "C:\\Users\\Navika\\Anaconda3\\lib\\site-packages\\sklearn\\linear_model\\_least_angle.py:577: ConvergenceWarning: Regressors in active set degenerate. Dropping a regressor, after 81 iterations, i.e. alpha=7.595e-04, with an active set of 81 regressors, and the smallest cholesky pivot element being 2.980e-08. Reduce max_iter or increase eps parameters.\n",
      "  ConvergenceWarning)\n",
      "C:\\Users\\Navika\\Anaconda3\\lib\\site-packages\\sklearn\\linear_model\\_least_angle.py:577: ConvergenceWarning: Regressors in active set degenerate. Dropping a regressor, after 83 iterations, i.e. alpha=6.959e-04, with an active set of 83 regressors, and the smallest cholesky pivot element being 4.081e-08. Reduce max_iter or increase eps parameters.\n",
      "  ConvergenceWarning)\n",
      "C:\\Users\\Navika\\Anaconda3\\lib\\site-packages\\sklearn\\linear_model\\_least_angle.py:577: ConvergenceWarning: Regressors in active set degenerate. Dropping a regressor, after 84 iterations, i.e. alpha=6.892e-04, with an active set of 84 regressors, and the smallest cholesky pivot element being 4.081e-08. Reduce max_iter or increase eps parameters.\n",
      "  ConvergenceWarning)\n",
      "C:\\Users\\Navika\\Anaconda3\\lib\\site-packages\\sklearn\\linear_model\\_least_angle.py:577: ConvergenceWarning: Regressors in active set degenerate. Dropping a regressor, after 86 iterations, i.e. alpha=5.855e-04, with an active set of 86 regressors, and the smallest cholesky pivot element being 2.220e-16. Reduce max_iter or increase eps parameters.\n",
      "  ConvergenceWarning)\n",
      "C:\\Users\\Navika\\Anaconda3\\lib\\site-packages\\sklearn\\linear_model\\_least_angle.py:577: ConvergenceWarning: Regressors in active set degenerate. Dropping a regressor, after 88 iterations, i.e. alpha=5.195e-04, with an active set of 88 regressors, and the smallest cholesky pivot element being 2.107e-08. Reduce max_iter or increase eps parameters.\n",
      "  ConvergenceWarning)\n",
      "C:\\Users\\Navika\\Anaconda3\\lib\\site-packages\\sklearn\\linear_model\\_least_angle.py:577: ConvergenceWarning: Regressors in active set degenerate. Dropping a regressor, after 89 iterations, i.e. alpha=4.780e-04, with an active set of 89 regressors, and the smallest cholesky pivot element being 2.220e-16. Reduce max_iter or increase eps parameters.\n",
      "  ConvergenceWarning)\n",
      "C:\\Users\\Navika\\Anaconda3\\lib\\site-packages\\sklearn\\linear_model\\_least_angle.py:577: ConvergenceWarning: Regressors in active set degenerate. Dropping a regressor, after 89 iterations, i.e. alpha=4.780e-04, with an active set of 89 regressors, and the smallest cholesky pivot element being 4.593e-08. Reduce max_iter or increase eps parameters.\n",
      "  ConvergenceWarning)\n",
      "C:\\Users\\Navika\\Anaconda3\\lib\\site-packages\\sklearn\\linear_model\\_least_angle.py:577: ConvergenceWarning: Regressors in active set degenerate. Dropping a regressor, after 89 iterations, i.e. alpha=4.768e-04, with an active set of 89 regressors, and the smallest cholesky pivot element being 1.490e-08. Reduce max_iter or increase eps parameters.\n",
      "  ConvergenceWarning)\n",
      "C:\\Users\\Navika\\Anaconda3\\lib\\site-packages\\sklearn\\linear_model\\_least_angle.py:577: ConvergenceWarning: Regressors in active set degenerate. Dropping a regressor, after 89 iterations, i.e. alpha=4.333e-04, with an active set of 89 regressors, and the smallest cholesky pivot element being 2.107e-08. Reduce max_iter or increase eps parameters.\n",
      "  ConvergenceWarning)\n",
      "C:\\Users\\Navika\\Anaconda3\\lib\\site-packages\\sklearn\\linear_model\\_least_angle.py:577: ConvergenceWarning: Regressors in active set degenerate. Dropping a regressor, after 90 iterations, i.e. alpha=4.113e-04, with an active set of 90 regressors, and the smallest cholesky pivot element being 5.576e-08. Reduce max_iter or increase eps parameters.\n",
      "  ConvergenceWarning)\n",
      "C:\\Users\\Navika\\Anaconda3\\lib\\site-packages\\sklearn\\linear_model\\_least_angle.py:577: ConvergenceWarning: Regressors in active set degenerate. Dropping a regressor, after 90 iterations, i.e. alpha=4.039e-04, with an active set of 90 regressors, and the smallest cholesky pivot element being 1.054e-08. Reduce max_iter or increase eps parameters.\n",
      "  ConvergenceWarning)\n",
      "C:\\Users\\Navika\\Anaconda3\\lib\\site-packages\\sklearn\\linear_model\\_least_angle.py:577: ConvergenceWarning: Regressors in active set degenerate. Dropping a regressor, after 90 iterations, i.e. alpha=3.994e-04, with an active set of 90 regressors, and the smallest cholesky pivot element being 4.215e-08. Reduce max_iter or increase eps parameters.\n",
      "  ConvergenceWarning)\n",
      "C:\\Users\\Navika\\Anaconda3\\lib\\site-packages\\sklearn\\linear_model\\_least_angle.py:577: ConvergenceWarning: Regressors in active set degenerate. Dropping a regressor, after 90 iterations, i.e. alpha=3.863e-04, with an active set of 90 regressors, and the smallest cholesky pivot element being 1.054e-08. Reduce max_iter or increase eps parameters.\n",
      "  ConvergenceWarning)\n",
      "C:\\Users\\Navika\\Anaconda3\\lib\\site-packages\\sklearn\\linear_model\\_least_angle.py:577: ConvergenceWarning: Regressors in active set degenerate. Dropping a regressor, after 91 iterations, i.e. alpha=3.770e-04, with an active set of 91 regressors, and the smallest cholesky pivot element being 2.220e-16. Reduce max_iter or increase eps parameters.\n",
      "  ConvergenceWarning)\n",
      "C:\\Users\\Navika\\Anaconda3\\lib\\site-packages\\sklearn\\linear_model\\_least_angle.py:603: ConvergenceWarning: Early stopping the lars path, as the residues are small and the current value of alpha is no longer well controlled. 92 iterations, alpha=5.013e-04, previous alpha=3.656e-04, with an active set of 91 regressors.\n",
      "  ConvergenceWarning)\n"
     ]
    }
   ],
   "source": [
    "from sklearn import linear_model\n",
    "regl = linear_model.LassoLarsIC(criterion='aic')\n",
    "pred_regl2 = regl.fit(xtrain,ytrain).predict(testdummy)"
   ]
  },
  {
   "cell_type": "raw",
   "metadata": {},
   "source": [
    "Notes: \n",
    "\n",
    "The unit of RMSE is same as dependent variable. If your data has a range of 0 to 100000 then RMSE value of 3000 is small, but if the range goes from 0 to 1, it is pretty huge."
   ]
  },
  {
   "cell_type": "raw",
   "metadata": {},
   "source": [
    "remove outliers data - no effect\n",
    "Do feature selection, some of features may not be as informative.\n",
    "Try to combine some features to make it more meaningful e.g. ratio of some feature may be more meaningful than individual features to predict price.\n",
    "May be the linear regression under fitting or over fitting the data you can check ROC curve and try to use more complex model like polynomial regression or regularization respectively"
   ]
  }
 ],
 "metadata": {
  "kernelspec": {
   "display_name": "Python 3",
   "language": "python",
   "name": "python3"
  },
  "language_info": {
   "codemirror_mode": {
    "name": "ipython",
    "version": 3
   },
   "file_extension": ".py",
   "mimetype": "text/x-python",
   "name": "python",
   "nbconvert_exporter": "python",
   "pygments_lexer": "ipython3",
   "version": "3.7.4"
  }
 },
 "nbformat": 4,
 "nbformat_minor": 2
}
